{
 "cells": [
  {
   "cell_type": "markdown",
   "metadata": {
    "id": "r5PA3GHwh2a8"
   },
   "source": [
    "### 1. Write a program to reverse a string."
   ]
  },
  {
   "cell_type": "code",
   "execution_count": 1,
   "metadata": {
    "id": "f2IKaBRvgu8A"
   },
   "outputs": [
    {
     "name": "stdout",
     "output_type": "stream",
     "text": [
      "dawrahd tii\n"
     ]
    }
   ],
   "source": [
    "S =\"iit dharwad\"\n",
    "print(S[::-1])"
   ]
  },
  {
   "cell_type": "markdown",
   "metadata": {
    "id": "bzFJDw2ph22B"
   },
   "source": [
    "### 2. Check if a string is a palindrome."
   ]
  },
  {
   "cell_type": "code",
   "execution_count": 2,
   "metadata": {
    "id": "14NK2mfhgu68"
   },
   "outputs": [
    {
     "name": "stdout",
     "output_type": "stream",
     "text": [
      "It is not a palindrome\n"
     ]
    }
   ],
   "source": [
    "s1 = S[::-1]\n",
    "s2 = S\n",
    "if(s1 == S):\n",
    "    print(\"It is palindrome\")\n",
    "else:\n",
    "    print(\"It is not a palindrome\")"
   ]
  },
  {
   "cell_type": "code",
   "execution_count": 3,
   "metadata": {
    "colab": {
     "base_uri": "https://localhost:8080/"
    },
    "id": "3gH0i5Fp2dWy",
    "outputId": "fc901852-af88-4169-d3a8-c4199625753c"
   },
   "outputs": [
    {
     "name": "stdout",
     "output_type": "stream",
     "text": [
      "It is palindrome\n"
     ]
    }
   ],
   "source": [
    "if(s2 == S):\n",
    "    print(\"It is palindrome\")\n",
    "else:\n",
    "    print(\"It is not a palindrome\")"
   ]
  },
  {
   "cell_type": "markdown",
   "metadata": {
    "id": "urIg1opQh4EC"
   },
   "source": [
    "### 3. Convert a string to uppercase."
   ]
  },
  {
   "cell_type": "code",
   "execution_count": 4,
   "metadata": {
    "colab": {
     "base_uri": "https://localhost:8080/"
    },
    "id": "-jSZ82dKgu5q",
    "outputId": "7a080517-74ab-43bb-d077-076611f97250"
   },
   "outputs": [
    {
     "data": {
      "text/plain": [
       "'DAWRAHD TII'"
      ]
     },
     "execution_count": 4,
     "metadata": {},
     "output_type": "execute_result"
    }
   ],
   "source": [
    "s1.upper()"
   ]
  },
  {
   "cell_type": "markdown",
   "metadata": {
    "id": "P8BPSsFUh4id"
   },
   "source": [
    "### 4. Convert a string to lowercase."
   ]
  },
  {
   "cell_type": "code",
   "execution_count": 5,
   "metadata": {
    "colab": {
     "base_uri": "https://localhost:8080/"
    },
    "id": "tUhuGWr3guqJ",
    "outputId": "6abab193-b5aa-42a6-ddb9-bc0e415d8f8b"
   },
   "outputs": [
    {
     "data": {
      "text/plain": [
       "'dawrahd tii'"
      ]
     },
     "execution_count": 5,
     "metadata": {},
     "output_type": "execute_result"
    }
   ],
   "source": [
    "s1.lower()"
   ]
  },
  {
   "cell_type": "markdown",
   "metadata": {
    "id": "TGhizhBvh59p"
   },
   "source": [
    "### 5. Count the number of vowels in a string."
   ]
  },
  {
   "cell_type": "code",
   "execution_count": 6,
   "metadata": {
    "colab": {
     "base_uri": "https://localhost:8080/"
    },
    "id": "ZfzxLxJmguoo",
    "outputId": "1ae458c3-8e7c-432b-e7c7-733267552107"
   },
   "outputs": [],
   "source": [
    "count  = 0\n",
    "for char in S:\n",
    "    if char in ([\"a\",\"e\",\"i\",\"o\",\"u\"]):\n",
    "        count = count+1"
   ]
  },
  {
   "cell_type": "code",
   "execution_count": 7,
   "metadata": {},
   "outputs": [
    {
     "name": "stdout",
     "output_type": "stream",
     "text": [
      "4\n"
     ]
    }
   ],
   "source": [
    "print(count)"
   ]
  },
  {
   "cell_type": "markdown",
   "metadata": {
    "id": "pDPuJd6Sh6Z_"
   },
   "source": [
    "### 6. Count the number of consonants in a string."
   ]
  },
  {
   "cell_type": "code",
   "execution_count": 8,
   "metadata": {
    "colab": {
     "base_uri": "https://localhost:8080/"
    },
    "id": "D18NMx_Eguni",
    "outputId": "8cce33ac-6e11-4001-da27-d4629fed83f7"
   },
   "outputs": [],
   "source": [
    "count1 = 0\n",
    "count2 = 0"
   ]
  },
  {
   "cell_type": "code",
   "execution_count": 9,
   "metadata": {},
   "outputs": [],
   "source": [
    "for char in S:\n",
    "    if char in ([\"a\",\"e\",\"i\",\"o\",\"u\",\" \"]):\n",
    "        count2 = 0\n",
    "    else:\n",
    "        count1 += 1"
   ]
  },
  {
   "cell_type": "code",
   "execution_count": 10,
   "metadata": {},
   "outputs": [
    {
     "name": "stdout",
     "output_type": "stream",
     "text": [
      "6\n"
     ]
    }
   ],
   "source": [
    "print(count1)"
   ]
  },
  {
   "cell_type": "markdown",
   "metadata": {
    "id": "xmltReZJh7HJ"
   },
   "source": [
    "### 7. Remove all whitespaces from a string."
   ]
  },
  {
   "cell_type": "code",
   "execution_count": 11,
   "metadata": {
    "colab": {
     "base_uri": "https://localhost:8080/"
    },
    "id": "DhdXUxEfgufk",
    "outputId": "37874fc0-1f64-453e-f93b-e3780f77a610"
   },
   "outputs": [
    {
     "data": {
      "text/plain": [
       "'iitdharwad'"
      ]
     },
     "execution_count": 11,
     "metadata": {},
     "output_type": "execute_result"
    }
   ],
   "source": [
    " S.replace(\" \",\"\")"
   ]
  },
  {
   "cell_type": "markdown",
   "metadata": {
    "id": "A6TS1nw7h7j3"
   },
   "source": [
    "### 8. Find the length of a string without using the `len()` function."
   ]
  },
  {
   "cell_type": "code",
   "execution_count": 12,
   "metadata": {
    "colab": {
     "base_uri": "https://localhost:8080/"
    },
    "id": "S6YEx6Jf8swb",
    "outputId": "00dbb61a-eef3-47b0-eba9-02fe9e0061df"
   },
   "outputs": [],
   "source": [
    "cou = 0\n",
    "for i in S:\n",
    "    cou += 1"
   ]
  },
  {
   "cell_type": "code",
   "execution_count": 13,
   "metadata": {},
   "outputs": [
    {
     "name": "stdout",
     "output_type": "stream",
     "text": [
      "11\n"
     ]
    }
   ],
   "source": [
    "print (cou)"
   ]
  },
  {
   "cell_type": "markdown",
   "metadata": {
    "id": "09QoEfVDh8Kg"
   },
   "source": [
    "### 9. Check if a string contains a specific word."
   ]
  },
  {
   "cell_type": "code",
   "execution_count": 14,
   "metadata": {
    "colab": {
     "base_uri": "https://localhost:8080/"
    },
    "id": "4F2a-BQZgubj",
    "outputId": "7e57e180-78ad-4a23-d169-3e43eb8ca341"
   },
   "outputs": [
    {
     "name": "stdout",
     "output_type": "stream",
     "text": [
      "String contains the word 'har'.\n"
     ]
    }
   ],
   "source": [
    "word_to_check = \"har\"\n",
    "if word_to_check in S:\n",
    "    print(\"String contains the word '{}'.\".format(word_to_check)) \n",
    "else:\n",
    "    print(\"String does not contain the word '{}'.\".format(word_to_check))"
   ]
  },
  {
   "cell_type": "markdown",
   "metadata": {
    "id": "cK7kRNGVkKYX"
   },
   "source": [
    "### 10. Replace a word in a string with another word."
   ]
  },
  {
   "cell_type": "code",
   "execution_count": 15,
   "metadata": {
    "colab": {
     "base_uri": "https://localhost:8080/"
    },
    "id": "VDPL4fa8guYG",
    "outputId": "1e1884e7-3940-4e09-ecc4-d9953f288598"
   },
   "outputs": [
    {
     "name": "stdout",
     "output_type": "stream",
     "text": [
      "iit delhi\n"
     ]
    }
   ],
   "source": [
    "new_string = S.replace(\"harwad\", \"elhi\")\n",
    "print(new_string)"
   ]
  },
  {
   "cell_type": "markdown",
   "metadata": {
    "id": "Naa4KM54kLA_"
   },
   "source": [
    "### 11. Count the occurrences of a word in a string."
   ]
  },
  {
   "cell_type": "code",
   "execution_count": 16,
   "metadata": {
    "colab": {
     "base_uri": "https://localhost:8080/"
    },
    "id": "sRE6QBJ0guR1",
    "outputId": "531b171c-c041-4fa0-97c8-ee4141444db4"
   },
   "outputs": [
    {
     "name": "stdout",
     "output_type": "stream",
     "text": [
      "Occurrences of 'i' in the string: 2\n"
     ]
    }
   ],
   "source": [
    "word_to_count = \"i\"\n",
    "count_occurrences = S.count(word_to_count)\n",
    "print(\"Occurrences of '{}' in the string: {}\".format(word_to_count, count_occurrences))"
   ]
  },
  {
   "cell_type": "markdown",
   "metadata": {
    "id": "rdnYclFZkLci"
   },
   "source": [
    "### 12. Find the first occurrence of a word in a string."
   ]
  },
  {
   "cell_type": "code",
   "execution_count": 17,
   "metadata": {
    "colab": {
     "base_uri": "https://localhost:8080/"
    },
    "id": "nXFWjs60guO1",
    "outputId": "3635958e-ddcd-4d82-a572-570d409fe469"
   },
   "outputs": [
    {
     "name": "stdout",
     "output_type": "stream",
     "text": [
      "First occurrence of 'i' at index: 0\n"
     ]
    }
   ],
   "source": [
    "first_occurrence_index = S.find(word_to_count)\n",
    "print(\"First occurrence of '{}' at index: {}\".format(word_to_count, first_occurrence_index)) "
   ]
  },
  {
   "cell_type": "markdown",
   "metadata": {
    "id": "HdrVKIyQkMGW"
   },
   "source": [
    "### 13. Find the last occurrence of a word in a string."
   ]
  },
  {
   "cell_type": "code",
   "execution_count": 18,
   "metadata": {
    "colab": {
     "base_uri": "https://localhost:8080/"
    },
    "id": "ZAReFGMvguM1",
    "outputId": "06503a28-aa8e-4904-9ee5-d37ca9e2fb6e"
   },
   "outputs": [
    {
     "name": "stdout",
     "output_type": "stream",
     "text": [
      "Last occurrence of 'i' at index: 1\n"
     ]
    }
   ],
   "source": [
    "last_occurrence_index = S.rfind(word_to_count)\n",
    "print(\"Last occurrence of '{}' at index: {}\".format(word_to_count, last_occurrence_index))"
   ]
  },
  {
   "cell_type": "markdown",
   "metadata": {
    "id": "Cj5S2ErlkMia"
   },
   "source": [
    "### 14. Split a string into a list of words."
   ]
  },
  {
   "cell_type": "code",
   "execution_count": 19,
   "metadata": {
    "colab": {
     "base_uri": "https://localhost:8080/"
    },
    "id": "GJ567hMJguLk",
    "outputId": "167752db-560c-4523-871f-9db779578ef4"
   },
   "outputs": [
    {
     "name": "stdout",
     "output_type": "stream",
     "text": [
      "['iit', 'dharwad']\n"
     ]
    }
   ],
   "source": [
    "word_list = S.split()\n",
    "print(word_list)"
   ]
  },
  {
   "cell_type": "markdown",
   "metadata": {
    "id": "Bx3yq2jCkNBG"
   },
   "source": [
    "### 15. Join a list of words into a string."
   ]
  },
  {
   "cell_type": "code",
   "execution_count": 20,
   "metadata": {
    "colab": {
     "base_uri": "https://localhost:8080/"
    },
    "id": "iimcmdxSguJb",
    "outputId": "45348785-a2df-4ec2-ee19-6e3e9b5b4161"
   },
   "outputs": [
    {
     "name": "stdout",
     "output_type": "stream",
     "text": [
      "IIT NIT\n"
     ]
    }
   ],
   "source": [
    "list_ = [\"IIT\",\"NIT\"]\n",
    "joined_string = \" \".join(list_)\n",
    "print(joined_string)"
   ]
  },
  {
   "cell_type": "markdown",
   "metadata": {
    "id": "Pz_ROIzBkNmZ"
   },
   "source": [
    "### 16. Convert a string where words are separated by spaces to one where words are separated by underscores."
   ]
  },
  {
   "cell_type": "code",
   "execution_count": 21,
   "metadata": {
    "colab": {
     "base_uri": "https://localhost:8080/"
    },
    "id": "yJ979spNguId",
    "outputId": "f6736e06-d216-4840-8966-8eb98d2b1dff"
   },
   "outputs": [
    {
     "name": "stdout",
     "output_type": "stream",
     "text": [
      "convert_string_with_spaces\n"
     ]
    }
   ],
   "source": [
    "string_with_spaces = \"convert string with spaces\"\n",
    "string_with_underscores = string_with_spaces.replace(\" \", \"_\")\n",
    "print(string_with_underscores)"
   ]
  },
  {
   "cell_type": "markdown",
   "metadata": {
    "id": "8J0LVL5XkOGK"
   },
   "source": [
    "### 17. Check if a string starts with a specific word or phrase."
   ]
  },
  {
   "cell_type": "code",
   "execution_count": 22,
   "metadata": {
    "colab": {
     "base_uri": "https://localhost:8080/"
    },
    "id": "5okbNcymguHg",
    "outputId": "c74e3ef8-28e5-4d75-d148-45866c339dab"
   },
   "outputs": [
    {
     "name": "stdout",
     "output_type": "stream",
     "text": [
      "String starts with 'convert'.\n"
     ]
    }
   ],
   "source": [
    "specific_word = \"convert\"\n",
    "if string_with_spaces.startswith(specific_word):\n",
    "    print(\"String starts with '{}'.\".format(specific_word))  \n",
    "else:\n",
    "    print(\"String does not start with '{}'.\".format(specific_word))"
   ]
  },
  {
   "cell_type": "markdown",
   "metadata": {
    "id": "ncBXKh_BkOrV"
   },
   "source": [
    "### 18. Check if a string ends with a specific word or phrase."
   ]
  },
  {
   "cell_type": "code",
   "execution_count": 23,
   "metadata": {
    "colab": {
     "base_uri": "https://localhost:8080/"
    },
    "id": "JJ6TT3AzguGl",
    "outputId": "c7f64702-dd4b-4b9b-c945-0c3ea3edc7ba"
   },
   "outputs": [
    {
     "name": "stdout",
     "output_type": "stream",
     "text": [
      "String ends with 'spaces'.\n"
     ]
    }
   ],
   "source": [
    "specific_word = \"spaces\"\n",
    "if string_with_spaces.endswith(specific_word):\n",
    "    print(\"String ends with '{}'.\".format(specific_word))  # Output: String ends with 'spaces'.\n",
    "else:\n",
    "    print(\"String does not end with '{}'.\".format(specific_word))\n"
   ]
  },
  {
   "cell_type": "markdown",
   "metadata": {
    "id": "xKHAccIakPHh"
   },
   "source": [
    "### 19. Convert a string to title case (e.g., \"hello world\" to \"Hello World\")."
   ]
  },
  {
   "cell_type": "code",
   "execution_count": 24,
   "metadata": {
    "colab": {
     "base_uri": "https://localhost:8080/"
    },
    "id": "Kg6Jxt5ZguFe",
    "outputId": "4ecd15ee-104c-4e84-e69e-4b479ff6cef3"
   },
   "outputs": [
    {
     "name": "stdout",
     "output_type": "stream",
     "text": [
      "Hello World\n"
     ]
    }
   ],
   "source": [
    "string_to_title_case = \"hello world\"\n",
    "title_case_string = string_to_title_case.title()\n",
    "print(title_case_string)  "
   ]
  },
  {
   "cell_type": "markdown",
   "metadata": {
    "id": "CEBOkukdkPh7"
   },
   "source": [
    "### 20. Find the longest word in a string."
   ]
  },
  {
   "cell_type": "code",
   "execution_count": 25,
   "metadata": {
    "colab": {
     "base_uri": "https://localhost:8080/"
    },
    "id": "rB0ZNnVQgt40",
    "outputId": "51373aa4-9fc5-46fc-d6c7-b2b6e5c0453b"
   },
   "outputs": [
    {
     "name": "stdout",
     "output_type": "stream",
     "text": [
      "Longest word: convert\n"
     ]
    }
   ],
   "source": [
    "words = string_with_spaces.split()\n",
    "longest_word = max(words, key=len)\n",
    "print(\"Longest word:\", longest_word) "
   ]
  },
  {
   "cell_type": "markdown",
   "metadata": {
    "id": "e4h_-TM8kRGP"
   },
   "source": [
    "### 21. Find the shortest word in a string."
   ]
  },
  {
   "cell_type": "code",
   "execution_count": 26,
   "metadata": {
    "colab": {
     "base_uri": "https://localhost:8080/"
    },
    "id": "DZgksVFygt30",
    "outputId": "f27c2816-0f74-4cfc-c27f-ec6378d1bf02"
   },
   "outputs": [
    {
     "name": "stdout",
     "output_type": "stream",
     "text": [
      "Shortest word: with\n"
     ]
    }
   ],
   "source": [
    "shortest_word = min(words, key=len)\n",
    "print(\"Shortest word:\", shortest_word)"
   ]
  },
  {
   "cell_type": "markdown",
   "metadata": {
    "id": "eg9CKZRLkRkQ"
   },
   "source": [
    "### 22. Reverse the order of words in a string."
   ]
  },
  {
   "cell_type": "code",
   "execution_count": 27,
   "metadata": {},
   "outputs": [
    {
     "name": "stdout",
     "output_type": "stream",
     "text": [
      "spaces with string convert\n"
     ]
    }
   ],
   "source": [
    "reversed_words = \" \".join(reversed(words))\n",
    "print(reversed_words)"
   ]
  },
  {
   "cell_type": "markdown",
   "metadata": {
    "id": "IEwppwAAkR96"
   },
   "source": [
    "### 23. Check if a string is alphanumeric."
   ]
  },
  {
   "cell_type": "code",
   "execution_count": 28,
   "metadata": {
    "colab": {
     "base_uri": "https://localhost:8080/"
    },
    "id": "DDgRn8KMgtvC",
    "outputId": "48694075-267f-4ead-ad3e-112ba65f978c"
   },
   "outputs": [
    {
     "name": "stdout",
     "output_type": "stream",
     "text": [
      "The string is alphanumeric.\n"
     ]
    }
   ],
   "source": [
    "def is_alphanumeric(text):\n",
    "    # Step 1: Use the isalnum() method to check if the string is alphanumeric.\n",
    "    return text.isalnum()\n",
    "\n",
    "# Example usage\n",
    "text = \"Hello123\"\n",
    "result = is_alphanumeric(text)\n",
    "if result:\n",
    "    print(\"The string is alphanumeric.\")\n",
    "else:\n",
    "    print(\"The string is not alphanumeric.\")"
   ]
  },
  {
   "cell_type": "markdown",
   "metadata": {
    "id": "cLx7F5XIkSYd"
   },
   "source": [
    "### 24. Extract all digits from a string."
   ]
  },
  {
   "cell_type": "code",
   "execution_count": 29,
   "metadata": {
    "colab": {
     "base_uri": "https://localhost:8080/"
    },
    "id": "2eoHZ4mZgtsC",
    "outputId": "ece96dec-f768-4ac2-d7af-ab809ba1203b"
   },
   "outputs": [
    {
     "name": "stdout",
     "output_type": "stream",
     "text": [
      "Extracted digits: 123456\n"
     ]
    }
   ],
   "source": [
    "def extract_digits(text):\n",
    "    # Step 1: Initialize an empty string to store the extracted digits.\n",
    "    digits = \"\"\n",
    "\n",
    "    # Step 2: Iterate through each character in the text.\n",
    "    for char in text:\n",
    "        # Check if the character is a digit using the isdigit() method.\n",
    "        if char.isdigit():\n",
    "            # Append the digit to the digits string.\n",
    "            digits += char\n",
    "\n",
    "    # Step 3: Return the extracted digits.\n",
    "    return digits\n",
    "\n",
    "# Example usage\n",
    "text = \"Hello123World456\"\n",
    "extracted_digits = extract_digits(text)\n",
    "print(\"Extracted digits:\", extracted_digits)"
   ]
  },
  {
   "cell_type": "markdown",
   "metadata": {
    "id": "My6y6vaOkS5p"
   },
   "source": [
    "### 25. Extract all alphabets from a string."
   ]
  },
  {
   "cell_type": "code",
   "execution_count": 30,
   "metadata": {
    "colab": {
     "base_uri": "https://localhost:8080/"
    },
    "id": "Vf3l_L8tgtqX",
    "outputId": "8d6ce87a-b1af-4d58-994a-1ccdc46c2acb"
   },
   "outputs": [
    {
     "name": "stdout",
     "output_type": "stream",
     "text": [
      "H e l l o W o r l d\n"
     ]
    }
   ],
   "source": [
    "def extract_alphabets(input_string):\n",
    "    alphabets = ' '.join([char for char in input_string if char.isalpha()])\n",
    "    return alphabets\n",
    "\n",
    "# Example input string\n",
    "input_string = \"Hello123World456\"\n",
    "result = extract_alphabets(input_string)\n",
    "print(result)"
   ]
  },
  {
   "cell_type": "markdown",
   "metadata": {
    "id": "y4Hfz0AVkTUj"
   },
   "source": [
    "### 26. Count the number of uppercase letters in a string."
   ]
  },
  {
   "cell_type": "code",
   "execution_count": 31,
   "metadata": {
    "colab": {
     "base_uri": "https://localhost:8080/"
    },
    "id": "Okr8cQ2QgtpZ",
    "outputId": "bf37c88c-3ed9-4436-cdac-4f78edebce60"
   },
   "outputs": [
    {
     "name": "stdout",
     "output_type": "stream",
     "text": [
      "6\n"
     ]
    }
   ],
   "source": [
    "def count_uppercase(input_string):\n",
    "    uppercase_count = sum(1 for char in input_string if char.isupper())\n",
    "    return uppercase_count\n",
    "\n",
    "# Example input string\n",
    "input_string = \"HelloWORLD\"\n",
    "result = count_uppercase(input_string)\n",
    "print(result)"
   ]
  },
  {
   "cell_type": "markdown",
   "metadata": {
    "id": "IYkgsrTrkURV"
   },
   "source": [
    "### 27. Count the number of lowercase letters in a string."
   ]
  },
  {
   "cell_type": "code",
   "execution_count": 32,
   "metadata": {
    "colab": {
     "base_uri": "https://localhost:8080/"
    },
    "id": "yLlw-PNvgtjO",
    "outputId": "4c46033d-59d6-419b-cd09-80eaad23d66f"
   },
   "outputs": [
    {
     "name": "stdout",
     "output_type": "stream",
     "text": [
      "4\n"
     ]
    }
   ],
   "source": [
    "def count_lowercase(input_string):\n",
    "    lowercase_count = sum(1 for char in input_string if char.islower())\n",
    "    return lowercase_count\n",
    "\n",
    "# Example input string\n",
    "input_string = \"HelloWORLD\"\n",
    "result = count_lowercase(input_string)\n",
    "print(result)"
   ]
  },
  {
   "cell_type": "markdown",
   "metadata": {
    "id": "NSDvH_N6kUv5"
   },
   "source": [
    "### 28. Swap the case of each character in a string."
   ]
  },
  {
   "cell_type": "code",
   "execution_count": 33,
   "metadata": {
    "colab": {
     "base_uri": "https://localhost:8080/"
    },
    "id": "ERplR3BggtgY",
    "outputId": "8745e716-c020-4706-fdfa-8e232ae9802a"
   },
   "outputs": [
    {
     "name": "stdout",
     "output_type": "stream",
     "text": [
      "hELLOworld\n"
     ]
    }
   ],
   "source": [
    "def swap_case(input_string):\n",
    "    swapped_string = input_string.swapcase()\n",
    "    return swapped_string\n",
    "\n",
    "# Example input string\n",
    "input_string = \"HelloWORLD\"\n",
    "result = swap_case(input_string)\n",
    "print(result)"
   ]
  },
  {
   "cell_type": "markdown",
   "metadata": {
    "id": "2sq4u1kIkVRr"
   },
   "source": [
    "### 29. Remove a specific word from a string."
   ]
  },
  {
   "cell_type": "code",
   "execution_count": 34,
   "metadata": {
    "colab": {
     "base_uri": "https://localhost:8080/"
    },
    "id": "NbQLpdArgtd4",
    "outputId": "2520e596-2908-44cf-d74f-975874313529"
   },
   "outputs": [
    {
     "name": "stdout",
     "output_type": "stream",
     "text": [
      "Hello world, welcome to the of programming.\n"
     ]
    }
   ],
   "source": [
    "def remove_word(input_string, word_to_remove):\n",
    "    words = input_string.split()  # Split the input string into a list of words\n",
    "    filtered_words = [word for word in words if word != word_to_remove]  # Create a new list excluding the word to remove\n",
    "    modified_string = ' '.join(filtered_words)  # Join the filtered words back into a string\n",
    "    return modified_string\n",
    "\n",
    "# Example input string and word to remove\n",
    "input_string = \"Hello world, welcome to the world of programming.\"\n",
    "word_to_remove = \"world\"\n",
    "result = remove_word(input_string, word_to_remove)\n",
    "print(result)"
   ]
  },
  {
   "cell_type": "markdown",
   "metadata": {
    "id": "xRzhLWLOq6ks"
   },
   "source": [
    "### 30. Check if a string is a valid email address."
   ]
  },
  {
   "cell_type": "code",
   "execution_count": 35,
   "metadata": {
    "colab": {
     "base_uri": "https://localhost:8080/"
    },
    "id": "XSQ_Xaelgtc7",
    "outputId": "cc8f1b03-4c15-4936-fa80-69de76fac912"
   },
   "outputs": [
    {
     "name": "stdout",
     "output_type": "stream",
     "text": [
      "True\n",
      "False\n"
     ]
    }
   ],
   "source": [
    "import re  # Import the regular expression module\n",
    "\n",
    "def is_valid_email(email):\n",
    "    pattern = r'^[\\w\\.-]+@[\\w\\.-]+\\.\\w+$'  # Regular expression pattern for a basic email validation\n",
    "    if re.match(pattern, email):\n",
    "        return True\n",
    "    else:\n",
    "        return False\n",
    "\n",
    "# Example email addresses\n",
    "email1 = \"example@email.com\"\n",
    "email2 = \"invalid-email\"\n",
    "result1 = is_valid_email(email1)\n",
    "result2 = is_valid_email(email2)\n",
    "print(result1)\n",
    "print(result2)"
   ]
  },
  {
   "cell_type": "markdown",
   "metadata": {
    "id": "Dy4BDup0q7A5"
   },
   "source": [
    "### 31. Extract the username from an email address string."
   ]
  },
  {
   "cell_type": "code",
   "execution_count": 36,
   "metadata": {
    "colab": {
     "base_uri": "https://localhost:8080/"
    },
    "id": "o8E5Cwzsgtb3",
    "outputId": "9dfa036a-1b7a-4b4e-a022-aa9786ab8732"
   },
   "outputs": [
    {
     "name": "stdout",
     "output_type": "stream",
     "text": [
      "example\n"
     ]
    }
   ],
   "source": [
    "def extract_username(email):\n",
    "    username = email.split('@')[0]  # Split the email address at \"@\" and take the first part\n",
    "    return username\n",
    "\n",
    "# Example email address\n",
    "email = \"example@email.com\"\n",
    "result = extract_username(email)\n",
    "print(result)"
   ]
  },
  {
   "cell_type": "markdown",
   "metadata": {
    "id": "3oR36bOIq7dS"
   },
   "source": [
    "### 32. Extract the domain name from an email address string."
   ]
  },
  {
   "cell_type": "code",
   "execution_count": 37,
   "metadata": {
    "colab": {
     "base_uri": "https://localhost:8080/"
    },
    "id": "Tlj3ZDTYgtZr",
    "outputId": "1ea3a8a6-ff38-4868-c06c-37ad50e8921b"
   },
   "outputs": [
    {
     "name": "stdout",
     "output_type": "stream",
     "text": [
      "email.com\n"
     ]
    }
   ],
   "source": [
    "def extract_domain(email):\n",
    "    domain = email.split('@')[1]  # Split the email address at \"@\" and take the second part\n",
    "    return domain\n",
    "\n",
    "# Example email address\n",
    "email = \"example@email.com\"\n",
    "result = extract_domain(email)\n",
    "print(result)"
   ]
  },
  {
   "cell_type": "markdown",
   "metadata": {
    "id": "jqiNG-4jq71C"
   },
   "source": [
    "### 33. Replace multiple spaces in a string with a single space."
   ]
  },
  {
   "cell_type": "code",
   "execution_count": 38,
   "metadata": {
    "colab": {
     "base_uri": "https://localhost:8080/"
    },
    "id": "xrZCNtN6gtY1",
    "outputId": "bb5b76dd-8b7f-48c3-fe40-15681b6b0d46"
   },
   "outputs": [
    {
     "name": "stdout",
     "output_type": "stream",
     "text": [
      "Hello world! How are you?\n"
     ]
    }
   ],
   "source": [
    "def replace_multiple_spaces(input_string):\n",
    "    cleaned_string = ' '.join(input_string.split())  # Split the string at spaces and then join using a single space\n",
    "    return cleaned_string\n",
    "\n",
    "# Example input string with multiple spaces\n",
    "input_string = \"Hello     world!   How   are   you?\"\n",
    "result = replace_multiple_spaces(input_string)\n",
    "print(result)"
   ]
  },
  {
   "cell_type": "markdown",
   "metadata": {
    "id": "Y0GQRlZtq8V6"
   },
   "source": [
    "### 34. Check if a string is a valid URL."
   ]
  },
  {
   "cell_type": "code",
   "execution_count": 39,
   "metadata": {
    "colab": {
     "base_uri": "https://localhost:8080/"
    },
    "id": "BsxABArkgtX7",
    "outputId": "3f265138-671d-4c9d-9e0a-04796d36e801"
   },
   "outputs": [
    {
     "name": "stdout",
     "output_type": "stream",
     "text": [
      "True\n",
      "False\n"
     ]
    }
   ],
   "source": [
    "from urllib.parse import urlparse\n",
    "\n",
    "def is_valid_url(url):\n",
    "    try:\n",
    "        result = urlparse(url)\n",
    "        return all([result.scheme, result.netloc])  # Check if both scheme and netloc are present\n",
    "    except ValueError:\n",
    "        return False\n",
    "\n",
    "# Example URLs\n",
    "url1 = \"https://www.example.com\"\n",
    "url2 = \"invalid-url\"\n",
    "result1 = is_valid_url(url1)\n",
    "result2 = is_valid_url(url2)\n",
    "print(result1)  # Should print True\n",
    "print(result2)  # Should print False"
   ]
  },
  {
   "cell_type": "markdown",
   "metadata": {
    "id": "DM0fsftTq8vi"
   },
   "source": [
    "### 35. Extract the protocol (http or https) from a URL string."
   ]
  },
  {
   "cell_type": "code",
   "execution_count": 40,
   "metadata": {
    "colab": {
     "base_uri": "https://localhost:8080/"
    },
    "id": "6-kJuuYMgtW3",
    "outputId": "06eed1f1-8973-4adb-8765-d1851e33ce34"
   },
   "outputs": [
    {
     "name": "stdout",
     "output_type": "stream",
     "text": [
      "Protocol 1: https\n",
      "Protocol 2: http\n",
      "Protocol 3: ftp\n"
     ]
    }
   ],
   "source": [
    "def extract_protocol(url):\n",
    "    # Find the index of the first occurrence of \"://\"\n",
    "    protocol_end = url.find(\"://\")\n",
    "\n",
    "    if protocol_end != -1:\n",
    "        # Extract the protocol from the URL\n",
    "        protocol = url[:protocol_end]\n",
    "        return protocol\n",
    "    else:\n",
    "        return None\n",
    "\n",
    "# Example URL strings\n",
    "url1 = \"https://www.example.com\"\n",
    "url2 = \"http://google.com\"\n",
    "url3 = \"ftp://ftp.example.com\"\n",
    "\n",
    "# Extract protocols\n",
    "protocol1 = extract_protocol(url1)\n",
    "protocol2 = extract_protocol(url2)\n",
    "protocol3 = extract_protocol(url3)\n",
    "\n",
    "# Print extracted protocols\n",
    "print(\"Protocol 1:\", protocol1)\n",
    "print(\"Protocol 2:\", protocol2)\n",
    "print(\"Protocol 3:\", protocol3)"
   ]
  },
  {
   "cell_type": "markdown",
   "metadata": {
    "id": "oB8Wt2Avq9cD"
   },
   "source": [
    "### 36. Find the frequency of each character in a string."
   ]
  },
  {
   "cell_type": "code",
   "execution_count": 41,
   "metadata": {
    "colab": {
     "base_uri": "https://localhost:8080/"
    },
    "id": "Cj5B19dWgtJ1",
    "outputId": "6235f1bc-39ba-4723-9aef-16329c004797"
   },
   "outputs": [
    {
     "name": "stdout",
     "output_type": "stream",
     "text": [
      "Character: 'h', Frequency: 1\n",
      "Character: 'e', Frequency: 1\n",
      "Character: 'l', Frequency: 3\n",
      "Character: 'o', Frequency: 2\n",
      "Character: ' ', Frequency: 1\n",
      "Character: 'w', Frequency: 1\n",
      "Character: 'r', Frequency: 1\n",
      "Character: 'd', Frequency: 1\n"
     ]
    }
   ],
   "source": [
    "def character_frequency(input_string):\n",
    "    frequency = {}  # Create an empty dictionary to store character frequencies\n",
    "\n",
    "    for char in input_string:\n",
    "        if char in frequency:\n",
    "            frequency[char] += 1  # Increment the frequency count if the character is already in the dictionary\n",
    "        else:\n",
    "            frequency[char] = 1   # Initialize the frequency count to 1 if the character is not in the dictionary\n",
    "\n",
    "    return frequency\n",
    "\n",
    "# Example string\n",
    "input_str = \"hello world\"\n",
    "\n",
    "# Calculate character frequencies\n",
    "char_freq = character_frequency(input_str)\n",
    "\n",
    "# Print character frequencies\n",
    "for char, freq in char_freq.items():\n",
    "    print(f\"Character: '{char}', Frequency: {freq}\")"
   ]
  },
  {
   "cell_type": "markdown",
   "metadata": {
    "id": "W9M0TqNZq94u"
   },
   "source": [
    "### 37. Remove all punctuation from a string."
   ]
  },
  {
   "cell_type": "code",
   "execution_count": 42,
   "metadata": {
    "colab": {
     "base_uri": "https://localhost:8080/"
    },
    "id": "5U_QD62_gtGk",
    "outputId": "83efc688-c688-4c10-b987-056284d74f61"
   },
   "outputs": [
    {
     "name": "stdout",
     "output_type": "stream",
     "text": [
      "Original string: Hello, world! How's it going?\n",
      "Cleaned string: Hello world Hows it going\n"
     ]
    }
   ],
   "source": [
    "import string\n",
    "\n",
    "def remove_punctuation(input_string):\n",
    "    # Create a translation table to remove punctuation\n",
    "    translator = str.maketrans(\"\", \"\", string.punctuation)\n",
    "\n",
    "    # Use the translation table to remove punctuation from the input string\n",
    "    clean_string = input_string.translate(translator)\n",
    "\n",
    "    return clean_string\n",
    "\n",
    "# Example string with punctuation\n",
    "input_str = \"Hello, world! How's it going?\"\n",
    "\n",
    "# Remove punctuation\n",
    "cleaned_str = remove_punctuation(input_str)\n",
    "\n",
    "# Print the cleaned string\n",
    "print(\"Original string:\", input_str)\n",
    "print(\"Cleaned string:\", cleaned_str)"
   ]
  },
  {
   "cell_type": "markdown",
   "metadata": {
    "id": "A9UtP2akq-Sp"
   },
   "source": [
    "### 38. Check if a string contains only digits."
   ]
  },
  {
   "cell_type": "code",
   "execution_count": 43,
   "metadata": {
    "colab": {
     "base_uri": "https://localhost:8080/"
    },
    "id": "btnO5K8ngtFp",
    "outputId": "a63154ad-2448-433b-c2a9-328017611584"
   },
   "outputs": [
    {
     "name": "stdout",
     "output_type": "stream",
     "text": [
      "'12345' contains only digits: True\n",
      "'Hello123' contains only digits: False\n",
      "'456.789' contains only digits: False\n"
     ]
    }
   ],
   "source": [
    "def contains_only_digits(input_string):\n",
    "    # Check if all characters in the string are digits\n",
    "    return input_string.isdigit()\n",
    "\n",
    "# Example strings\n",
    "string1 = \"12345\"\n",
    "string2 = \"Hello123\"\n",
    "string3 = \"456.789\"\n",
    "\n",
    "# Check if strings contain only digits\n",
    "result1 = contains_only_digits(string1)\n",
    "result2 = contains_only_digits(string2)\n",
    "result3 = contains_only_digits(string3)\n",
    "\n",
    "# Print the results\n",
    "print(f\"'{string1}' contains only digits:\", result1)\n",
    "print(f\"'{string2}' contains only digits:\", result2)\n",
    "print(f\"'{string3}' contains only digits:\", result3)"
   ]
  },
  {
   "cell_type": "markdown",
   "metadata": {
    "id": "wVxN5gRpq-z3"
   },
   "source": [
    "### 39. Check if a string contains only alphabets."
   ]
  },
  {
   "cell_type": "code",
   "execution_count": 44,
   "metadata": {
    "colab": {
     "base_uri": "https://localhost:8080/"
    },
    "id": "oN3dvOllgtAT",
    "outputId": "5bb03129-7409-40f9-fdb7-3bbdd41454d6"
   },
   "outputs": [
    {
     "name": "stdout",
     "output_type": "stream",
     "text": [
      "'Hello' contains only alphabets: True\n",
      "'Hello123' contains only alphabets: False\n",
      "'12345' contains only alphabets: False\n"
     ]
    }
   ],
   "source": [
    "def contains_only_alphabets(input_string):\n",
    "    # Check if all characters in the string are alphabetic\n",
    "    return input_string.isalpha()\n",
    "\n",
    "# Example strings\n",
    "string1 = \"Hello\"\n",
    "string2 = \"Hello123\"\n",
    "string3 = \"12345\"\n",
    "\n",
    "# Check if strings contain only alphabets\n",
    "result1 = contains_only_alphabets(string1)\n",
    "result2 = contains_only_alphabets(string2)\n",
    "result3 = contains_only_alphabets(string3)\n",
    "\n",
    "# Print the results\n",
    "print(f\"'{string1}' contains only alphabets:\", result1)\n",
    "print(f\"'{string2}' contains only alphabets:\", result2)\n",
    "print(f\"'{string3}' contains only alphabets:\", result3)"
   ]
  },
  {
   "cell_type": "markdown",
   "metadata": {
    "id": "FQkkncoIq_qA"
   },
   "source": [
    "### 40. Convert a string to a list of characters."
   ]
  },
  {
   "cell_type": "code",
   "execution_count": 45,
   "metadata": {
    "colab": {
     "base_uri": "https://localhost:8080/"
    },
    "id": "0JLQW-tggs9n",
    "outputId": "90c054da-15e5-44fe-8a65-9bd66e03c193"
   },
   "outputs": [
    {
     "name": "stdout",
     "output_type": "stream",
     "text": [
      "Original string: Hello, world!\n",
      "List of characters: ['H', 'e', 'l', 'l', 'o', ',', ' ', 'w', 'o', 'r', 'l', 'd', '!']\n"
     ]
    }
   ],
   "source": [
    "def string_to_list(input_string):\n",
    "    # Use list() constructor to convert the string to a list of characters\n",
    "    char_list = list(input_string)\n",
    "    return char_list\n",
    "\n",
    "# Example string\n",
    "input_str = \"Hello, world!\"\n",
    "\n",
    "# Convert the string to a list of characters\n",
    "char_list = string_to_list(input_str)\n",
    "\n",
    "# Print the list of characters\n",
    "print(\"Original string:\", input_str)\n",
    "print(\"List of characters:\", char_list)"
   ]
  },
  {
   "cell_type": "markdown",
   "metadata": {
    "id": "1807JSSqrAgT"
   },
   "source": [
    "### 41. Check if two strings are anagrams."
   ]
  },
  {
   "cell_type": "code",
   "execution_count": 46,
   "metadata": {
    "colab": {
     "base_uri": "https://localhost:8080/"
    },
    "id": "hPSNKx5Lgs7_",
    "outputId": "5bea6e6d-f004-4a91-94e9-5d145551df6e"
   },
   "outputs": [
    {
     "name": "stdout",
     "output_type": "stream",
     "text": [
      "'listen' and 'silent' are anagrams: True\n",
      "'hello' and 'world' are anagrams: False\n"
     ]
    }
   ],
   "source": [
    "def are_anagrams(str1, str2):\n",
    "    # Remove spaces and convert strings to lowercase for accurate comparison\n",
    "    str1 = str1.replace(\" \", \"\").lower()\n",
    "    str2 = str2.replace(\" \", \"\").lower()\n",
    "\n",
    "    # Sort the characters in both strings and compare\n",
    "    return sorted(str1) == sorted(str2)\n",
    "\n",
    "# Example strings\n",
    "string1 = \"listen\"\n",
    "string2 = \"silent\"\n",
    "string3 = \"hello\"\n",
    "string4 = \"world\"\n",
    "\n",
    "# Check if strings are anagrams\n",
    "result1 = are_anagrams(string1, string2)\n",
    "result2 = are_anagrams(string3, string4)\n",
    "\n",
    "# Print the results\n",
    "print(f\"'{string1}' and '{string2}' are anagrams:\", result1)\n",
    "print(f\"'{string3}' and '{string4}' are anagrams:\", result2)"
   ]
  },
  {
   "cell_type": "markdown",
   "metadata": {
    "id": "eDXfOUELrA7l"
   },
   "source": [
    "### 42. Encode a string using a Caesar cipher.\n",
    "\n",
    "A Caesar cipher is a simple encryption technique where each letter in the plaintext is shifted a certain number of places down or up the alphabet. Here's a Python code snippet to encode a string using a Caesar cipher:"
   ]
  },
  {
   "cell_type": "code",
   "execution_count": 47,
   "metadata": {
    "colab": {
     "base_uri": "https://localhost:8080/"
    },
    "id": "Koxt4kNTgs7D",
    "outputId": "18a0c8d2-e3d6-4573-c4c5-f51ba61f0b48"
   },
   "outputs": [
    {
     "name": "stdout",
     "output_type": "stream",
     "text": [
      "Encoded text: ehoor, zruog!\n"
     ]
    }
   ],
   "source": [
    "# Define a function named caesar_cipher that encodes a string using a Caesar cipher.\n",
    "def caesar_cipher(text, shift):\n",
    "  \"\"\"\n",
    "  Encodes a string using a Caesar cipher.\n",
    "\n",
    "  Args:\n",
    "    text: The string to encode.\n",
    "    shift: The number of positions to shift each letter.\n",
    "\n",
    "  Returns:\n",
    "    The encoded string.\n",
    "  \"\"\"\n",
    "\n",
    "  # Initialize an empty string to store the encoded text.\n",
    "  encoded_text = \"\"\n",
    "\n",
    "  # Iterate through each character in the input text.\n",
    "  for char in text:\n",
    "    # Check if the character is alphabetic.\n",
    "    if char.isalpha():\n",
    "      # Calculate the encoded character's Unicode code point value by shifting it by the specified amount.\n",
    "      # Ensure the value wraps around within the lowercase alphabet range (a-z).\n",
    "      encoded_char = chr((ord(char) + shift - ord('a')) % 26 + ord('a'))\n",
    "    else:\n",
    "      # Keep non-alphabetic characters unchanged.\n",
    "      encoded_char = char\n",
    "\n",
    "    # Add the encoded character to the encoded text.\n",
    "    encoded_text += encoded_char\n",
    "\n",
    "  # Return the resulting encoded text.\n",
    "  return encoded_text\n",
    "\n",
    "# Define the input text and the shift value for encoding.\n",
    "text = \"Hello, world!\"\n",
    "shift = 3\n",
    "\n",
    "# Call the caesar_cipher function to encode the text using the specified shift.\n",
    "encoded_text = caesar_cipher(text, shift)\n",
    "\n",
    "# Print the encoded text.\n",
    "print(\"Encoded text:\", encoded_text)"
   ]
  },
  {
   "cell_type": "markdown",
   "metadata": {
    "id": "IHILr36DrBVX"
   },
   "source": [
    "### 43. Decode a Caesar cipher encoded string."
   ]
  },
  {
   "cell_type": "code",
   "execution_count": 48,
   "metadata": {
    "colab": {
     "base_uri": "https://localhost:8080/"
    },
    "id": "rAymUy7Vgs6C",
    "outputId": "0fbeb921-a363-45d0-deac-a467a9855ea5"
   },
   "outputs": [
    {
     "name": "stdout",
     "output_type": "stream",
     "text": [
      "Decoded text: ilmm, world!\n"
     ]
    }
   ],
   "source": [
    "# Define a function to decode a string using a Caesar cipher\n",
    "def caesar_cipher_decoder(text, shift):\n",
    "    \"\"\"\n",
    "    Decodes a string using a Caesar cipher.\n",
    "\n",
    "    Args:\n",
    "        text: The string to decode.\n",
    "        shift: The number of positions to shift each letter.\n",
    "\n",
    "    Returns:\n",
    "        The decoded string.\n",
    "    \"\"\"\n",
    "\n",
    "    # Initialize an empty string to store the decoded text\n",
    "    decoded_text = \"\"\n",
    "\n",
    "    # Loop through each character in the input text\n",
    "    for char in text:\n",
    "        # Check if the character is an alphabetic character\n",
    "        if char.isalpha():\n",
    "            # Calculate the decoded character using the shift value\n",
    "            decoded_char = chr((ord(char) - shift - ord('a')) % 26 + ord('a'))\n",
    "        else:\n",
    "            # If the character is not alphabetic, keep it unchanged\n",
    "            decoded_char = char\n",
    "\n",
    "        # Add the decoded character to the decoded text\n",
    "        decoded_text += decoded_char\n",
    "\n",
    "    # Return the fully decoded text\n",
    "    return decoded_text\n",
    "\n",
    "# Example input\n",
    "text = \"lopp, zruog!\"\n",
    "shift = 3\n",
    "\n",
    "# Call the caesar_cipher_decoder function to decode the input text\n",
    "decoded_text = caesar_cipher_decoder(text, shift)\n",
    "\n",
    "# Print the decoded text\n",
    "print(\"Decoded text:\", decoded_text)"
   ]
  },
  {
   "cell_type": "markdown",
   "metadata": {
    "id": "A49G9oymrBu3"
   },
   "source": [
    "### 44. Find the most frequent word in a string."
   ]
  },
  {
   "cell_type": "code",
   "execution_count": 49,
   "metadata": {
    "id": "C1_YLSz-gs5E"
   },
   "outputs": [
    {
     "ename": "IndentationError",
     "evalue": "unexpected indent (56501141.py, line 20)",
     "output_type": "error",
     "traceback": [
      "\u001b[0;36m  Cell \u001b[0;32mIn[49], line 20\u001b[0;36m\u001b[0m\n\u001b[0;31m    return most_common_word\u001b[0m\n\u001b[0m    ^\u001b[0m\n\u001b[0;31mIndentationError\u001b[0m\u001b[0;31m:\u001b[0m unexpected indent\n"
     ]
    }
   ],
   "source": [
    "import re\n",
    "from collections import Counter\n",
    "\n",
    "def most_frequent_word(input_string):\n",
    "    # Remove punctuation and convert to lowercase\n",
    "    clean_string = re.sub(r'[^\\w\\s]', '', input_string).lower()\n",
    "\n",
    "    # Split the string into words\n",
    "    words = clean_string.split()\n",
    "\n",
    "    # Use Counter to count word frequencies\n",
    "    word_counter = Counter(words)\n",
    "\n",
    "    # Find the most common word\n",
    "    most_common_word = word_counter.most_common(1)[0][0]\n",
    "\n",
    "\n",
    "\n",
    "\n",
    "           return most_common_word\n",
    "\n",
    "# Example string\n",
    "input_str = \"Hello world, hello there! How's the world?\"\n",
    "\n",
    "# Find the most frequent word\n",
    "most_common = most_frequent_word(input_str)\n",
    "\n",
    "# Print the result\n",
    "print(\"Most frequent word:\", most_common)"
   ]
  },
  {
   "cell_type": "markdown",
   "metadata": {
    "id": "ZQJsSCTcrClG"
   },
   "source": [
    "### 45. Find all unique words in a string."
   ]
  },
  {
   "cell_type": "code",
   "execution_count": 50,
   "metadata": {
    "colab": {
     "base_uri": "https://localhost:8080/"
    },
    "id": "HPDWEgEugsve",
    "outputId": "25fe5141-dd16-4c47-999a-16ef464a647c"
   },
   "outputs": [
    {
     "name": "stdout",
     "output_type": "stream",
     "text": [
      "Unique words: {'the', 'there', 'world', 'hows', 'hello'}\n"
     ]
    }
   ],
   "source": [
    "import re\n",
    "\n",
    "def unique_words(input_string):\n",
    "    # Remove punctuation and convert to lowercase\n",
    "    clean_string = re.sub(r'[^\\w\\s]', '', input_string).lower()\n",
    "\n",
    "    # Split the string into words and convert to a set for uniqueness\n",
    "    words = set(clean_string.split())\n",
    "\n",
    "    return words\n",
    "\n",
    "# Example string\n",
    "input_str = \"Hello world, hello there! How's the world?\"\n",
    "\n",
    "# Find unique words\n",
    "unique_word_set = unique_words(input_str)\n",
    "\n",
    "# Print the result\n",
    "print(\"Unique words:\", unique_word_set)"
   ]
  },
  {
   "cell_type": "markdown",
   "metadata": {
    "id": "ISMXaRB3rC8X"
   },
   "source": [
    "### 46. Count the number of syllables in a string."
   ]
  },
  {
   "cell_type": "code",
   "execution_count": 51,
   "metadata": {
    "colab": {
     "base_uri": "https://localhost:8080/"
    },
    "id": "BbU8BjWmgsuj",
    "outputId": "f3a179ed-ad58-4524-a132-8b8d5b43bc6e"
   },
   "outputs": [
    {
     "name": "stdout",
     "output_type": "stream",
     "text": [
      "'hello' has 2 syllables.\n",
      "'banana' has 3 syllables.\n",
      "'syllable' has 3 syllables.\n"
     ]
    }
   ],
   "source": [
    "import re\n",
    "\n",
    "def count_syllables(word):\n",
    "    # Count vowel groups using regular expression\n",
    "    vowel_groups = re.findall(r'[aeiouy]+', word, re.IGNORECASE)\n",
    "\n",
    "    return len(vowel_groups)\n",
    "\n",
    "# Example words\n",
    "word1 = \"hello\"\n",
    "word2 = \"banana\"\n",
    "word3 = \"syllable\"\n",
    "\n",
    "# Count syllables\n",
    "syllables1 = count_syllables(word1)\n",
    "syllables2 = count_syllables(word2)\n",
    "syllables3 = count_syllables(word3)\n",
    "\n",
    "# Print the results\n",
    "print(f\"'{word1}' has {syllables1} syllables.\")\n",
    "print(f\"'{word2}' has {syllables2} syllables.\")\n",
    "print(f\"'{word3}' has {syllables3} syllables.\")"
   ]
  },
  {
   "cell_type": "markdown",
   "metadata": {
    "id": "P28VtL2hrDTK"
   },
   "source": [
    "### 47. Check if a string contains any special characters."
   ]
  },
  {
   "cell_type": "code",
   "execution_count": 52,
   "metadata": {
    "colab": {
     "base_uri": "https://localhost:8080/"
    },
    "id": "Agd1Jtk3gsoJ",
    "outputId": "9a87d4ba-fef1-4dc0-f346-0d1e9a67f124"
   },
   "outputs": [
    {
     "name": "stdout",
     "output_type": "stream",
     "text": [
      "'Hello, world!' contains special characters: True\n",
      "'This is a test.' contains special characters: True\n",
      "'Special@Characters' contains special characters: True\n"
     ]
    }
   ],
   "source": [
    "import re\n",
    "\n",
    "def contains_special_characters(input_string):\n",
    "    # Define a regular expression pattern to match special characters\n",
    "    pattern = re.compile(r'[!@#$%^&*()_+{}\\[\\]:;<>,.?~\\\\/]')\n",
    "\n",
    "    # Use the search() method to find a match\n",
    "    match = pattern.search(input_string)\n",
    "\n",
    "    # Return True if a match is found, False otherwise\n",
    "    return bool(match)\n",
    "\n",
    "# Example strings\n",
    "string1 = \"Hello, world!\"\n",
    "string2 = \"This is a test.\"\n",
    "string3 = \"Special@Characters\"\n",
    "\n",
    "# Check if strings contain special characters\n",
    "result1 = contains_special_characters(string1)\n",
    "result2 = contains_special_characters(string2)\n",
    "result3 = contains_special_characters(string3)\n",
    "\n",
    "# Print the results\n",
    "print(f\"'{string1}' contains special characters:\", result1)\n",
    "print(f\"'{string2}' contains special characters:\", result2)\n",
    "print(f\"'{string3}' contains special characters:\", result3)"
   ]
  },
  {
   "cell_type": "markdown",
   "metadata": {
    "id": "pRldlR8BrDru"
   },
   "source": [
    "### 48. Remove the nth word from a string."
   ]
  },
  {
   "cell_type": "code",
   "execution_count": 53,
   "metadata": {
    "colab": {
     "base_uri": "https://localhost:8080/"
    },
    "id": "Fd30C7zogslQ",
    "outputId": "f131badf-3874-4bc3-f050-a83d140546d3"
   },
   "outputs": [
    {
     "name": "stdout",
     "output_type": "stream",
     "text": [
      "Original string: This is an example sentence to test the function.\n",
      "Modified string: This is an sentence to test the function.\n",
      "Removed word: example\n"
     ]
    }
   ],
   "source": [
    "def remove_nth_word(input_string, n):\n",
    "    # Split the input string into words\n",
    "    words = input_string.split()\n",
    "\n",
    "    # Check if n is within a valid range\n",
    "    if n >= 1 and n <= len(words):\n",
    "        # Remove the nth word by excluding it from the words list\n",
    "        removed_word = words.pop(n - 1)\n",
    "\n",
    "        # Join the remaining words to form the modified string\n",
    "        modified_string = ' '.join(words)\n",
    "\n",
    "        return modified_string, removed_word\n",
    "    else:\n",
    "        return None, None\n",
    "\n",
    "# Example string and n value\n",
    "input_str = \"This is an example sentence to test the function.\"\n",
    "n_value = 4\n",
    "\n",
    "# Remove the nth word\n",
    "modified_str, removed_word = remove_nth_word(input_str, n_value)\n",
    "\n",
    "# Print the results\n",
    "print(\"Original string:\", input_str)\n",
    "if modified_str is not None:\n",
    "    print(\"Modified string:\", modified_str)\n",
    "    print(\"Removed word:\", removed_word)\n",
    "else:\n",
    "    print(\"Invalid n value.\")"
   ]
  },
  {
   "cell_type": "markdown",
   "metadata": {
    "id": "3asNZrxCrEDf"
   },
   "source": [
    "### 49. Insert a word at the nth position in a string."
   ]
  },
  {
   "cell_type": "code",
   "execution_count": 54,
   "metadata": {
    "colab": {
     "base_uri": "https://localhost:8080/",
     "height": 142
    },
    "id": "jR0xGYqOgsh1",
    "outputId": "5913391f-27f6-4dd2-c1cd-7dffdbf6a583"
   },
   "outputs": [
    {
     "name": "stdout",
     "output_type": "stream",
     "text": [
      "Original String: This is a sample string.\n",
      "Word to Insert: new\n",
      "Position to Insert: 4\n",
      "Result: This is a new sample string.\n"
     ]
    }
   ],
   "source": [
    "def insert_word_at_nth_position(string, word, n):\n",
    "    # Split the string into a list of words\n",
    "    words = string.split()\n",
    "    \n",
    "    # Insert the word at the nth position\n",
    "    words.insert(n - 1, word)\n",
    "    \n",
    "    # Join the words back into a string\n",
    "    new_string = ' '.join(words)\n",
    "    \n",
    "    return new_string\n",
    "\n",
    "# Example usage:\n",
    "original_string = \"This is a sample string.\"\n",
    "word_to_insert = \"new\"\n",
    "position_to_insert = 4\n",
    "\n",
    "result = insert_word_at_nth_position(original_string, word_to_insert, position_to_insert)\n",
    "print(\"Original String:\", original_string)\n",
    "print(\"Word to Insert:\", word_to_insert)\n",
    "print(\"Position to Insert:\", position_to_insert)\n",
    "print(\"Result:\", result)\n"
   ]
  },
  {
   "cell_type": "markdown",
   "metadata": {
    "id": "iA9RLr3IrEeL"
   },
   "source": [
    "### 50. Convert a CSV string to a list of lists."
   ]
  },
  {
   "cell_type": "code",
   "execution_count": 55,
   "metadata": {
    "colab": {
     "base_uri": "https://localhost:8080/"
    },
    "id": "-23QMFw5gse9",
    "outputId": "10ec69e9-1790-48e3-be8a-9fc003a4ba7c"
   },
   "outputs": [
    {
     "name": "stdout",
     "output_type": "stream",
     "text": [
      "['Name', ' Age', ' Country']\n",
      "['John', ' 25', ' USA']\n",
      "['Alice', ' 30', ' Canada']\n",
      "['Bob', ' 22', ' UK']\n"
     ]
    }
   ],
   "source": [
    "def csv_string_to_list(csv_string):\n",
    "    # Split the CSV string into lines\n",
    "    lines = csv_string.split('\\n')\n",
    "\n",
    "    # Initialize an empty list to store the result\n",
    "    result = []\n",
    "\n",
    "    for line in lines:\n",
    "        # Split each line into fields using comma as the delimiter\n",
    "        fields = line.split(',')\n",
    "\n",
    "        # Append the fields to the result list as a row\n",
    "        result.append(fields)\n",
    "\n",
    "    return result\n",
    "\n",
    "# Example CSV string\n",
    "csv_data = \"Name, Age, Country\\nJohn, 25, USA\\nAlice, 30, Canada\\nBob, 22, UK\"\n",
    "\n",
    "# Convert CSV string to a list of lists\n",
    "list_of_lists = csv_string_to_list(csv_data)\n",
    "\n",
    "# Print the result\n",
    "for row in list_of_lists:\n",
    "    print(row)"
   ]
  },
  {
   "cell_type": "markdown",
   "metadata": {
    "id": "NK7FhX5jrFbj"
   },
   "source": [
    "## **List based practice problem :**\n"
   ]
  },
  {
   "cell_type": "markdown",
   "metadata": {
    "id": "lz1_qrt9xz6z"
   },
   "source": [
    "### 1. Create a list with integers from 1 to 10."
   ]
  },
  {
   "cell_type": "code",
   "execution_count": 56,
   "metadata": {
    "colab": {
     "base_uri": "https://localhost:8080/"
    },
    "id": "HBv9Jr-mgscv",
    "outputId": "d88cf98a-94db-448c-cbbf-eea4f15e3a7a"
   },
   "outputs": [
    {
     "name": "stdout",
     "output_type": "stream",
     "text": [
      "[1, 2, 3, 4, 5, 6, 7, 8, 9, 10]\n"
     ]
    }
   ],
   "source": [
    "# Use a list comprehension to create a list of integers from 1 to 10\n",
    "integer_list = [i for i in range(1, 11)]\n",
    "\n",
    "# Print the list\n",
    "print(integer_list)"
   ]
  },
  {
   "cell_type": "markdown",
   "metadata": {
    "id": "2eccvQDNtLE9"
   },
   "source": [
    "- We use a list comprehension, a concise way to create lists in Python, to generate the list of integers from 1 to 10.\n",
    "- The expression [i for i in range(1, 11)] iterates over the range of numbers from 1 (inclusive) to 11 (exclusive), and for each number i, it adds i to the list.\n",
    "- The resulting list is stored in the variable integer_list.\n",
    "- We print the integer_list using the print() statement."
   ]
  },
  {
   "cell_type": "markdown",
   "metadata": {
    "id": "jAKf5vAlrGBU"
   },
   "source": [
    "### 2. Find the length of a list without using the `len()` function."
   ]
  },
  {
   "cell_type": "code",
   "execution_count": 57,
   "metadata": {
    "colab": {
     "base_uri": "https://localhost:8080/"
    },
    "id": "hfJ998DQgsbO",
    "outputId": "fa73b8d9-bd23-45bb-8e45-352e3d3f9a0b"
   },
   "outputs": [
    {
     "name": "stdout",
     "output_type": "stream",
     "text": [
      "Length of the list: 5\n"
     ]
    }
   ],
   "source": [
    "def custom_len(input_list):\n",
    "    count = 0\n",
    "    for _ in input_list:\n",
    "        count += 1\n",
    "    return count\n",
    "\n",
    "# Example list\n",
    "my_list = [10, 20, 30, 40, 50]\n",
    "\n",
    "# Find the length of the list using the custom_len function\n",
    "length = custom_len(my_list)\n",
    "\n",
    "# Print the length of the list\n",
    "print(\"Length of the list:\", length)"
   ]
  },
  {
   "cell_type": "code",
   "execution_count": 58,
   "metadata": {
    "colab": {
     "base_uri": "https://localhost:8080/"
    },
    "id": "bpzX5ne5mHml",
    "outputId": "59c8f375-84ea-4367-9dbf-70ff06b1f127"
   },
   "outputs": [
    {
     "name": "stdout",
     "output_type": "stream",
     "text": [
      "['Name', ' Age', ' Country']\n",
      "['John', ' 25', ' USA']\n",
      "['Alice', ' 30', ' Canada']\n",
      "['Bob', ' 22', ' UK']\n"
     ]
    }
   ],
   "source": [
    "s = \"Name, Age, Country\\nJohn, 25, USA\\nAlice, 30, Canada\\nBob, 22, UK\"\n",
    "lines = s.split(\"\\n\")\n",
    "\n",
    "lst = []\n",
    "for line in lines:\n",
    "  field = line.split(\",\")\n",
    "  lst.append(field)\n",
    "\n",
    "for row in lst:\n",
    "  print(row)\n"
   ]
  },
  {
   "cell_type": "markdown",
   "metadata": {
    "id": "B9OeMG2NtXJC"
   },
   "source": [
    "- We define a function custom_len(input_list) that takes a list as input.\n",
    "- Inside the function, we initialize a variable count to keep track of the number of elements in the list.\n",
    "- We use a for loop to iterate through each element in the input list. We use an underscore _ as the loop variable name since we're not using it within the loop.\n",
    "- Inside the loop, for each element, we increment the count by 1.\n",
    "After the loop completes, we return the final value of count as the length of the list.\n",
    "- We provide an example list my_list containing elements.\n",
    "- We call the custom_len() function to find the length of the list using the custom approach and store the result in the variable length.\n",
    "- Finally, we print the length of the list using the print() statement."
   ]
  },
  {
   "cell_type": "markdown",
   "metadata": {
    "id": "wbAR0rp2rGav"
   },
   "source": [
    "### 3. Append an element to the end of a list."
   ]
  },
  {
   "cell_type": "code",
   "execution_count": 59,
   "metadata": {
    "colab": {
     "base_uri": "https://localhost:8080/"
    },
    "id": "2SzNlOKYgsac",
    "outputId": "94ffaf4c-dff9-4ad6-b803-100e16f0ce3d"
   },
   "outputs": [
    {
     "name": "stdout",
     "output_type": "stream",
     "text": [
      "Updated list: [10, 20, 30, 40]\n"
     ]
    }
   ],
   "source": [
    "# Example list\n",
    "my_list = [10, 20, 30]\n",
    "\n",
    "# Element to append\n",
    "new_element = 40\n",
    "\n",
    "# Append the new element to the end of the list\n",
    "my_list.append(new_element)\n",
    "\n",
    "# Print the updated list\n",
    "print(\"Updated list:\", my_list)"
   ]
  },
  {
   "cell_type": "markdown",
   "metadata": {
    "id": "EZjzhtoJtwfC"
   },
   "source": [
    "- We start with an example list my_list containing some elements.\n",
    "- We have a new element, new_element, that we want to add to the end of the list.\n",
    "- We use the append() method on the list to add the new_element to the end.\n",
    "- After the append() operation, the my_list will be updated with the new element at the end.\n",
    "- We print the updated list using the print() statement."
   ]
  },
  {
   "cell_type": "markdown",
   "metadata": {
    "id": "Sl7xCQvDrG0u"
   },
   "source": [
    "### 4. Insert an element at a specific index in a list."
   ]
  },
  {
   "cell_type": "code",
   "execution_count": 60,
   "metadata": {
    "colab": {
     "base_uri": "https://localhost:8080/"
    },
    "id": "oGAwnbFwgsZr",
    "outputId": "a1f3bd7c-1f8c-4671-def6-b9e812f0c51e"
   },
   "outputs": [
    {
     "name": "stdout",
     "output_type": "stream",
     "text": [
      "Updated list: [10, 20, 25, 30, 40, 50]\n"
     ]
    }
   ],
   "source": [
    "# Example list\n",
    "my_list = [10, 20, 30, 40, 50]\n",
    "\n",
    "# Element to insert\n",
    "new_element = 25\n",
    "\n",
    "# Index at which to insert the element\n",
    "index_to_insert = 2\n",
    "\n",
    "# Insert the new element at the specified index\n",
    "my_list.insert(index_to_insert, new_element)\n",
    "\n",
    "# Print the updated list\n",
    "print(\"Updated list:\", my_list)"
   ]
  },
  {
   "cell_type": "markdown",
   "metadata": {
    "id": "VqgEOzA0t3r1"
   },
   "source": [
    "- We start with an example list my_list containing some elements.\n",
    "- We have a new element, new_element, that we want to insert into the list.\n",
    "- We also specify the index at which we want to insert the new element using the index_to_insert variable.\n",
    "- We use the insert() method on the list to add the new_element at the specified index. The syntax is list.insert(index, element).\n",
    "- After the insert() operation, the my_list will be updated with the new element inserted at the specified index.\n",
    "- We print the updated list using the print() statement."
   ]
  },
  {
   "cell_type": "markdown",
   "metadata": {
    "id": "-Xx4g6WgrHYR"
   },
   "source": [
    "### 5. Remove an element from a list by its value."
   ]
  },
  {
   "cell_type": "code",
   "execution_count": 61,
   "metadata": {
    "colab": {
     "base_uri": "https://localhost:8080/"
    },
    "id": "hJ_0KgcJgsYz",
    "outputId": "5c03c6bf-ca22-48f9-aa89-1cf5558a0415"
   },
   "outputs": [
    {
     "name": "stdout",
     "output_type": "stream",
     "text": [
      "Updated list: [10, 20, 40, 50]\n"
     ]
    }
   ],
   "source": [
    "# Example list\n",
    "my_list = [10, 20, 30, 40, 50]\n",
    "\n",
    "# Element to remove\n",
    "element_to_remove = 30\n",
    "\n",
    "# Remove the element by its value\n",
    "my_list.remove(element_to_remove)\n",
    "\n",
    "# Print the updated list\n",
    "print(\"Updated list:\", my_list)"
   ]
  },
  {
   "cell_type": "markdown",
   "metadata": {
    "id": "EF3S--HouDNU"
   },
   "source": [
    "- We start with an example list my_list containing some elements.\n",
    "- We have an element, element_to_remove, that we want to remove from the list by its value.\n",
    "- We use the remove() method on the list to remove the element with the specified value. The syntax is list.remove(element).\n",
    "- After the remove() operation, the my_list will be updated with the specified element removed.\n",
    "- We print the updated list using the print() statement."
   ]
  },
  {
   "cell_type": "markdown",
   "metadata": {
    "id": "yAz6XlYZrHv-"
   },
   "source": [
    "### 6. Remove an element from a list by its index."
   ]
  },
  {
   "cell_type": "code",
   "execution_count": 62,
   "metadata": {
    "colab": {
     "base_uri": "https://localhost:8080/"
    },
    "id": "GYqHgr5QgsMv",
    "outputId": "42171240-254d-4b35-a5c3-8146090820fe"
   },
   "outputs": [
    {
     "name": "stdout",
     "output_type": "stream",
     "text": [
      "Updated list: [10, 20, 40, 50]\n",
      "Removed element: 30\n"
     ]
    }
   ],
   "source": [
    "# Example list\n",
    "my_list = [10, 20, 30, 40, 50]\n",
    "\n",
    "# Index of the element to remove\n",
    "index_to_remove = 2\n",
    "\n",
    "# Remove the element at the specified index\n",
    "removed_element = my_list.pop(index_to_remove)\n",
    "\n",
    "# Print the updated list and the removed element\n",
    "print(\"Updated list:\", my_list)\n",
    "print(\"Removed element:\", removed_element)"
   ]
  },
  {
   "cell_type": "markdown",
   "metadata": {
    "id": "KhIkIDnDuQ_G"
   },
   "source": [
    "- We start with an example list my_list containing some elements.\n",
    "- We specify the index of the element we want to remove using the index_to_remove variable.\n",
    "- We use the pop() method on the list to remove the element at the specified index. The syntax is list.pop(index). The method also returns the removed element.\n",
    "- After the pop() operation, the my_list will be updated with the specified element removed.\n",
    "- We store the removed element in the variable removed_element.\n",
    "- We print the updated list using the print() statement, along with the removed element."
   ]
  },
  {
   "cell_type": "markdown",
   "metadata": {
    "id": "1dnj8Du_rIkf"
   },
   "source": [
    "### 7. Check if an element exists in a list."
   ]
  },
  {
   "cell_type": "code",
   "execution_count": 63,
   "metadata": {
    "colab": {
     "base_uri": "https://localhost:8080/"
    },
    "id": "J7-olb7DgsKt",
    "outputId": "50f07a34-d7ff-4657-c460-d1d65e5d7352"
   },
   "outputs": [
    {
     "name": "stdout",
     "output_type": "stream",
     "text": [
      "30 exists in the list.\n"
     ]
    }
   ],
   "source": [
    "# Example list\n",
    "my_list = [10, 20, 30, 40, 50]\n",
    "\n",
    "# Element to check\n",
    "element_to_check = 30\n",
    "\n",
    "# Check if the element exists in the list\n",
    "if element_to_check in my_list:\n",
    "    print(f\"{element_to_check} exists in the list.\")\n",
    "else:\n",
    "    print(f\"{element_to_check} does not exist in the list.\")"
   ]
  },
  {
   "cell_type": "markdown",
   "metadata": {
    "id": "eDJkeZlsueVb"
   },
   "source": [
    "- We start with an example list my_list containing some elements.\n",
    "- We specify the element we want to check using the element_to_check variable.\n",
    "- We use the in operator to check if the element_to_check exists in the my_list.\n",
    "- If the element exists in the list, the condition element_to_check in my_list will be True, and we print that the element exists.\n",
    "- If the element does not exist in the list, the condition will be False, and we print that the element does not exist."
   ]
  },
  {
   "cell_type": "markdown",
   "metadata": {
    "id": "FImkVOADrI8Y"
   },
   "source": [
    "### 8. Find the index of the first occurrence of an element in a list."
   ]
  },
  {
   "cell_type": "code",
   "execution_count": 64,
   "metadata": {
    "colab": {
     "base_uri": "https://localhost:8080/"
    },
    "id": "wJRKT2wNgsJo",
    "outputId": "fcd9e8de-e7cc-46f4-af24-47afd7c37860"
   },
   "outputs": [
    {
     "name": "stdout",
     "output_type": "stream",
     "text": [
      "The index of 30 is 2\n"
     ]
    }
   ],
   "source": [
    "# Example list\n",
    "my_list = [10, 20, 30, 40, 50, 30]\n",
    "\n",
    "# Element to find the index of\n",
    "element_to_find = 30\n",
    "\n",
    "# Find the index of the first occurrence of the element\n",
    "index = my_list.index(element_to_find)\n",
    "\n",
    "# Print the index\n",
    "print(f\"The index of {element_to_find} is {index}\")"
   ]
  },
  {
   "cell_type": "markdown",
   "metadata": {
    "id": "aqXtvpOfulMz"
   },
   "source": [
    "- We start with an example list my_list containing some elements.\n",
    "- We specify the element for which we want to find the index using the element_to_find variable.\n",
    "- We use the index() method on the list to find the index of the first occurrence of the element_to_find.\n",
    "- The method returns the index of the first occurrence of the element.\n",
    "- We print the index using the print() statement."
   ]
  },
  {
   "cell_type": "markdown",
   "metadata": {
    "id": "jbTlBdlKrJaI"
   },
   "source": [
    "### 9. Count the occurrences of an element in a list."
   ]
  },
  {
   "cell_type": "code",
   "execution_count": 65,
   "metadata": {
    "colab": {
     "base_uri": "https://localhost:8080/"
    },
    "id": "IiB-CoCHgsEA",
    "outputId": "c37b2b36-b63b-461a-b7ce-90bb43703a85"
   },
   "outputs": [
    {
     "name": "stdout",
     "output_type": "stream",
     "text": [
      "The element 30 occurs 3 times in the list.\n"
     ]
    }
   ],
   "source": [
    "# Example list\n",
    "my_list = [10, 20, 30, 40, 50, 30, 30]\n",
    "\n",
    "# Element to count occurrences of\n",
    "element_to_count = 30\n",
    "\n",
    "# Count the occurrences of the element\n",
    "count = my_list.count(element_to_count)\n",
    "\n",
    "# Print the count\n",
    "print(f\"The element {element_to_count} occurs {count} times in the list.\")"
   ]
  },
  {
   "cell_type": "markdown",
   "metadata": {
    "id": "0sdDBSEgvJH6"
   },
   "source": [
    "- We start with an example list my_list containing some elements.\n",
    "- We specify the element for which we want to count occurrences using the element_to_count variable.\n",
    "- We use the count() method on the list to count the occurrences of the element_to_count.\n",
    "- The method returns the count of occurrences of the element.\n",
    "- We print the count using the print() statement."
   ]
  },
  {
   "cell_type": "markdown",
   "metadata": {
    "id": "QamShnd6rJ1q"
   },
   "source": [
    "### 10. Reverse the order of elements in a list."
   ]
  },
  {
   "cell_type": "code",
   "execution_count": 66,
   "metadata": {
    "colab": {
     "base_uri": "https://localhost:8080/"
    },
    "id": "xOLx-OD6gsBQ",
    "outputId": "2529d021-3ea2-47a7-c9f8-fbcf2286e1cf"
   },
   "outputs": [
    {
     "name": "stdout",
     "output_type": "stream",
     "text": [
      "Reversed list: [50, 40, 30, 20, 10]\n"
     ]
    }
   ],
   "source": [
    "# Example list\n",
    "my_list = [10, 20, 30, 40, 50]\n",
    "\n",
    "# Reverse the order of elements in the list\n",
    "my_list.reverse()\n",
    "\n",
    "# Print the reversed list\n",
    "print(\"Reversed list:\", my_list)"
   ]
  },
  {
   "cell_type": "markdown",
   "metadata": {
    "id": "gPye3zLYva1r"
   },
   "source": [
    "- We start with an example list my_list containing some elements.\n",
    "- We use the reverse() method on the list to reverse the order of elements in-place.\n",
    "- After the reverse() operation, the my_list will be updated with the elements in reverse order.\n",
    "- We print the reversed list using the print() statement."
   ]
  },
  {
   "cell_type": "markdown",
   "metadata": {
    "id": "EDi2f4uDrKNj"
   },
   "source": [
    "### 11. Sort a list in ascending order."
   ]
  },
  {
   "cell_type": "code",
   "execution_count": 67,
   "metadata": {
    "colab": {
     "base_uri": "https://localhost:8080/"
    },
    "id": "QBueF5bZgr_B",
    "outputId": "0f84d9fa-8a9e-406b-e6c7-742c9672a8e9"
   },
   "outputs": [
    {
     "name": "stdout",
     "output_type": "stream",
     "text": [
      "Sorted list in ascending order: [10, 20, 30, 40, 50]\n"
     ]
    }
   ],
   "source": [
    "# Example list\n",
    "my_list = [50, 10, 30, 40, 20]\n",
    "\n",
    "# Sort the list in ascending order\n",
    "my_list.sort()\n",
    "\n",
    "# Print the sorted list\n",
    "print(\"Sorted list in ascending order:\", my_list)"
   ]
  },
  {
   "cell_type": "markdown",
   "metadata": {
    "id": "H1Era3V7vrG3"
   },
   "source": [
    "- We start with an example list my_list containing some elements.\n",
    "- We use the sort() method on the list to sort the elements in ascending order in-place.\n",
    "- After the sort() operation, the my_list will be updated with the elements sorted in ascending order.\n",
    "- We print the sorted list using the print() statement."
   ]
  },
  {
   "cell_type": "markdown",
   "metadata": {
    "id": "i3fV_9K9rKuv"
   },
   "source": [
    "### 12. Sort a list in descending order."
   ]
  },
  {
   "cell_type": "code",
   "execution_count": 68,
   "metadata": {
    "colab": {
     "base_uri": "https://localhost:8080/"
    },
    "id": "Lbyz_1aGgr-I",
    "outputId": "4be1969c-d0bf-46cf-d7bf-1176a6c5f886"
   },
   "outputs": [
    {
     "name": "stdout",
     "output_type": "stream",
     "text": [
      "Sorted list in descending order: [50, 40, 30, 20, 10]\n"
     ]
    }
   ],
   "source": [
    "# Example list\n",
    "my_list = [50, 10, 30, 40, 20]\n",
    "\n",
    "# Sort the list in descending order\n",
    "my_list.sort(reverse=True)\n",
    "\n",
    "# Print the sorted list\n",
    "print(\"Sorted list in descending order:\", my_list)"
   ]
  },
  {
   "cell_type": "markdown",
   "metadata": {
    "id": "xxiJNi3pv6nN"
   },
   "source": [
    "- We start with an example list my_list containing some elements.\n",
    "- We use the sort() method on the list with the reverse parameter set to True to sort the elements in descending order in-place.\n",
    "- After the sort() operation, the my_list will be updated with the elements sorted in descending order.\n",
    "- We print the sorted list using the print() statement."
   ]
  },
  {
   "cell_type": "markdown",
   "metadata": {
    "id": "hWwRTjbmrLJ2"
   },
   "source": [
    "### 13. Create a list of even numbers from 1 to 20."
   ]
  },
  {
   "cell_type": "code",
   "execution_count": 69,
   "metadata": {
    "colab": {
     "base_uri": "https://localhost:8080/"
    },
    "id": "QKoCcI-dgr7s",
    "outputId": "43d1434e-2bdb-4541-b384-7b515f31927c"
   },
   "outputs": [
    {
     "name": "stdout",
     "output_type": "stream",
     "text": [
      "List of even numbers: [2, 4, 6, 8, 10, 12, 14, 16, 18, 20]\n"
     ]
    }
   ],
   "source": [
    "# Use a list comprehension to create a list of even numbers from 1 to 20\n",
    "even_numbers = [x for x in range(2, 21, 2)]\n",
    "\n",
    "# Print the list of even numbers\n",
    "print(\"List of even numbers:\", even_numbers)"
   ]
  },
  {
   "cell_type": "markdown",
   "metadata": {
    "id": "3B7Mkv3PwHuX"
   },
   "source": [
    "- We use a list comprehension to generate the list of even numbers.\n",
    "- The expression [x for x in range(2, 21, 2)] iterates over the range of numbers from 2 to 20 with a step of 2 (to include only even numbers).\n",
    "- For each even number x in the range, it adds x to the list.\n",
    "- The resulting list is stored in the variable even_numbers.\n",
    "- We print the list of even numbers using the print() statement."
   ]
  },
  {
   "cell_type": "markdown",
   "metadata": {
    "id": "KP7eNEH-yVz-"
   },
   "source": [
    "### 14. Create a list of odd numbers from 1 to 20."
   ]
  },
  {
   "cell_type": "code",
   "execution_count": 70,
   "metadata": {
    "colab": {
     "base_uri": "https://localhost:8080/"
    },
    "id": "X4zdu8hZgr66",
    "outputId": "5e7fd5dd-7082-40c2-a7fe-2e4dd5731d9e"
   },
   "outputs": [
    {
     "name": "stdout",
     "output_type": "stream",
     "text": [
      "List of odd numbers: [1, 3, 5, 7, 9, 11, 13, 15, 17, 19]\n"
     ]
    }
   ],
   "source": [
    "# Use a list comprehension to create a list of odd numbers from 1 to 20\n",
    "odd_numbers = [x for x in range(1, 21, 2)]\n",
    "\n",
    "# Print the list of odd numbers\n",
    "print(\"List of odd numbers:\", odd_numbers)"
   ]
  },
  {
   "cell_type": "markdown",
   "metadata": {
    "id": "uo2_aUNCwW46"
   },
   "source": [
    "- We use a list comprehension to generate the list of odd numbers.\n",
    "- The expression [x for x in range(1, 21, 2)] iterates over the range of numbers from 1 to 20 with a step of 2 (to include only odd numbers).\n",
    "- For each odd number x in the range, it adds x to the list.\n",
    "- The resulting list is stored in the variable odd_numbers.\n",
    "- We print the list of odd numbers using the print() statement."
   ]
  },
  {
   "cell_type": "markdown",
   "metadata": {
    "id": "EUVagH8XyWVJ"
   },
   "source": [
    "### 15. Find the sum of all elements in a list."
   ]
  },
  {
   "cell_type": "code",
   "execution_count": 71,
   "metadata": {
    "colab": {
     "base_uri": "https://localhost:8080/"
    },
    "id": "uQ_N2M2DgrzK",
    "outputId": "be995df1-2f20-43ce-a923-c1d7a499cb2e"
   },
   "outputs": [
    {
     "name": "stdout",
     "output_type": "stream",
     "text": [
      "Sum of elements: 150\n"
     ]
    }
   ],
   "source": [
    "# Example list\n",
    "my_list = [10, 20, 30, 40, 50]\n",
    "\n",
    "# Calculate the sum of all elements in the list\n",
    "total_sum = sum(my_list)\n",
    "\n",
    "# Print the sum\n",
    "print(\"Sum of elements:\", total_sum)"
   ]
  },
  {
   "cell_type": "markdown",
   "metadata": {
    "id": "s5aKkFGrwkkq"
   },
   "source": [
    "- We start with an example list my_list containing some elements.\n",
    "- We use the sum() function and provide the my_list as an argument to calculate the sum of all elements in the list.\n",
    "- The sum() function returns the sum of the elements.\n",
    "- We print the sum using the print() statement."
   ]
  },
  {
   "cell_type": "markdown",
   "metadata": {
    "id": "gk0LFY23yW3C"
   },
   "source": [
    "### 16. Find the maximum value in a list."
   ]
  },
  {
   "cell_type": "code",
   "execution_count": 72,
   "metadata": {
    "colab": {
     "base_uri": "https://localhost:8080/"
    },
    "id": "vew0f_HggrwP",
    "outputId": "90b9db0c-857f-4fb7-ffb4-058d9fd75ed6"
   },
   "outputs": [
    {
     "name": "stdout",
     "output_type": "stream",
     "text": [
      "Maximum value: 50\n"
     ]
    }
   ],
   "source": [
    "# Example list\n",
    "my_list = [10, 20, 30, 40, 50]\n",
    "\n",
    "# Find the maximum value in the list\n",
    "max_value = max(my_list)\n",
    "\n",
    "# Print the maximum value\n",
    "print(\"Maximum value:\", max_value)"
   ]
  },
  {
   "cell_type": "markdown",
   "metadata": {
    "id": "mxzk9oOGyg47"
   },
   "source": [
    "- We start with an example list my_list containing some elements.\n",
    "- We use the max() function and provide the my_list as an argument to find the maximum value in the list.\n",
    "- The max() function returns the maximum value from the elements in the list.\n",
    "- We print the maximum value using the print() statement."
   ]
  },
  {
   "cell_type": "markdown",
   "metadata": {
    "id": "BcraRjtzyXYX"
   },
   "source": [
    "### 17. Find the minimum value in a list."
   ]
  },
  {
   "cell_type": "code",
   "execution_count": 73,
   "metadata": {
    "colab": {
     "base_uri": "https://localhost:8080/"
    },
    "id": "M9RVQZeBgrtb",
    "outputId": "eab214a8-aa38-45b5-fb5d-371078bb4537"
   },
   "outputs": [
    {
     "name": "stdout",
     "output_type": "stream",
     "text": [
      "Minimum value: 10\n"
     ]
    }
   ],
   "source": [
    "# Example list\n",
    "my_list = [10, 20, 30, 40, 50]\n",
    "\n",
    "# Find the minimum value in the list\n",
    "min_value = min(my_list)\n",
    "\n",
    "# Print the minimum value\n",
    "print(\"Minimum value:\", min_value)"
   ]
  },
  {
   "cell_type": "markdown",
   "metadata": {
    "id": "qPOCGGVnysDH"
   },
   "source": [
    "- We start with an example list my_list containing some elements.\n",
    "- We use the min() function and provide the my_list as an argument to find the minimum value in the list.\n",
    "- The min() function returns the minimum value from the elements in the list.\n",
    "- We print the minimum value using the print() statement."
   ]
  },
  {
   "cell_type": "markdown",
   "metadata": {
    "id": "ujcm7alzyX5Y"
   },
   "source": [
    "### 18. Create a list of squares of numbers from 1 to 10."
   ]
  },
  {
   "cell_type": "code",
   "execution_count": 74,
   "metadata": {
    "colab": {
     "base_uri": "https://localhost:8080/"
    },
    "id": "_0IoT32Kgrq1",
    "outputId": "6805aeba-7cd9-4e76-897d-01a1637cb1cc"
   },
   "outputs": [
    {
     "name": "stdout",
     "output_type": "stream",
     "text": [
      "List of squares: [1, 4, 9, 16, 25, 36, 49, 64, 81, 100]\n"
     ]
    }
   ],
   "source": [
    "# Use a list comprehension to create a list of squares of numbers from 1 to 10\n",
    "squares = [x ** 2 for x in range(1, 11)]\n",
    "\n",
    "# Print the list of squares\n",
    "print(\"List of squares:\", squares)"
   ]
  },
  {
   "cell_type": "markdown",
   "metadata": {
    "id": "jdceAj85y1hH"
   },
   "source": [
    "- We use a list comprehension to generate the list of squares.\n",
    "- The expression [x ** 2 for x in range(1, 11)] iterates over the range of numbers from 1 to 10.\n",
    "- For each number x in the range, it calculates the square x ** 2 and adds it to the list.\n",
    "- The resulting list is stored in the variable squares.\n",
    "- We print the list of squares using the print() statement."
   ]
  },
  {
   "cell_type": "markdown",
   "metadata": {
    "id": "yJVngKybyYc-"
   },
   "source": [
    "### 19. Create a list of random numbers."
   ]
  },
  {
   "cell_type": "code",
   "execution_count": 75,
   "metadata": {
    "colab": {
     "base_uri": "https://localhost:8080/"
    },
    "id": "uKrRQ4psgrpC",
    "outputId": "f51faf37-4c4c-47d2-f27f-fb18905b4e31"
   },
   "outputs": [
    {
     "name": "stdout",
     "output_type": "stream",
     "text": [
      "List of random integers: [53, 64, 62, 6, 99, 100, 74, 39, 73, 53]\n"
     ]
    }
   ],
   "source": [
    "import random\n",
    "\n",
    "# Create a list of random integers between 1 and 100\n",
    "random_integers = [random.randint(1, 100) for _ in range(10)]\n",
    "\n",
    "# Print the list of random integers\n",
    "print(\"List of random integers:\", random_integers)"
   ]
  },
  {
   "cell_type": "markdown",
   "metadata": {
    "id": "4teenACyzMQf"
   },
   "source": [
    "- Import the random module at the beginning of the code.\n",
    "- Use a list comprehension to generate the list of random numbers.\n",
    "- In the first example, the expression [random.random() for _ in range(10)] generates a list of 10 random floating-point numbers between 0 and 1.\n",
    "- In the second example, the expression [random.randint(1, 100) for _ in range(10)] generates a list of 10 random integers between 1 and 100.\n",
    "- The resulting list of random numbers (either floating-point numbers or integers) is stored in the appropriate variable (random_numbers or random_integers).\n",
    "- Print the list of random numbers using the print() statement."
   ]
  },
  {
   "cell_type": "markdown",
   "metadata": {
    "id": "pWJClsASyZYs"
   },
   "source": [
    "### 20. Remove duplicates from a list."
   ]
  },
  {
   "cell_type": "code",
   "execution_count": 76,
   "metadata": {
    "colab": {
     "base_uri": "https://localhost:8080/"
    },
    "id": "GCtPMDhngrnD",
    "outputId": "0a82aa55-dc06-4e44-832e-e56aa0956904"
   },
   "outputs": [
    {
     "name": "stdout",
     "output_type": "stream",
     "text": [
      "List without duplicates: [40, 10, 50, 20, 30]\n"
     ]
    }
   ],
   "source": [
    "# Example list with duplicates\n",
    "my_list = [10, 20, 30, 20, 40, 10, 50, 30]\n",
    "\n",
    "# Remove duplicates by converting to a set and back to a list\n",
    "unique_list = list(set(my_list))\n",
    "\n",
    "# Print the list without duplicates\n",
    "print(\"List without duplicates:\", unique_list)"
   ]
  },
  {
   "cell_type": "markdown",
   "metadata": {
    "id": "GRplsj0KzgnT"
   },
   "source": [
    "- We start with an example list my_list containing duplicate elements.\n",
    "- We convert the list to a set using the set() constructor. Sets automatically remove duplicate elements.\n",
    "- Then, we convert the set back to a list using the list() constructor, resulting in a list without duplicates.\n",
    "- The resulting list without duplicates is stored in the variable unique_list.\n",
    "- We print the list without duplicates using the print() statement."
   ]
  },
  {
   "cell_type": "markdown",
   "metadata": {
    "id": "kt9V5-TCyaEA"
   },
   "source": [
    "### 21. Find the common elements between two lists."
   ]
  },
  {
   "cell_type": "code",
   "execution_count": 77,
   "metadata": {
    "colab": {
     "base_uri": "https://localhost:8080/"
    },
    "id": "ArK5jg0xgrmT",
    "outputId": "bf843977-ee06-4751-cd1c-6b1881dd0d1e"
   },
   "outputs": [
    {
     "ename": "SyntaxError",
     "evalue": "invalid syntax (1758263510.py, line 1)",
     "output_type": "error",
     "traceback": [
      "\u001b[0;36m  Cell \u001b[0;32mIn[77], line 1\u001b[0;36m\u001b[0m\n\u001b[0;31m    21. Find the common elements between two lists.\u001b[0m\n\u001b[0m        ^\u001b[0m\n\u001b[0;31mSyntaxError\u001b[0m\u001b[0;31m:\u001b[0m invalid syntax\n"
     ]
    }
   ],
   "source": [
    "21. Find the common elements between two lists."
   ]
  },
  {
   "cell_type": "markdown",
   "metadata": {
    "id": "4KFpYGmXzthg"
   },
   "source": [
    "- We start with two example lists, list1 and list2, which contain some elements.\n",
    "- We use a list comprehension to iterate through each element in list1.\n",
    "- For each element, we check if it exists in list2 using the element in list2 expression.\n",
    "- If the element is found in both lists, it is added to the common_elements list.\n",
    "- The resulting list of common elements is stored in the variable common_elements.\n",
    "- We print the common elements using the print() statement."
   ]
  },
  {
   "cell_type": "markdown",
   "metadata": {
    "id": "uPK_WBxayall"
   },
   "source": [
    "### 22. Find the difference between two lists."
   ]
  },
  {
   "cell_type": "code",
   "execution_count": 78,
   "metadata": {
    "colab": {
     "base_uri": "https://localhost:8080/"
    },
    "id": "tKw_7cGggrlg",
    "outputId": "0c359200-411f-4fd0-ca9c-4b5af691454b"
   },
   "outputs": [
    {
     "name": "stdout",
     "output_type": "stream",
     "text": [
      "Difference between lists: [20, 10]\n"
     ]
    }
   ],
   "source": [
    "# Example lists\n",
    "list1 = [10, 20, 30, 40, 50]\n",
    "list2 = [30, 40, 50, 60, 70]\n",
    "\n",
    "# Find the difference between lists using the difference() method\n",
    "difference = list(set(list1).difference(list2))\n",
    "\n",
    "# Print the difference\n",
    "print(\"Difference between lists:\", difference)"
   ]
  },
  {
   "cell_type": "markdown",
   "metadata": {
    "id": "UsIn5RvIz9-Q"
   },
   "source": [
    "- We start with two example lists, list1 and list2, which contain some elements.\n",
    "- We use the difference() method on the set created from list1 to find the elements that are not present in list2.\n",
    "- The difference() method returns a set containing the elements that are in list1 but not in list2.\n",
    "- We convert the resulting set back to a list using the list() constructor to get the difference.\n",
    "- The resulting list of the difference is stored in the variable difference.\n",
    "- We print the difference using the print() statement."
   ]
  },
  {
   "cell_type": "markdown",
   "metadata": {
    "id": "WLfspKUZybIj"
   },
   "source": [
    "### 23. Merge two lists."
   ]
  },
  {
   "cell_type": "code",
   "execution_count": 79,
   "metadata": {
    "colab": {
     "base_uri": "https://localhost:8080/"
    },
    "id": "AWskZS1lgrca",
    "outputId": "92e442bc-dbdd-4dcc-db7f-cabe4d90f4a0"
   },
   "outputs": [
    {
     "name": "stdout",
     "output_type": "stream",
     "text": [
      "Merged list: [10, 20, 30, 40, 50, 60]\n"
     ]
    }
   ],
   "source": [
    "# Example lists\n",
    "list1 = [10, 20, 30]\n",
    "list2 = [40, 50, 60]\n",
    "\n",
    "# Merge lists using the + operator\n",
    "merged_list = list1 + list2\n",
    "\n",
    "# Print the merged list\n",
    "print(\"Merged list:\", merged_list)"
   ]
  },
  {
   "cell_type": "markdown",
   "metadata": {
    "id": "_OWNZvy60GTU"
   },
   "source": [
    "- We start with two example lists, list1 and list2, which contain some elements.\n",
    "- We use the + operator to concatenate list1 and list2, creating a new list merged_list.\n",
    "- The + operator combines the elements of both lists into a single list.\n",
    "- The resulting merged list is stored in the variable merged_list.\n",
    "- We print the merged list using the print() statement."
   ]
  },
  {
   "cell_type": "markdown",
   "metadata": {
    "id": "l-jBC_m-ybsl"
   },
   "source": [
    "### 24. Multiply all elements in a list by 2."
   ]
  },
  {
   "cell_type": "code",
   "execution_count": 80,
   "metadata": {
    "colab": {
     "base_uri": "https://localhost:8080/"
    },
    "id": "YTW-BpSAgrZa",
    "outputId": "b3cea98d-5ae4-48f2-c4ff-d96d648c9382"
   },
   "outputs": [
    {
     "name": "stdout",
     "output_type": "stream",
     "text": [
      "Multiplied list: [20, 40, 60, 80, 100]\n"
     ]
    }
   ],
   "source": [
    "# Example list\n",
    "my_list = [10, 20, 30, 40, 50]\n",
    "\n",
    "# Multiply all elements by 2 using a list comprehension\n",
    "multiplied_list = [x * 2 for x in my_list]\n",
    "\n",
    "# Print the multiplied list\n",
    "print(\"Multiplied list:\", multiplied_list)"
   ]
  },
  {
   "cell_type": "markdown",
   "metadata": {
    "id": "T6e8x-Wz0shJ"
   },
   "source": [
    "- We start with an example list my_list containing some elements.\n",
    "- We use a list comprehension to iterate through each element in my_list.\n",
    "- For each element, we multiply it by 2 (x * 2) and add the result to the multiplied_list.\n",
    "- The resulting list with multiplied elements is stored in the variable multiplied_list.\n",
    "- We print the multiplied list using the print() statement."
   ]
  },
  {
   "cell_type": "markdown",
   "metadata": {
    "id": "pKwR1FtnydOf"
   },
   "source": [
    "### 25. Filter out all even numbers from a list."
   ]
  },
  {
   "cell_type": "code",
   "execution_count": null,
   "metadata": {
    "colab": {
     "base_uri": "https://localhost:8080/"
    },
    "id": "hd1w3qMRgrXg",
    "outputId": "50cb06a8-b613-43f5-b746-f25faa5b49db"
   },
   "outputs": [],
   "source": []
  },
  {
   "cell_type": "markdown",
   "metadata": {
    "id": "H9OROtQ9033z"
   },
   "source": [
    "- We start with an example list my_list containing some elements.\n",
    "- We use a list comprehension to iterate through each element in my_list.\n",
    "- For each element, we use a conditional statement (x % 2 != 0) to check if the element is not even (odd).\n",
    "  - If the element is odd (not even), it is added to the filtered_list.\n",
    "  - The resulting list with odd numbers is stored in the variable filtered_list.\n",
    "- We print the filtered list using the print() statement."
   ]
  },
  {
   "cell_type": "markdown",
   "metadata": {
    "id": "sd3pGwkWydxT"
   },
   "source": [
    "### 26. Convert a list of strings to a list of integers."
   ]
  },
  {
   "cell_type": "code",
   "execution_count": 81,
   "metadata": {
    "colab": {
     "base_uri": "https://localhost:8080/"
    },
    "id": "gTMnFQ7agrWj",
    "outputId": "ee90c82f-b8e7-4ecd-eb82-56ef8d272a8f"
   },
   "outputs": [
    {
     "name": "stdout",
     "output_type": "stream",
     "text": [
      "List of integers: [10, 20, 30, 40, 50]\n"
     ]
    }
   ],
   "source": [
    "# Example list of strings\n",
    "string_list = [\"10\", \"20\", \"30\", \"40\", \"50\"]\n",
    "\n",
    "# Convert list of strings to list of integers using a list comprehension\n",
    "integer_list = [int(x) for x in string_list]\n",
    "\n",
    "# Print the list of integers\n",
    "print(\"List of integers:\", integer_list)"
   ]
  },
  {
   "cell_type": "markdown",
   "metadata": {
    "id": "2RMs_wrw1B2z"
   },
   "source": [
    "- We start with an example list string_list containing strings representing numbers.\n",
    "- We use a list comprehension to iterate through each string in string_list.\n",
    "- For each string, we use the int() function to convert it to an integer and add the integer to the integer_list.\n",
    "- The resulting list of integers is stored in the variable integer_list.\n",
    "- We print the list of integers using the print() statement."
   ]
  },
  {
   "cell_type": "markdown",
   "metadata": {
    "id": "8LTYpEUxyeT1"
   },
   "source": [
    "### 27. Convert a list of integers to a list of strings."
   ]
  },
  {
   "cell_type": "code",
   "execution_count": 82,
   "metadata": {
    "colab": {
     "base_uri": "https://localhost:8080/"
    },
    "id": "Ha1tu5VAgrRm",
    "outputId": "388bd9b6-79ab-403a-8027-744669599a74"
   },
   "outputs": [
    {
     "name": "stdout",
     "output_type": "stream",
     "text": [
      "List of strings: ['10', '20', '30', '40', '50']\n"
     ]
    }
   ],
   "source": [
    "# Example list of integers\n",
    "integer_list = [10, 20, 30, 40, 50]\n",
    "\n",
    "# Convert list of integers to list of strings using a list comprehension\n",
    "string_list = [str(x) for x in integer_list]\n",
    "\n",
    "# Print the list of strings\n",
    "print(\"List of strings:\", string_list)"
   ]
  },
  {
   "cell_type": "markdown",
   "metadata": {
    "id": "xTacQThw1Kof"
   },
   "source": [
    "- We start with an example list integer_list containing integers.\n",
    "- We use a list comprehension to iterate through each integer in integer_list.\n",
    "- For each integer, we use the str() function to convert it to a string and add the string to the string_list.\n",
    "- The resulting list of strings is stored in the variable string_list.\n",
    "- We print the list of strings using the print() statement."
   ]
  },
  {
   "cell_type": "markdown",
   "metadata": {
    "id": "yjFHarGqye0x"
   },
   "source": [
    "### 28. Flatten a nested list."
   ]
  },
  {
   "cell_type": "code",
   "execution_count": 83,
   "metadata": {
    "colab": {
     "base_uri": "https://localhost:8080/"
    },
    "id": "5iekdXfxgrPo",
    "outputId": "efd4232e-c3e8-4449-ae55-57459491aa15"
   },
   "outputs": [
    {
     "name": "stdout",
     "output_type": "stream",
     "text": [
      "Flattened list: [1, 2, 3, 4, 5, 6, 7, 8, 9]\n"
     ]
    }
   ],
   "source": [
    "# Example nested list\n",
    "nested_list = [[1, 2, 3], [4, 5], [6, 7, 8, 9]]\n",
    "\n",
    "# Function to flatten a nested list\n",
    "def flatten_list(nested):\n",
    "    flattened = []\n",
    "    for sublist in nested:\n",
    "        if isinstance(sublist, list):\n",
    "            flattened.extend(flatten_list(sublist))\n",
    "        else:\n",
    "            flattened.append(sublist)\n",
    "    return flattened\n",
    "\n",
    "# Flatten the nested list\n",
    "flattened_list = flatten_list(nested_list)\n",
    "\n",
    "# Print the flattened list\n",
    "print(\"Flattened list:\", flattened_list)"
   ]
  },
  {
   "cell_type": "markdown",
   "metadata": {
    "id": "84rYR5w-1T2u"
   },
   "source": [
    "- We start with an example nested list nested_list containing sublists.\n",
    "- We define a function flatten_list() that takes a nested list as an argument.\n",
    "- Inside the function, we initialize an empty list called flattened to store the flattened elements.\n",
    "- We iterate through each element in the nested list.\n",
    "- If an element is a sublist (i.e., it's an instance of the list type), we recursively call the flatten_list() function on that sublist and extend the flattened list with its flattened contents.\n",
    "- If an element is not a sublist, we directly append it to the flattened list.\n",
    "- After processing all elements, the function returns the flattened list.\n",
    "We call the flatten_list() function on the nested_list to get the flattened list.\n",
    "- We print the flattened list using the print() statement."
   ]
  },
  {
   "cell_type": "markdown",
   "metadata": {
    "id": "5oiXi4tfyfWs"
   },
   "source": [
    "### 29. Create a list of the first 10 Fibonacci numbers."
   ]
  },
  {
   "cell_type": "code",
   "execution_count": 84,
   "metadata": {
    "colab": {
     "base_uri": "https://localhost:8080/"
    },
    "id": "7aAqEChcgrLi",
    "outputId": "dc93bb35-5bfb-435a-cf0c-761f9d394245"
   },
   "outputs": [
    {
     "name": "stdout",
     "output_type": "stream",
     "text": [
      "First 10 Fibonacci numbers: [0, 1]\n"
     ]
    }
   ],
   "source": [
    "# Function to generate the first n Fibonacci numbers\n",
    "def generate_fibonacci(n):\n",
    "    fibonacci_list = [0, 1]  # Initialize the list with the first two Fibonacci numbers\n",
    "\n",
    "    for i in range(2, n):\n",
    "        next_fibonacci = fibonacci_list[i - 1] + fibonacci_list[i - 2]\n",
    "        fibonacci_list.append(next_fibonacci)\n",
    "\n",
    "    return fibonacci_list\n",
    "\n",
    "# Generate the first 10 Fibonacci numbers\n",
    "fibonacci_numbers = generate_fibonacci(2)\n",
    "\n",
    "# Print the list of Fibonacci numbers\n",
    "print(\"First 10 Fibonacci numbers:\", fibonacci_numbers)"
   ]
  },
  {
   "cell_type": "markdown",
   "metadata": {
    "id": "dWw5izDq1ddc"
   },
   "source": [
    "- We define a function generate_fibonacci() that takes the parameter n to determine how many Fibonacci numbers to generate.\n",
    "- Inside the function, we initialize a list called fibonacci_list with the first two Fibonacci numbers: 0 and 1.\n",
    "- We use a loop that starts from the third Fibonacci number (index 2) up to the desired count n.\n",
    "- In each iteration, we calculate the next Fibonacci number by adding the last two numbers in the fibonacci_list.\n",
    "- We append the next Fibonacci number to the fibonacci_list.\n",
    "- After generating all Fibonacci numbers, the function returns the fibonacci_list.\n",
    "- We call the generate_fibonacci() function with the argument 10 to generate the first 10 Fibonacci numbers.\n",
    "- We print the list of Fibonacci numbers using the print() statement."
   ]
  },
  {
   "cell_type": "markdown",
   "metadata": {
    "id": "yzPpXDnoyf4p"
   },
   "source": [
    "### 30. Check if a list is sorted.\n",
    "  \n",
    "  - Checking for ascending order:"
   ]
  },
  {
   "cell_type": "code",
   "execution_count": 85,
   "metadata": {
    "colab": {
     "base_uri": "https://localhost:8080/"
    },
    "id": "NNFBtpO-14Zx",
    "outputId": "a3d1a5a6-edc6-4a4b-ec10-ecad5394480b"
   },
   "outputs": [
    {
     "name": "stdout",
     "output_type": "stream",
     "text": [
      "The list is sorted in ascending order.\n"
     ]
    }
   ],
   "source": [
    "# Function to check if a list is sorted in ascending order\n",
    "def is_sorted_ascending(lst):\n",
    "    for i in range(1, len(lst)):\n",
    "        if lst[i] < lst[i - 1]:\n",
    "            return False\n",
    "    return True\n",
    "\n",
    "# Example list\n",
    "ascending_list = [10, 20, 30, 40, 50]\n",
    "\n",
    "# Check if the list is sorted in ascending order\n",
    "if is_sorted_ascending(ascending_list):\n",
    "    print(\"The list is sorted in ascending order.\")\n",
    "else:\n",
    "    print(\"The list is not sorted in ascending order.\")"
   ]
  },
  {
   "cell_type": "markdown",
   "metadata": {
    "id": "NXXsUz_r13wl"
   },
   "source": [
    "- We define a function is_sorted_ascending() that takes a list lst as an argument.\n",
    "- Inside the function, we iterate through the list starting from the second element (i = 1) up to the last element.\n",
    "- In each iteration, we compare the current element with the previous element (lst[i] < lst[i - 1]). If it's smaller, it indicates the list is not sorted in ascending order.\n",
    "- If the loop completes without finding any out-of-order elements, the function returns True, indicating that the list is sorted in ascending order."
   ]
  },
  {
   "cell_type": "markdown",
   "metadata": {
    "id": "897y4fgR2Hop"
   },
   "source": [
    "### 31. Rotate a list to the left by `n` positions."
   ]
  },
  {
   "cell_type": "code",
   "execution_count": 86,
   "metadata": {
    "colab": {
     "base_uri": "https://localhost:8080/"
    },
    "id": "HBM2P3fhgrHp",
    "outputId": "9dbbbab2-3f8c-4b0c-dcda-94c9cd347930"
   },
   "outputs": [
    {
     "name": "stdout",
     "output_type": "stream",
     "text": [
      "Rotated list: [3, 4, 5, 6, 1, 2]\n"
     ]
    }
   ],
   "source": [
    "# Function to rotate a list to the left by n positions\n",
    "def rotate_left(lst, n):\n",
    "    n = n % len(lst)  # Normalize n to handle cases where n is larger than the list length\n",
    "    # print(n)\n",
    "    rotated = lst[n:] + lst[:n]\n",
    "    return rotated\n",
    "\n",
    "# Example list\n",
    "my_list = [1, 2, 3, 4, 5, 6]\n",
    "\n",
    "# Number of positions to rotate by\n",
    "n = 2\n",
    "\n",
    "# Rotate the list to the left by n positions\n",
    "rotated_list = rotate_left(my_list, n)\n",
    "\n",
    "# Print the rotated list\n",
    "print(\"Rotated list:\", rotated_list)"
   ]
  },
  {
   "cell_type": "markdown",
   "metadata": {
    "id": "wgLMKM5K2ilL"
   },
   "source": [
    "- We define a function rotate_left() that takes a list lst and the number of positions n as arguments.\n",
    "- Inside the function, we normalize n by taking the modulo of n with the length of the list. This handles cases where n is larger than the list length.\n",
    "- We use list slicing to create the rotated list. We take elements from position n to the end (lst[n:]) and concatenate it with elements from the beginning to position n (lst[:n]).\n",
    "- The resulting rotated list represents the original list rotated to the left by n positions.\n",
    "- We return the rotated list from the function.\n",
    "- In the example code, we have an example list my_list and specify the number of positions n to rotate by.\n",
    "- We call the rotate_left() function to get the rotated list.\n",
    "- We print the rotated list using the print() statement."
   ]
  },
  {
   "cell_type": "markdown",
   "metadata": {
    "id": "K95fHXLB2IOX"
   },
   "source": [
    "### 32. Rotate a list to the right by `n` positions."
   ]
  },
  {
   "cell_type": "code",
   "execution_count": 87,
   "metadata": {
    "colab": {
     "base_uri": "https://localhost:8080/"
    },
    "id": "VXMNpkFMgrGt",
    "outputId": "2e17a293-0c6a-4f66-aade-32b4519741a1"
   },
   "outputs": [
    {
     "name": "stdout",
     "output_type": "stream",
     "text": [
      "Rotated list: [5, 6, 1, 2, 3, 4]\n"
     ]
    }
   ],
   "source": [
    "# Function to rotate a list to the right by n positions\n",
    "def rotate_right(lst, n):\n",
    "    n = n % len(lst)  # Normalize n to handle cases where n is larger than the list length\n",
    "    # print(n)\n",
    "    rotated = lst[-n:] + lst[:-n]\n",
    "    return rotated\n",
    "\n",
    "# Example list\n",
    "my_list = [1, 2, 3, 4, 5, 6]\n",
    "\n",
    "# Number of positions to rotate by\n",
    "n = 2\n",
    "\n",
    "# Rotate the list to the right by n positions\n",
    "rotated_list = rotate_right(my_list, n)\n",
    "\n",
    "# Print the rotated list\n",
    "print(\"Rotated list:\", rotated_list)"
   ]
  },
  {
   "cell_type": "markdown",
   "metadata": {
    "id": "Wv9n4BO-2jUb"
   },
   "source": [
    "- We define a function rotate_right() that takes a list lst and the number of positions n as arguments.\n",
    "- Inside the function, we normalize n by taking the modulo of n with the length of the list. This handles cases where n is larger than the list length.\n",
    "- We use list slicing to create the rotated list. We take elements from the last n positions to the end (lst[-n:]) and concatenate it with elements from the beginning to the position n from the end (lst[:-n]).\n",
    "- The resulting rotated list represents the original list rotated to the right by n positions.\n",
    "- We return the rotated list from the function.\n",
    "- In the example code, we have an example list my_list and specify the number of positions n to rotate by.\n",
    "- We call the rotate_right() function to get the rotated list.\n",
    "- We print the rotated list using the print() statement."
   ]
  },
  {
   "cell_type": "markdown",
   "metadata": {
    "id": "_q54f9dU2JX0"
   },
   "source": [
    "### 33. Create a list of prime numbers up to 50."
   ]
  },
  {
   "cell_type": "code",
   "execution_count": 88,
   "metadata": {
    "colab": {
     "base_uri": "https://localhost:8080/"
    },
    "id": "-B36MdHWgrA7",
    "outputId": "060d8681-2e28-4b38-9c2d-c22b6673722d"
   },
   "outputs": [
    {
     "name": "stdout",
     "output_type": "stream",
     "text": [
      "5 25\n",
      "5 29\n",
      "List of prime numbers up to 50: [2, 3, 5, 7, 11, 13, 17, 19, 23, 29]\n"
     ]
    }
   ],
   "source": [
    "# Function to check if a number is prime\n",
    "def is_prime(num):\n",
    "    if num <= 1:\n",
    "        return False\n",
    "    if num <= 3:\n",
    "        return True\n",
    "    if num % 2 == 0 or num % 3 == 0:\n",
    "        return False\n",
    "    i = 5\n",
    "    while i * i <= num:\n",
    "      print(i,num)\n",
    "      if num % i == 0 or num % (i + 2) == 0:\n",
    "          return False\n",
    "      i += 6\n",
    "    return True\n",
    "\n",
    "# Create a list of prime numbers up to 50\n",
    "prime_numbers = [num for num in range(2,30) if is_prime(num)]\n",
    "\n",
    "# Print the list of prime numbers\n",
    "print(\"List of prime numbers up to 50:\", prime_numbers)"
   ]
  },
  {
   "cell_type": "markdown",
   "metadata": {
    "id": "-hOeUzux2J-R"
   },
   "source": [
    "- We define a function is_prime() that takes a number num as an argument and returns True if the number is prime and False otherwise. The function uses a primality testing algorithm based on the fact that prime numbers greater than 3 can be written in the form 6k ± 1.\n",
    "- Inside the function, we handle some base cases (numbers less than or equal to 3), and then we use a loop to check divisibility by numbers in the form of 6k ± 1.\n",
    "- We define a list comprehension to generate the list of prime numbers. The comprehension iterates through the numbers from 2 to 50 and includes the number in the list if it is prime according to the is_prime() function.\n",
    "- The resulting list of prime numbers is stored in the variable prime_numbers.\n",
    "- We print the list of prime numbers using the print() statement."
   ]
  },
  {
   "cell_type": "markdown",
   "metadata": {
    "id": "ML9-5sJ-2zHB"
   },
   "source": [
    "### 34. Split a list into chunks of size `n`."
   ]
  },
  {
   "cell_type": "code",
   "execution_count": 89,
   "metadata": {
    "colab": {
     "base_uri": "https://localhost:8080/"
    },
    "id": "Z809WT0Agq-O",
    "outputId": "b88e2068-3672-4ea7-ee3c-500862d1833e"
   },
   "outputs": [
    {
     "name": "stdout",
     "output_type": "stream",
     "text": [
      "List of prime numbers up to 50: [2, 3, 5, 7, 11, 13, 17, 19, 23, 29, 31, 37, 41, 43, 47]\n"
     ]
    }
   ],
   "source": [
    "# Create a list of prime numbers up to 50 using Sieve of Eratosthenes algorithm\n",
    "def sieve_of_eratosthenes(limit):\n",
    "    primes = []\n",
    "    is_prime = [True] * (limit + 1)\n",
    "    is_prime[0] = is_prime[1] = False\n",
    "\n",
    "    for num in range(2, int(limit ** 0.5) + 1):\n",
    "        if is_prime[num]:\n",
    "            primes.append(num)\n",
    "            for multiple in range(num * num, limit + 1, num):\n",
    "                is_prime[multiple] = False\n",
    "\n",
    "    for num in range(int(limit ** 0.5) + 1, limit + 1):\n",
    "        if is_prime[num]:\n",
    "            primes.append(num)\n",
    "\n",
    "    return primes\n",
    "\n",
    "# Create a list of prime numbers up to 50\n",
    "prime_numbers = sieve_of_eratosthenes(50)\n",
    "\n",
    "# Print the list of prime numbers\n",
    "print(\"List of prime numbers up to 50:\", prime_numbers)"
   ]
  },
  {
   "cell_type": "markdown",
   "metadata": {
    "id": "t-ev3HEf2KkE"
   },
   "source": [
    "- We define a function sieve_of_eratosthenes() that takes a limit as an argument and returns a list of prime numbers up to the limit.\n",
    "- Inside the function, we initialize two lists: primes to store the prime numbers and is_prime as a boolean list to mark whether a number is prime or not.\n",
    "- We iterate through the numbers from 2 to the square root of the limit. For each number, if it's marked as prime (is_prime[num] is True), we add it to the primes list and mark its multiples as not prime.\n",
    "- After the first loop, we iterate through the remaining numbers from the square root of the limit to the limit. If a number is marked as prime, we add it to the primes list.\n",
    "- We call the sieve_of_eratosthenes() function with the argument 50 to generate the list of prime numbers up to 50.\n",
    "- We print the list of prime numbers using the print() statement."
   ]
  },
  {
   "cell_type": "markdown",
   "metadata": {
    "id": "nLfwKnSp22GI"
   },
   "source": [
    "### 35. Find the second largest number in a list."
   ]
  },
  {
   "cell_type": "code",
   "execution_count": 90,
   "metadata": {
    "colab": {
     "base_uri": "https://localhost:8080/"
    },
    "id": "GCt4O2YVgq8Q",
    "outputId": "f53bfb18-0afb-434c-b119-a45d509720e6"
   },
   "outputs": [
    {
     "name": "stdout",
     "output_type": "stream",
     "text": [
      "Second largest number: 25\n"
     ]
    }
   ],
   "source": [
    "# Example list\n",
    "my_list = [10, 5, 20, 15, 30, 25]\n",
    "\n",
    "# Remove duplicates and sort the list in ascending order\n",
    "sorted_list = sorted(set(my_list))\n",
    "\n",
    "# Find the second largest number\n",
    "if len(sorted_list) >= 2:\n",
    "    second_largest = sorted_list[-2]\n",
    "    print(\"Second largest number:\", second_largest)\n",
    "else:\n",
    "    print(\"The list does not contain enough elements.\")"
   ]
  },
  {
   "cell_type": "markdown",
   "metadata": {
    "id": "AKyN2NWL2Lwj"
   },
   "source": [
    "- We start with an example list my_list containing numbers.\n",
    "- We remove duplicates from the list using the set() function.\n",
    "- We sort the list in ascending order using the sorted() function.\n",
    "- We check if the sorted list has at least two elements. If it does, we access the second-to-last element using negative indexing (sorted_list[-2]) to get the second largest number.\n",
    "- If the list has fewer than two elements, we print a message indicating that the list does not contain enough elements to find the second largest.\n",
    "- We print the second largest number using the print() statement."
   ]
  },
  {
   "cell_type": "markdown",
   "metadata": {
    "id": "D6B0qY6i249n"
   },
   "source": [
    "### 36. Replace every element in a list with its square."
   ]
  },
  {
   "cell_type": "code",
   "execution_count": 91,
   "metadata": {
    "colab": {
     "base_uri": "https://localhost:8080/"
    },
    "id": "zY-poGL6gq6y",
    "outputId": "87566301-0293-40c3-a8af-cb8d55227063"
   },
   "outputs": [
    {
     "name": "stdout",
     "output_type": "stream",
     "text": [
      "Squared list: [4, 16, 36, 64, 100]\n"
     ]
    }
   ],
   "source": [
    "# Example list\n",
    "my_list = [2, 4, 6, 8, 10]\n",
    "\n",
    "# Replace every element with its square using a list comprehension\n",
    "squared_list = [x ** 2 for x in my_list]\n",
    "\n",
    "# Print the squared list\n",
    "print(\"Squared list:\", squared_list)"
   ]
  },
  {
   "cell_type": "markdown",
   "metadata": {
    "id": "A-vjmmEP2MUT"
   },
   "source": [
    "- We start with an example list my_list containing numbers.\n",
    "- We use a list comprehension to iterate through each element in my_list.\n",
    "- For each element, we calculate its square (x ** 2) and add the squared value to the squared_list.\n",
    "- The resulting list with squared values is stored in the variable squared_list.\n",
    "- We print the squared list using the print() statement."
   ]
  },
  {
   "cell_type": "markdown",
   "metadata": {
    "id": "z2XP8BOM27Y8"
   },
   "source": [
    "### 37. Convert a list to a dictionary where list elements become keys and their indices become values."
   ]
  },
  {
   "cell_type": "code",
   "execution_count": 92,
   "metadata": {
    "colab": {
     "base_uri": "https://localhost:8080/"
    },
    "id": "inObYp3Egq53",
    "outputId": "b2865239-499c-4ef7-dc95-dfbed02ad0f7"
   },
   "outputs": [
    {
     "name": "stdout",
     "output_type": "stream",
     "text": [
      "Converted dictionary: {'apple': 0, 'banana': 1, 'cherry': 2, 'date': 3, 'elderberry': 4}\n"
     ]
    }
   ],
   "source": [
    "# Example list\n",
    "my_list = ['apple', 'banana', 'cherry', 'date', 'elderberry']\n",
    "\n",
    "# Convert list to dictionary using dictionary comprehension\n",
    "my_dict = {element: index for index, element in enumerate(my_list)}\n",
    "\n",
    "# Print the resulting dictionary\n",
    "print(\"Converted dictionary:\", my_dict)"
   ]
  },
  {
   "cell_type": "markdown",
   "metadata": {
    "id": "C39cdaK-29zg"
   },
   "source": [
    "- We start with an example list my_list containing elements.\n",
    "- We use a dictionary comprehension to iterate through each element and its corresponding index in the list.\n",
    "- For each element and index pair, we create a key-value pair in the dictionary, where the element becomes the key and the index becomes the value.\n",
    "- The resulting dictionary is stored in the variable my_dict.\n",
    "- We print the converted dictionary using the print() statement."
   ]
  },
  {
   "cell_type": "markdown",
   "metadata": {
    "id": "1hHqOamu2M8R"
   },
   "source": [
    "### 38. Shuffle the elements of a list randomly."
   ]
  },
  {
   "cell_type": "code",
   "execution_count": 93,
   "metadata": {
    "colab": {
     "base_uri": "https://localhost:8080/"
    },
    "id": "AaZ-FRgTgqzt",
    "outputId": "cc6e4b7a-609a-452e-9ecb-30176e395961"
   },
   "outputs": [
    {
     "name": "stdout",
     "output_type": "stream",
     "text": [
      "Shuffled list: [3, 5, 7, 2, 8, 10, 6, 4, 9, 1]\n"
     ]
    }
   ],
   "source": [
    "import random\n",
    "\n",
    "# Example list\n",
    "my_list = [1, 2, 3, 4, 5, 6, 7, 8, 9, 10]\n",
    "\n",
    "# Shuffle the list randomly\n",
    "random.shuffle(my_list)\n",
    "\n",
    "# Print the shuffled list\n",
    "print(\"Shuffled list:\", my_list)"
   ]
  },
  {
   "cell_type": "markdown",
   "metadata": {
    "id": "kPLcZ1ZI2OW8"
   },
   "source": [
    "- Import the random module to access the shuffle() function.\n",
    "- We start with an example list my_list containing elements.\n",
    "- We use the random.shuffle() function to shuffle the elements of the list randomly.\n",
    "- The original order of the list is modified, and the elements are rearranged randomly.\n",
    "- We print the shuffled list using the print() statement."
   ]
  },
  {
   "cell_type": "markdown",
   "metadata": {
    "id": "gYWFCreB3A-R"
   },
   "source": [
    "### 39. Create a list of the first 10 factorial numbers."
   ]
  },
  {
   "cell_type": "code",
   "execution_count": 94,
   "metadata": {
    "colab": {
     "base_uri": "https://localhost:8080/"
    },
    "id": "MIJJ6FwAgqw7",
    "outputId": "21d81965-6b20-41a7-8f55-1356d5844aea"
   },
   "outputs": [
    {
     "name": "stdout",
     "output_type": "stream",
     "text": [
      "List of the first 10 factorial numbers: [1, 1, 2, 6, 24, 120, 720, 5040, 40320, 362880]\n"
     ]
    }
   ],
   "source": [
    "# Function to calculate factorial\n",
    "def factorial(n):\n",
    "    if n == 0 or n == 1:\n",
    "        return 1\n",
    "    else:\n",
    "        return n * factorial(n - 1)\n",
    "\n",
    "# Create a list of the first 10 factorial numbers\n",
    "factorial_numbers = [factorial(i) for i in range(10)]\n",
    "\n",
    "# Print the list of factorial numbers\n",
    "print(\"List of the first 10 factorial numbers:\", factorial_numbers)"
   ]
  },
  {
   "cell_type": "markdown",
   "metadata": {
    "id": "IOIW1bsT2PfU"
   },
   "source": [
    "- We define a function factorial() that takes an integer n as an argument and calculates the factorial of n using recursion.\n",
    "- Inside the function, we handle base cases where n is 0 or 1, and in other cases, we calculate n times the factorial of n-1.\n",
    "- We use a list comprehension to generate the list of the first 10 factorial numbers. We iterate through the range of numbers from 0 to 9 and calculate the factorial for each number.\n",
    "- The resulting list of factorial numbers is stored in the variable factorial_numbers.\n",
    "- We print the list of factorial numbers using the print() statement."
   ]
  },
  {
   "cell_type": "markdown",
   "metadata": {
    "id": "bE3R0nz-3D6T"
   },
   "source": [
    "### 40. Check if two lists have at least one element in common."
   ]
  },
  {
   "cell_type": "code",
   "execution_count": 95,
   "metadata": {
    "colab": {
     "base_uri": "https://localhost:8080/"
    },
    "id": "p36w5Y73gqvd",
    "outputId": "44e30052-107a-451d-c293-5afe41fd06a2"
   },
   "outputs": [
    {
     "name": "stdout",
     "output_type": "stream",
     "text": [
      "The lists have at least one common element.\n"
     ]
    }
   ],
   "source": [
    "# Function to check if two lists have at least one element in common\n",
    "def has_common_element(list1, list2):\n",
    "    for item in list1:\n",
    "        if item in list2:\n",
    "            return True\n",
    "    return False\n",
    "\n",
    "# Example lists\n",
    "list1 = [1, 2, 3, 4, 5]\n",
    "list2 = [4, 5, 6, 7, 8]\n",
    "\n",
    "# Check if the two lists have at least one element in common\n",
    "if has_common_element(list1, list2):\n",
    "    print(\"The lists have at least one common element.\")\n",
    "else:\n",
    "    print(\"The lists do not have any common elements.\")"
   ]
  },
  {
   "cell_type": "markdown",
   "metadata": {
    "id": "i-LzAUov2QGu"
   },
   "source": [
    "- We define a function has_common_element() that takes two lists list1 and list2 as arguments.\n",
    "- Inside the function, we use a loop to iterate through each element in list1.\n",
    "- For each element, we check if it is present in list2 using the in operator.\n",
    "- If we find at least one element that is present in both lists, we return True.\n",
    "- If the loop completes without finding any common element, we return False.\n",
    "- In the example code, we have two example lists list1 and list2.\n",
    "- We call the has_common_element() function with the two lists to check if they have at least one element in common.\n",
    "- We print the appropriate message using the print() statement."
   ]
  },
  {
   "cell_type": "markdown",
   "metadata": {
    "id": "FZVlK7RC3Eop"
   },
   "source": [
    "### 41. Remove all elements from a list."
   ]
  },
  {
   "cell_type": "code",
   "execution_count": 96,
   "metadata": {
    "colab": {
     "base_uri": "https://localhost:8080/"
    },
    "id": "vUKj8VMegqr4",
    "outputId": "26e19249-a95e-4fcb-aae5-59f1ce41c112"
   },
   "outputs": [
    {
     "name": "stdout",
     "output_type": "stream",
     "text": [
      "Empty list: []\n"
     ]
    }
   ],
   "source": [
    "# Example list\n",
    "my_list = [1, 2, 3, 4, 5]\n",
    "\n",
    "# Clear all elements from the list\n",
    "my_list.clear()\n",
    "\n",
    "# Print the empty list\n",
    "print(\"Empty list:\", my_list)"
   ]
  },
  {
   "cell_type": "markdown",
   "metadata": {
    "id": "Uei9cEB02QuI"
   },
   "source": [
    "Using the clear() method, approach will result in an empty list."
   ]
  },
  {
   "cell_type": "markdown",
   "metadata": {
    "id": "opbNh8in3KNa"
   },
   "source": [
    "### 42. Replace negative numbers in a list with 0."
   ]
  },
  {
   "cell_type": "code",
   "execution_count": 97,
   "metadata": {
    "colab": {
     "base_uri": "https://localhost:8080/"
    },
    "id": "K9f2CpQggqpt",
    "outputId": "232f43e4-f5ad-4cb4-e1f9-9f4230d71954"
   },
   "outputs": [
    {
     "name": "stdout",
     "output_type": "stream",
     "text": [
      "List after replacing negative numbers with 0: [10, 0, 20, 0, 30, 0]\n"
     ]
    }
   ],
   "source": [
    "# Example list\n",
    "my_list = [10, -5, 20, -15, 30, -25]\n",
    "\n",
    "# Step 1: Iterate through the list and replace negative numbers with 0\n",
    "for i in range(len(my_list)):\n",
    "    if my_list[i] < 0:\n",
    "        my_list[i] = 0\n",
    "\n",
    "# Print the list after replacing negative numbers with 0\n",
    "print(\"List after replacing negative numbers with 0:\", my_list)"
   ]
  },
  {
   "cell_type": "markdown",
   "metadata": {
    "id": "h0oEbuoU2RTz"
   },
   "source": [
    "- We start with an example list my_list containing both positive and negative numbers.\n",
    "- We use a for loop to iterate through the indices of the list using the range() function.\n",
    "- Inside the loop, we check if the element at index i is less than 0 (negative).\n",
    "- If it is negative, we replace the element at index i with 0.\n",
    "- After iterating through all elements, the list will have negative numbers replaced with 0.\n",
    "- We print the modified list using the print() statement."
   ]
  },
  {
   "cell_type": "markdown",
   "metadata": {
    "id": "5XS8pFgL3MgZ"
   },
   "source": [
    "### 43. Convert a string into a list of words."
   ]
  },
  {
   "cell_type": "code",
   "execution_count": 98,
   "metadata": {
    "colab": {
     "base_uri": "https://localhost:8080/"
    },
    "id": "DCBzHs8hgqnu",
    "outputId": "0d65eff1-689a-4c11-8e6e-590b45439622"
   },
   "outputs": [
    {
     "name": "stdout",
     "output_type": "stream",
     "text": [
      "List of words: ['Hello,', 'this', 'is', 'a', 'sample', 'sentence.']\n"
     ]
    }
   ],
   "source": [
    "# Example string\n",
    "my_string = \"Hello, this is a sample sentence.\"\n",
    "\n",
    "# Convert the string into a list of words\n",
    "word_list = my_string.split()\n",
    "\n",
    "# Print the list of words\n",
    "print(\"List of words:\", word_list)"
   ]
  },
  {
   "cell_type": "markdown",
   "metadata": {
    "id": "ScPDq3QC2SBG"
   },
   "source": [
    "- We start with an example string my_string containing a sentence.\n",
    "- We use the split() method on the string. By default, the split() method splits the string into words based on whitespace characters (spaces, tabs, newlines, etc.).\n",
    "- The result of the split() method is a list of words, which we store in the variable word_list.\n",
    "- We print the list of words using the print() statement."
   ]
  },
  {
   "cell_type": "markdown",
   "metadata": {
    "id": "PQmYFKZy3QzR"
   },
   "source": [
    "### 44. Convert a list of words into a string."
   ]
  },
  {
   "cell_type": "code",
   "execution_count": 99,
   "metadata": {
    "colab": {
     "base_uri": "https://localhost:8080/"
    },
    "id": "gVvJDgA9gqjY",
    "outputId": "aeed187f-da07-4d7f-babf-6be038ae2490"
   },
   "outputs": [
    {
     "name": "stdout",
     "output_type": "stream",
     "text": [
      "Converted string: Hello, this is a sample sentence.\n"
     ]
    }
   ],
   "source": [
    "# Example list of words\n",
    "word_list = [\"Hello,\", \"this\", \"is\", \"a\", \"sample\", \"sentence.\"]\n",
    "\n",
    "# Convert the list of words into a string\n",
    "my_string = \" \".join(word_list)\n",
    "\n",
    "# Print the resulting string\n",
    "print(\"Converted string:\", my_string)"
   ]
  },
  {
   "cell_type": "markdown",
   "metadata": {
    "id": "tcxBrRfo2TF2"
   },
   "source": [
    "- We start with an example list word_list containing individual words.\n",
    "- We use the join() method on a string (in this case, a space \" \") to join the words in the list into a single string.\n",
    "- The join() method takes the list of words as its argument and returns a string where the words are joined by the specified separator (in this case, a space).\n",
    "- The resulting string is stored in the variable my_string.\n",
    "- We print the converted string using the print() statement."
   ]
  },
  {
   "cell_type": "markdown",
   "metadata": {
    "id": "x09jyTnb3Rop"
   },
   "source": [
    "### 45. Create a list of the first `n` powers of 2."
   ]
  },
  {
   "cell_type": "code",
   "execution_count": 100,
   "metadata": {
    "colab": {
     "base_uri": "https://localhost:8080/"
    },
    "id": "PR06D_qlgqg1",
    "outputId": "0ac15743-a13e-4df0-a1c0-71d5faa7e293"
   },
   "outputs": [
    {
     "name": "stdout",
     "output_type": "stream",
     "text": [
      "List of the first 5 powers of 2: [1, 2, 4, 8, 16]\n"
     ]
    }
   ],
   "source": [
    "# Specify the value of n\n",
    "n = 5\n",
    "\n",
    "# Create a list of the first n powers of 2 using a loop\n",
    "power_list = [2 ** i for i in range(n)]\n",
    "\n",
    "# Print the list of powers of 2\n",
    "print(\"List of the first\", n, \"powers of 2:\", power_list)"
   ]
  },
  {
   "cell_type": "markdown",
   "metadata": {
    "id": "8do67dUa8-ET"
   },
   "source": [
    "- We specify the value of n, which indicates the number of powers of 2 to generate.\n",
    "- We use a list comprehension to calculate the powers of 2 for each value of i from 0 to n-1.\n",
    "- In each iteration of the loop, we calculate the value 2 ** i to get the powers of 2.\n",
    "- The resulting list of powers of 2 is stored in the variable power_list.\n",
    "- We print the list of powers of 2 using the print() statement."
   ]
  },
  {
   "cell_type": "markdown",
   "metadata": {
    "id": "PPTsVYhF3Xku"
   },
   "source": [
    "### 46. Find the longest string in a list of strings."
   ]
  },
  {
   "cell_type": "code",
   "execution_count": 101,
   "metadata": {
    "colab": {
     "base_uri": "https://localhost:8080/"
    },
    "id": "ktoukRUQgpMZ",
    "outputId": "58da0349-19b1-48e2-9263-033fd450f597"
   },
   "outputs": [
    {
     "name": "stdout",
     "output_type": "stream",
     "text": [
      "Longest string: elderberry\n"
     ]
    }
   ],
   "source": [
    "# Example list of strings\n",
    "string_list = [\"apple\", \"banana\", \"cherry\", \"date\", \"elderberry\"]\n",
    "\n",
    "# Find the longest string in the list\n",
    "longest_string = \"\"\n",
    "for s in string_list:\n",
    "    if len(s) > len(longest_string):\n",
    "        longest_string = s\n",
    "\n",
    "# Print the longest string\n",
    "print(\"Longest string:\", longest_string)"
   ]
  },
  {
   "cell_type": "markdown",
   "metadata": {
    "id": "wSkt0u3w2UdR"
   },
   "source": [
    "- We start with an example list string_list containing strings of different lengths.\n",
    "- We initialize the variable longest_string with an empty string. This variable will store the longest string found in the list.\n",
    "- We use a for loop to iterate through each string s in the list.\n",
    "- Inside the loop, we compare the length of the current string s with the length of the longest_string. If the length of s is greater, we update longest_string to be the current string s.\n",
    "- After iterating through all strings in the list, the variable longest_string will contain the longest string.\n",
    "- We print the longest string using the print() statement."
   ]
  },
  {
   "cell_type": "markdown",
   "metadata": {
    "id": "PuiYk4ZA3ahe"
   },
   "source": [
    "### 47. Find the shortest string in a list of strings."
   ]
  },
  {
   "cell_type": "code",
   "execution_count": 102,
   "metadata": {
    "colab": {
     "base_uri": "https://localhost:8080/"
    },
    "id": "VwxeF-Ch2b52",
    "outputId": "bd61dc18-7b70-4b26-d781-6bca4dea80a2"
   },
   "outputs": [
    {
     "name": "stdout",
     "output_type": "stream",
     "text": [
      "Shortest string: date\n"
     ]
    }
   ],
   "source": [
    "# Example list of strings\n",
    "string_list = [\"apple\", \"banana\", \"cherry\", \"date\", \"elderberry\"]\n",
    "\n",
    "# Find the shortest string in the list\n",
    "shortest_string = string_list[0]  # Initialize with the first string\n",
    "for s in string_list:\n",
    "    if len(s) < len(shortest_string):\n",
    "        shortest_string = s\n",
    "\n",
    "# Print the shortest string\n",
    "print(\"Shortest string:\", shortest_string)"
   ]
  },
  {
   "cell_type": "markdown",
   "metadata": {
    "id": "zgRImpbU2e4I"
   },
   "source": [
    "- We start with an example list string_list containing strings of different lengths.\n",
    "- We initialize the variable shortest_string with the first string in the list. - This variable will store the shortest string found in the list.\n",
    "- We use a for loop to iterate through each string s in the list.\n",
    "- Inside the loop, we compare the length of the current string s with the length of the shortest_string. If the length of s is smaller, we update shortest_string to be the current string s.\n",
    "- After iterating through all strings in the list, the variable shortest_string will contain the shortest string.\n",
    "- We print the shortest string using the print() statement."
   ]
  },
  {
   "cell_type": "markdown",
   "metadata": {
    "id": "E2x6cPYL3bLF"
   },
   "source": [
    "### 48. Create a list of the first `n` triangular numbers."
   ]
  },
  {
   "cell_type": "code",
   "execution_count": 103,
   "metadata": {
    "colab": {
     "base_uri": "https://localhost:8080/"
    },
    "id": "Z0UxtOl62eQL",
    "outputId": "bccc4172-317d-4798-edc1-4acc7992e299"
   },
   "outputs": [
    {
     "name": "stdout",
     "output_type": "stream",
     "text": [
      "List of the first 5 triangular numbers: [1, 3, 6, 10, 15]\n"
     ]
    }
   ],
   "source": [
    "# Function to calculate triangular numbers\n",
    "def triangular_numbers(n):\n",
    "    return [i * (i + 1) // 2 for i in range(1, n + 1)]\n",
    "\n",
    "# Specify the value of n\n",
    "n = 5\n",
    "\n",
    "# Create a list of the first n triangular numbers\n",
    "triangular_list = triangular_numbers(n)\n",
    "\n",
    "# Print the list of triangular numbers\n",
    "print(\"List of the first\", n, \"triangular numbers:\", triangular_list)"
   ]
  },
  {
   "cell_type": "markdown",
   "metadata": {
    "id": "V3VqgM0W2gRX"
   },
   "source": [
    "- We define a function triangular_numbers() that takes an integer n as an argument.\n",
    "- Inside the function, we use a list comprehension to calculate the triangular numbers for each value of i from 1 to n.\n",
    "- The formula to calculate the nth triangular number is n * (n + 1) // 2.\n",
    "- We specify the value of n, which indicates the number of triangular numbers to generate.\n",
    "- We call the triangular_numbers() function with the value of n to create the list of triangular numbers.\n",
    "- We print the list of triangular numbers using the print() statement."
   ]
  },
  {
   "cell_type": "markdown",
   "metadata": {
    "id": "bykjK8ox2flK"
   },
   "source": [
    "### 49. Check if a list contains another list as a subsequence."
   ]
  },
  {
   "cell_type": "code",
   "execution_count": 104,
   "metadata": {
    "colab": {
     "base_uri": "https://localhost:8080/"
    },
    "id": "wR0rTeG32eNu",
    "outputId": "69d92a6f-6efd-4b4d-b06f-0cb96437410b"
   },
   "outputs": [
    {
     "name": "stdout",
     "output_type": "stream",
     "text": [
      "Main list contains the subsequence.\n"
     ]
    }
   ],
   "source": [
    "# Function to check if a list contains another list as a subsequence\n",
    "def is_subsequence(subsequence, main_list):\n",
    "    subseq_index = 0  # Index for the subsequence elements\n",
    "    for element in main_list:\n",
    "        if element == subsequence[subseq_index]:\n",
    "            subseq_index += 1\n",
    "            if subseq_index == len(subsequence):\n",
    "                return True\n",
    "    return False\n",
    "\n",
    "# Example main list and subsequence\n",
    "main_list = [1, 2, 3, 4, 5, 6, 7, 8, 9, 10]\n",
    "subsequence = [3, 5, 8]\n",
    "\n",
    "# Check if the main list contains the subsequence\n",
    "if is_subsequence(subsequence, main_list):\n",
    "    print(\"Main list contains the subsequence.\")\n",
    "else:\n",
    "    print(\"Main list does not contain the subsequence.\")"
   ]
  },
  {
   "cell_type": "markdown",
   "metadata": {
    "id": "km8GCGdM3cna"
   },
   "source": [
    "- We define a function is_subsequence() that takes two lists as arguments: subsequence (the list to check for as a subsequence) and main_list (the list to search for the subsequence in).\n",
    "- Inside the function, we use an index subseq_index to keep track of the matching elements in the subsequence.\n",
    "- We iterate through the elements of the main_list.\n",
    "- For each element in main_list, we compare it with the current element in the subsequence.\n",
    "  - If the elements match, we increment the subseq_index to check the next element in the subsequence.\n",
    "  - If the subseq_index reaches the length of the subsequence, it means the subsequence has been completely matched, and we return True.\n",
    "  - If we finish iterating through the main_list without completely matching the subsequence, we return False.\n",
    "- In the example code, we have an example main_list and subsequence.\n",
    "- We call the is_subsequence() function to check if the main list contains the subsequence.\n",
    "- We print the result using the print() statement."
   ]
  },
  {
   "cell_type": "markdown",
   "metadata": {
    "id": "-mIaB6pt3b7q"
   },
   "source": [
    "### 50. Swap two elements in a list by their indices."
   ]
  },
  {
   "cell_type": "code",
   "execution_count": 105,
   "metadata": {
    "colab": {
     "base_uri": "https://localhost:8080/"
    },
    "id": "A0JHpP9c2eLL",
    "outputId": "3fc99824-215f-4d59-f85b-1ac19eae8af0"
   },
   "outputs": [
    {
     "name": "stdout",
     "output_type": "stream",
     "text": [
      "List after swapping elements: [1, 4, 3, 2, 5]\n"
     ]
    }
   ],
   "source": [
    "# Example list\n",
    "my_list = [1, 2, 3, 4, 5]\n",
    "\n",
    "# Indices of elements to swap\n",
    "index1 = 1\n",
    "index2 = 3\n",
    "\n",
    "# Swap the elements at the specified indices\n",
    "temp = my_list[index1]\n",
    "my_list[index1] = my_list[index2]\n",
    "my_list[index2] = temp\n",
    "\n",
    "# Print the list after swapping\n",
    "print(\"List after swapping elements:\", my_list)"
   ]
  },
  {
   "cell_type": "markdown",
   "metadata": {
    "id": "Zy-ET7qK3pMS"
   },
   "source": [
    "- We start with an example list my_list containing elements.\n",
    "- We specify the indices index1 and index2 of the elements to swap.\n",
    "- We use a temporary variable temp to hold the value of the element at index1.\n",
    "- We assign the value of the element at index2 to the element at index1.\n",
    "- We assign the value of the temporary variable temp (which holds the original value of the element at index1) to the element at index2, effectively swapping the values.\n",
    "- After the swap, the elements at the specified indices have been swapped.\n",
    "- We print the list after swapping using the print() statement."
   ]
  },
  {
   "cell_type": "markdown",
   "metadata": {
    "id": "M1vldj15-lGd"
   },
   "source": [
    "## **Tuple based practice problem :**\n",
    "\n",
    "---\n"
   ]
  },
  {
   "cell_type": "markdown",
   "metadata": {
    "id": "l9HbdfwR-nht"
   },
   "source": [
    "### 1. Create a tuple with integers from 1 to 5."
   ]
  },
  {
   "cell_type": "code",
   "execution_count": 106,
   "metadata": {
    "colab": {
     "base_uri": "https://localhost:8080/"
    },
    "id": "5DWl7CED-m2N",
    "outputId": "6c2f02a8-d695-4c5d-8aa4-ea64367d1f70"
   },
   "outputs": [
    {
     "name": "stdout",
     "output_type": "stream",
     "text": [
      "The third element of the tuple is: 30\n"
     ]
    }
   ],
   "source": [
    "# Step 1: Create a tuple\n",
    "my_tuple = (10, 20, 30, 40, 50)\n",
    "\n",
    "# Step 2: Access the third element of the tuple\n",
    "third_element = my_tuple[2]\n",
    "\n",
    "# Explanation: In this line, we use indexing to access the third element of the tuple.\n",
    "# Since indexing is 0-based, the third element is at index 2.\n",
    "\n",
    "# Step 3: Print the third element\n",
    "print(\"The third element of the tuple is:\", third_element)"
   ]
  },
  {
   "cell_type": "markdown",
   "metadata": {
    "id": "C07rqt7C-ufL"
   },
   "source": [
    "- We use parentheses to create a tuple named my_tuple containing the integers from 1 to 5.\n",
    "- We print the tuple using the print() statement."
   ]
  },
  {
   "cell_type": "markdown",
   "metadata": {
    "id": "BfyN7AJq-ua6"
   },
   "source": [
    "### 2. Access the third element of a tuple."
   ]
  },
  {
   "cell_type": "code",
   "execution_count": 107,
   "metadata": {
    "colab": {
     "base_uri": "https://localhost:8080/"
    },
    "id": "6IP-ngBp--JL",
    "outputId": "5a9ebff8-30f9-4573-ec60-6ea91d10d9ea"
   },
   "outputs": [
    {
     "name": "stdout",
     "output_type": "stream",
     "text": [
      "The third element of the tuple is: 30\n"
     ]
    }
   ],
   "source": [
    "# Step 1: Create a tuple with some elements\n",
    "my_tuple = (10, 20, 30, 40, 50)\n",
    "\n",
    "# Step 2: Access the third element (index 2) of the tuple\n",
    "third_element = my_tuple[2]\n",
    "\n",
    "# Step 3: Print the third element\n",
    "print(\"The third element of the tuple is:\", third_element)"
   ]
  },
  {
   "cell_type": "markdown",
   "metadata": {
    "id": "Jpoti4Hp-uWo"
   },
   "source": [
    "- We start by creating a tuple named my_tuple with five elements: 10, 20, 30, 40, and 50.\n",
    "- To access elements of a tuple, we use square brackets [] with the index of the element we want to access. Tuples are zero-indexed, so the third element has an index of 2.\n",
    "- We store the value of the third element (30) in the variable third_element.\n",
    "- Finally, we use the print function to display a message along with the value of the third element of the tuple."
   ]
  },
  {
   "cell_type": "markdown",
   "metadata": {
    "id": "Gh1WDxJx-uSW"
   },
   "source": [
    "### 3. Find the length of a tuple without using the `len()` function."
   ]
  },
  {
   "cell_type": "code",
   "execution_count": 108,
   "metadata": {
    "colab": {
     "base_uri": "https://localhost:8080/"
    },
    "id": "s4Y1j7mCADvx",
    "outputId": "5df17c8d-7179-46d0-8aae-141724d89fbe"
   },
   "outputs": [
    {
     "name": "stdout",
     "output_type": "stream",
     "text": [
      "The length of the tuple is: 5\n"
     ]
    }
   ],
   "source": [
    "# Step 1: Create a tuple\n",
    "my_tuple = (10, 20, 30, 40, 50)\n",
    "\n",
    "# Step 2: Initialize a variable to count the elements\n",
    "count = 0\n",
    "\n",
    "# Step 3: Iterate through the tuple and increment the count for each element\n",
    "for _ in my_tuple:\n",
    "    count += 1\n",
    "\n",
    "# Step 4: Print the length of the tuple\n",
    "print(\"The length of the tuple is:\", count)"
   ]
  },
  {
   "cell_type": "markdown",
   "metadata": {
    "id": "xG_MI-ZA-uOG"
   },
   "source": [
    "- We start by creating a tuple named my_tuple with five elements.\n",
    "- We initialize a variable named count to keep track of the number of elements in the tuple. This variable starts with a value of 0.\n",
    "- We use a for loop to iterate through each element in the tuple. The _ symbol is commonly used as a placeholder for variables when we don't intend to use the variable value.\n",
    "- Inside the loop, we increment the count variable by 1 for each element in the tuple.\n",
    "- After the loop completes, we use the print function to display a message along with the value of the count variable, which represents the length of the tuple."
   ]
  },
  {
   "cell_type": "markdown",
   "metadata": {
    "id": "ys0ZQjPt-uJ7"
   },
   "source": [
    "### 4. Count the occurrences of an element in a tuple."
   ]
  },
  {
   "cell_type": "code",
   "execution_count": 109,
   "metadata": {
    "colab": {
     "base_uri": "https://localhost:8080/"
    },
    "id": "OEyR0lroAZ7Z",
    "outputId": "6d95b2d9-cd3d-40ec-8b82-883e72775dc5"
   },
   "outputs": [
    {
     "name": "stdout",
     "output_type": "stream",
     "text": [
      "The element 20 appears 3 times in the tuple.\n"
     ]
    }
   ],
   "source": [
    "# Step 1: Create a tuple\n",
    "my_tuple = (10, 20, 30, 20, 40, 50, 20)\n",
    "\n",
    "# Step 2: Choose the element to count occurrences of\n",
    "element_to_count = 20\n",
    "\n",
    "# Step 3: Initialize a variable to keep track of the count\n",
    "count = 0\n",
    "\n",
    "# Step 4: Iterate through the tuple and count occurrences of the chosen element\n",
    "for item in my_tuple:\n",
    "    if item == element_to_count:\n",
    "        count += 1\n",
    "\n",
    "# Step 5: Print the count of occurrences\n",
    "print(f\"The element {element_to_count} appears {count} times in the tuple.\")"
   ]
  },
  {
   "cell_type": "markdown",
   "metadata": {
    "id": "w6RArn_V-uFt"
   },
   "source": [
    "- We start by creating a tuple named my_tuple with several elements, including multiple occurrences of the element we want to count.\n",
    "- We choose the element to count occurrences of. In this example, we'll count occurrences of the element 20.\n",
    "- We initialize a variable named count to keep track of the number of occurrences of the chosen element. This variable starts with a value of 0.\n",
    "- We use a for loop to iterate through each element in the tuple.\n",
    "- Inside the loop, we use an if statement to check if the current element item is equal to the element we want to count (element_to_count). If they are equal, we increment the count variable by 1.\n",
    "- After the loop completes, we use the print function to display a message along with the value of the count variable, indicating how many times the chosen element appears in the tuple."
   ]
  },
  {
   "cell_type": "markdown",
   "metadata": {
    "id": "fi9wF_n5-uBr"
   },
   "source": [
    "### 5. Find the index of the first occurrence of an element in a tuple."
   ]
  },
  {
   "cell_type": "code",
   "execution_count": 110,
   "metadata": {
    "colab": {
     "base_uri": "https://localhost:8080/"
    },
    "id": "Rlf7WPkIAvmP",
    "outputId": "70a01623-9d70-4f0c-a093-ac724f2ad707"
   },
   "outputs": [
    {
     "name": "stdout",
     "output_type": "stream",
     "text": [
      "The first occurrence of 20 is at index 1.\n"
     ]
    }
   ],
   "source": [
    "# Step 1: Create a tuple\n",
    "my_tuple = (10, 20, 30, 20, 40, 50)\n",
    "\n",
    "# Step 2: Choose the element to find the index of\n",
    "element_to_find = 20\n",
    "\n",
    "# Step 3: Initialize a variable to keep track of the index\n",
    "index = -1  # Initialize with -1 to indicate that the element was not found\n",
    "\n",
    "# Step 4: Iterate through the tuple and find the index of the chosen element\n",
    "for i, item in enumerate(my_tuple):\n",
    "    if item == element_to_find:\n",
    "        index = i\n",
    "        break  # Exit the loop once the first occurrence is found\n",
    "\n",
    "# Step 5: Print the index of the first occurrence\n",
    "if index != -1:\n",
    "    print(f\"The first occurrence of {element_to_find} is at index {index}.\")\n",
    "else:\n",
    "    print(f\"{element_to_find} is not found in the tuple.\")"
   ]
  },
  {
   "cell_type": "markdown",
   "metadata": {
    "id": "3kYEbn8v-t9i"
   },
   "source": [
    "- We start by creating a tuple named my_tuple with several elements, including the element for which we want to find the first occurrence.\n",
    "- We choose the element for which we want to find the index. In this example, we'll find the index of the element 20.\n",
    "- We initialize a variable named index with a value of -1. This value indicates that the element was not found in the tuple initially.\n",
    "- We use a for loop along with the enumerate function to iterate through the tuple. The enumerate function provides both the index i and the element item in each iteration.\n",
    "- Inside the loop, we use an if statement to check if the current element item is equal to the element we want to find (element_to_find). If they are equal, we update the index variable with the value of the current index i and then exit the loop using the break statement.\n",
    "- After the loop completes, we check if the index value has changed from its initial value of -1. If it has, we print the index of the first occurrence of the element. If not, we print a message indicating that the element was not found in the tuple."
   ]
  },
  {
   "cell_type": "markdown",
   "metadata": {
    "id": "0SwUvz_u-t5Y"
   },
   "source": [
    "### 6. Check if an element exists in a tuple."
   ]
  },
  {
   "cell_type": "code",
   "execution_count": 111,
   "metadata": {
    "colab": {
     "base_uri": "https://localhost:8080/"
    },
    "id": "hgbPvWp4A5tX",
    "outputId": "4b26aee9-05f3-4aca-a492-5991bc5c976a"
   },
   "outputs": [
    {
     "name": "stdout",
     "output_type": "stream",
     "text": [
      "30 exists in the tuple.\n"
     ]
    }
   ],
   "source": [
    "# Step 1: Create a tuple\n",
    "my_tuple = (10, 20, 30, 40, 50)\n",
    "\n",
    "# Step 2: Choose the element to check for existence\n",
    "element_to_check = 30\n",
    "\n",
    "# Step 3: Check if the element exists in the tuple using the 'in' operator\n",
    "if element_to_check in my_tuple:\n",
    "    print(f\"{element_to_check} exists in the tuple.\")\n",
    "else:\n",
    "    print(f\"{element_to_check} does not exist in the tuple.\")"
   ]
  },
  {
   "cell_type": "markdown",
   "metadata": {
    "id": "oGqDA315BKwD"
   },
   "source": [
    "- We start by creating a tuple named my_tuple with several elements.\n",
    "- We choose the element we want to check for existence. In this example, we're checking for the element 30.\n",
    "- We use the in operator to directly check if the chosen element exists in the tuple. If it does, we print a message indicating its existence. If not, we print a message indicating its absence."
   ]
  },
  {
   "cell_type": "markdown",
   "metadata": {
    "id": "sHbgkYAMBKrY"
   },
   "source": [
    "### 7. Convert a tuple to a list."
   ]
  },
  {
   "cell_type": "code",
   "execution_count": 112,
   "metadata": {
    "colab": {
     "base_uri": "https://localhost:8080/"
    },
    "id": "OsUET7CiBQ85",
    "outputId": "a1305d48-5e3d-476e-f54b-0ab5e50c56b8"
   },
   "outputs": [
    {
     "name": "stdout",
     "output_type": "stream",
     "text": [
      "Tuple: (10, 20, 30, 40, 50)\n",
      "List: [10, 20, 30, 40, 50]\n"
     ]
    }
   ],
   "source": [
    "# Step 1: Create a tuple\n",
    "my_tuple = (10, 20, 30, 40, 50)\n",
    "\n",
    "# Step 2: Convert the tuple to a list\n",
    "my_list = list(my_tuple)\n",
    "\n",
    "# Step 3: Print the resulting list\n",
    "print(\"Tuple:\", my_tuple)\n",
    "print(\"List:\", my_list)"
   ]
  },
  {
   "cell_type": "markdown",
   "metadata": {
    "id": "ROB5C66GBafj"
   },
   "source": [
    "- We start by creating a tuple named my_tuple with some elements.\n",
    "- We use the list() function and pass the tuple my_tuple as an argument. This function converts the tuple into a list.\n",
    "- We print both the original tuple and the converted list to see the transformation."
   ]
  },
  {
   "cell_type": "markdown",
   "metadata": {
    "id": "vtuBA-QJBKIW"
   },
   "source": [
    "### 8. Convert a list to a tuple."
   ]
  },
  {
   "cell_type": "code",
   "execution_count": 113,
   "metadata": {
    "colab": {
     "base_uri": "https://localhost:8080/"
    },
    "id": "b5163MDHBH6x",
    "outputId": "8eff03e8-a863-48ac-f07e-dad7c2c816f8"
   },
   "outputs": [
    {
     "name": "stdout",
     "output_type": "stream",
     "text": [
      "List: [10, 20, 30, 40, 50]\n",
      "Tuple: (10, 20, 30, 40, 50)\n"
     ]
    }
   ],
   "source": [
    "# Step 1: Create a list\n",
    "my_list = [10, 20, 30, 40, 50]\n",
    "\n",
    "# Step 2: Convert the list to a tuple\n",
    "my_tuple = tuple(my_list)\n",
    "\n",
    "# Step 3: Print the resulting tuple\n",
    "print(\"List:\", my_list)\n",
    "print(\"Tuple:\", my_tuple)\n"
   ]
  },
  {
   "cell_type": "markdown",
   "metadata": {
    "id": "BXVscf5m-t1P"
   },
   "source": [
    "- We start by creating a list named my_list with some elements.\n",
    "- We use the tuple() function and pass the list my_list as an argument. This function converts the list into a tuple.\n",
    "- We print both the original list and the converted tuple to see the transformation."
   ]
  },
  {
   "cell_type": "markdown",
   "metadata": {
    "id": "jI541JJP-txK"
   },
   "source": [
    "### 9. Unpack the elements of a tuple into variables."
   ]
  },
  {
   "cell_type": "code",
   "execution_count": 114,
   "metadata": {
    "colab": {
     "base_uri": "https://localhost:8080/"
    },
    "id": "JjDFgPdWBxZC",
    "outputId": "8fc70bf2-9144-4464-bd9a-9f7248246ab4"
   },
   "outputs": [
    {
     "name": "stdout",
     "output_type": "stream",
     "text": [
      "var1: 10\n",
      "var2: 20\n",
      "var3: 30\n"
     ]
    }
   ],
   "source": [
    "# Step 1: Create a tuple\n",
    "my_tuple = (10, 20, 30)\n",
    "\n",
    "# Step 2: Unpack the elements of the tuple into variables\n",
    "var1, var2, var3 = my_tuple\n",
    "\n",
    "# Step 3: Print the variables\n",
    "print(\"var1:\", var1)\n",
    "print(\"var2:\", var2)\n",
    "print(\"var3:\", var3)"
   ]
  },
  {
   "cell_type": "markdown",
   "metadata": {
    "id": "XA9Fw_Sx-ts-"
   },
   "source": [
    "- We start by creating a tuple named my_tuple with three elements.\n",
    "- We use the unpacking assignment to assign the values of the tuple elements to individual variables var1, var2, and var3.\n",
    "- We print the values of these variables."
   ]
  },
  {
   "cell_type": "markdown",
   "metadata": {
    "id": "o_MZRgph-toj"
   },
   "source": [
    "### 10. Create a tuple of even numbers from 1 to 10."
   ]
  },
  {
   "cell_type": "code",
   "execution_count": 115,
   "metadata": {
    "colab": {
     "base_uri": "https://localhost:8080/"
    },
    "id": "ZsN1yEDYCCmz",
    "outputId": "e92584e1-3c60-4b58-d56d-eb8a171b7ee0"
   },
   "outputs": [
    {
     "name": "stdout",
     "output_type": "stream",
     "text": [
      "Tuple of even numbers: (2, 4, 6, 8, 10)\n"
     ]
    }
   ],
   "source": [
    "# Step 1: Create a list of even numbers using a list comprehension\n",
    "even_numbers_list = [num for num in range(2, 11, 2)]  # Start from 2, step by 2, end at 10\n",
    "\n",
    "# Step 2: Convert the list to a tuple\n",
    "even_numbers_tuple = tuple(even_numbers_list)\n",
    "\n",
    "# Step 3: Print the resulting tuple\n",
    "print(\"Tuple of even numbers:\", even_numbers_tuple)"
   ]
  },
  {
   "cell_type": "markdown",
   "metadata": {
    "id": "9GDUC9L6-tji"
   },
   "source": [
    "- We use a list comprehension to generate a list of even numbers. The range(2, 11, 2) generates numbers starting from 2 and increasing by 2 up to (but not including) 11, giving us the even numbers from 2 to 10.\n",
    "- We convert the list of even numbers to a tuple using the tuple() function.\n",
    "- We print the resulting tuple containing the even numbers."
   ]
  },
  {
   "cell_type": "markdown",
   "metadata": {
    "id": "RX-92AVo-teh"
   },
   "source": [
    "### 11. Create a tuple of odd numbers from 1 to 10."
   ]
  },
  {
   "cell_type": "code",
   "execution_count": 116,
   "metadata": {
    "colab": {
     "base_uri": "https://localhost:8080/"
    },
    "id": "9R-W6vXWCQCI",
    "outputId": "e69ecd86-75ba-4027-99b5-76e5df1798c7"
   },
   "outputs": [
    {
     "name": "stdout",
     "output_type": "stream",
     "text": [
      "Tuple of even numbers: (2, 4, 6, 8, 10)\n"
     ]
    }
   ],
   "source": [
    "# Step 1: Create a list of even numbers using a list comprehension\n",
    "even_numbers_list = [num for num in range(2, 11, 2)]  # Start from 2, step by 2, end at 10\n",
    "\n",
    "# Step 2: Convert the list to a tuple\n",
    "even_numbers_tuple = tuple(even_numbers_list)\n",
    "\n",
    "# Step 3: Print the resulting tuple\n",
    "print(\"Tuple of even numbers:\", even_numbers_tuple)"
   ]
  },
  {
   "cell_type": "markdown",
   "metadata": {
    "id": "SmO646Ug-taE"
   },
   "source": [
    "- We use a list comprehension to generate a list of even numbers. The range(2, 11, 2) generates numbers starting from 2 and increasing by 2 up to (but not including) 11, giving us the even numbers from 2 to 10.\n",
    "- We convert the list of even numbers to a tuple using the tuple() function.\n",
    "- We print the resulting tuple containing the even numbers."
   ]
  },
  {
   "cell_type": "markdown",
   "metadata": {
    "id": "9xZaYcTG-tWA"
   },
   "source": [
    "### 12. Concatenate two tuples."
   ]
  },
  {
   "cell_type": "code",
   "execution_count": 117,
   "metadata": {
    "colab": {
     "base_uri": "https://localhost:8080/"
    },
    "id": "DNIedkkmChZ4",
    "outputId": "71fc88fe-7088-4ec7-e2d7-c18f49b0d506"
   },
   "outputs": [
    {
     "name": "stdout",
     "output_type": "stream",
     "text": [
      "Concatenated tuple: (1, 2, 3, 4, 5, 6)\n"
     ]
    }
   ],
   "source": [
    "# Step 1: Create two tuples\n",
    "tuple1 = (1, 2, 3)\n",
    "tuple2 = (4, 5, 6)\n",
    "\n",
    "# Step 2: Concatenate the two tuples\n",
    "concatenated_tuple = tuple1 + tuple2\n",
    "\n",
    "# Step 3: Print the concatenated tuple\n",
    "print(\"Concatenated tuple:\", concatenated_tuple)"
   ]
  },
  {
   "cell_type": "markdown",
   "metadata": {
    "id": "buOMyCOe-tSF"
   },
   "source": [
    "- We start by creating two tuples named tuple1 and tuple2.\n",
    "- We use the + operator to concatenate the two tuples, resulting in a new tuple named concatenated_tuple.\n",
    "- We print the concatenated tuple."
   ]
  },
  {
   "cell_type": "markdown",
   "metadata": {
    "id": "h86BPARh-tOM"
   },
   "source": [
    "### 13. Repeat a tuple three times."
   ]
  },
  {
   "cell_type": "code",
   "execution_count": 118,
   "metadata": {
    "colab": {
     "base_uri": "https://localhost:8080/"
    },
    "id": "CUKJxuffCudl",
    "outputId": "59c599c9-400f-4c22-a8b2-5d4802134e33"
   },
   "outputs": [
    {
     "name": "stdout",
     "output_type": "stream",
     "text": [
      "Repeated tuple: (1, 2, 3, 1, 2, 3, 1, 2, 3)\n"
     ]
    }
   ],
   "source": [
    "# Step 1: Create a tuple\n",
    "original_tuple = (1, 2, 3)\n",
    "\n",
    "# Step 2: Repeat the tuple three times\n",
    "repeated_tuple = original_tuple * 3\n",
    "\n",
    "# Step 3: Print the repeated tuple\n",
    "print(\"Repeated tuple:\", repeated_tuple)"
   ]
  },
  {
   "cell_type": "markdown",
   "metadata": {
    "id": "mqBGIsA6-tHi"
   },
   "source": [
    "- We start by creating a tuple named original_tuple with some elements.\n",
    "- We use the * operator to repeat the tuple three times, resulting in a new tuple named repeated_tuple.\n",
    "- We print the repeated tuple."
   ]
  },
  {
   "cell_type": "markdown",
   "metadata": {
    "id": "a4OY9KiV-tDi"
   },
   "source": [
    "### 14. Check if a tuple is empty."
   ]
  },
  {
   "cell_type": "code",
   "execution_count": 119,
   "metadata": {
    "colab": {
     "base_uri": "https://localhost:8080/"
    },
    "id": "KnupOMgfC4RQ",
    "outputId": "3d0f2c81-c2fd-4dd8-b184-5ff503642759"
   },
   "outputs": [
    {
     "name": "stdout",
     "output_type": "stream",
     "text": [
      "The empty_tuple is empty.\n",
      "The non_empty_tuple is not empty.\n"
     ]
    }
   ],
   "source": [
    "# Step 1: Create an empty tuple and a non-empty tuple\n",
    "empty_tuple = ()\n",
    "non_empty_tuple = (1, 2, 3)\n",
    "\n",
    "# Step 2: Check if the tuples are empty\n",
    "if not empty_tuple:\n",
    "    print(\"The empty_tuple is empty.\")\n",
    "else:\n",
    "    print(\"The empty_tuple is not empty.\")\n",
    "\n",
    "if not non_empty_tuple:\n",
    "    print(\"The non_empty_tuple is empty.\")\n",
    "else:\n",
    "    print(\"The non_empty_tuple is not empty.\")"
   ]
  },
  {
   "cell_type": "markdown",
   "metadata": {
    "id": "Q7vPfAK4-s_i"
   },
   "source": [
    "- We create an empty tuple named empty_tuple and a non-empty tuple named non_empty_tuple for demonstration purposes.\n",
    "- We use if not empty_tuple to check if the empty_tuple is empty. Since an empty tuple evaluates to False, the first print statement will be executed, indicating that the tuple is empty.\n",
    "- We use the same approach to check if the non_empty_tuple is empty. Since it contains elements and evaluates to True, the second print statement will be executed, indicating that the tuple is not empty."
   ]
  },
  {
   "cell_type": "markdown",
   "metadata": {
    "id": "EcLudSiX-s7j"
   },
   "source": [
    "### 15. Create a nested tuple."
   ]
  },
  {
   "cell_type": "code",
   "execution_count": 120,
   "metadata": {
    "colab": {
     "base_uri": "https://localhost:8080/"
    },
    "id": "Gm3PwRehDOos",
    "outputId": "872958d3-c6e1-4057-da89-065a3a996786"
   },
   "outputs": [
    {
     "name": "stdout",
     "output_type": "stream",
     "text": [
      "Nested tuple: ((1, 2, 3), ('a', 'b', 'c'), (True, False))\n"
     ]
    }
   ],
   "source": [
    "# Step 1: Create a nested tuple\n",
    "nested_tuple = ((1, 2, 3), ('a', 'b', 'c'), (True, False))\n",
    "\n",
    "# Step 2: Print the nested tuple\n",
    "print(\"Nested tuple:\", nested_tuple)"
   ]
  },
  {
   "cell_type": "markdown",
   "metadata": {
    "id": "gEASw2Fj-s3i"
   },
   "source": [
    "- We create a nested tuple named nested_tuple that contains three tuples as its elements. Each of these inner tuples can have different data types.\n",
    "- We print the nested tuple to see its structure."
   ]
  },
  {
   "cell_type": "markdown",
   "metadata": {
    "id": "lgDsJ9Zu-szh"
   },
   "source": [
    "### 16. Access the first element of a nested tuple."
   ]
  },
  {
   "cell_type": "code",
   "execution_count": 121,
   "metadata": {
    "colab": {
     "base_uri": "https://localhost:8080/"
    },
    "id": "xuAflJKCDlrL",
    "outputId": "eaceecc5-e923-4fdd-d3fa-a761720ac9c5"
   },
   "outputs": [
    {
     "name": "stdout",
     "output_type": "stream",
     "text": [
      "First element of the nested tuple: (1, 2, 3)\n"
     ]
    }
   ],
   "source": [
    "# Step 1: Create a nested tuple\n",
    "nested_tuple = ((1, 2, 3), ('a', 'b', 'c'), (True, False))\n",
    "\n",
    "# Step 2: Access the first element of the nested tuple\n",
    "first_element = nested_tuple[0]\n",
    "\n",
    "# Step 3: Print the first element\n",
    "print(\"First element of the nested tuple:\", first_element)"
   ]
  },
  {
   "cell_type": "markdown",
   "metadata": {
    "id": "GEwGo1Bs-sve"
   },
   "source": [
    "- We start by creating a nested tuple named nested_tuple that contains three inner tuples.\n",
    "- We use indexing [0] to access the first element of the nested_tuple. This element is itself a tuple (1, 2, 3).\n",
    "- We print the first element to see its contents."
   ]
  },
  {
   "cell_type": "markdown",
   "metadata": {
    "id": "ScZrH6Bp-srj"
   },
   "source": [
    "### 17. Create a tuple with a single element."
   ]
  },
  {
   "cell_type": "code",
   "execution_count": 122,
   "metadata": {
    "colab": {
     "base_uri": "https://localhost:8080/"
    },
    "id": "FILtCutfD-Ne",
    "outputId": "f83dcb38-6b4a-43dd-8b0e-0ef81de45166"
   },
   "outputs": [
    {
     "name": "stdout",
     "output_type": "stream",
     "text": [
      "Single element tuple: (42,)\n"
     ]
    }
   ],
   "source": [
    "# Step 1: Create a tuple with a single element\n",
    "single_element_tuple = (42,)  # Note the trailing comma\n",
    "\n",
    "# Step 2: Print the single element tuple\n",
    "print(\"Single element tuple:\", single_element_tuple)"
   ]
  },
  {
   "cell_type": "markdown",
   "metadata": {
    "id": "hLUNBHA0-sni"
   },
   "source": [
    "- We create a tuple named single_element_tuple with a single element. The key here is to include a trailing comma after the element, which informs Python that you want to create a tuple with one element.\n",
    "- We print the single element tuple to see its contents."
   ]
  },
  {
   "cell_type": "markdown",
   "metadata": {
    "id": "q9FlgOzP-sjg"
   },
   "source": [
    "### 18. Compare two tuples."
   ]
  },
  {
   "cell_type": "code",
   "execution_count": 123,
   "metadata": {
    "colab": {
     "base_uri": "https://localhost:8080/"
    },
    "id": "aumD-FQUXNJP",
    "outputId": "51b47aa8-9fe2-461a-951e-4110d87788be"
   },
   "outputs": [
    {
     "name": "stdout",
     "output_type": "stream",
     "text": [
      "tuple1 == tuple2: False\n",
      "tuple1 != tuple2: True\n",
      "tuple1 < tuple2: True\n",
      "tuple1 <= tuple2: True\n",
      "tuple1 > tuple2: False\n",
      "tuple1 >= tuple2: False\n"
     ]
    }
   ],
   "source": [
    "# Step 1: Create two tuples\n",
    "tuple1 = (1, 2, 3)\n",
    "tuple2 = (1, 2, 4)\n",
    "\n",
    "# Step 2: Compare the two tuples using comparison operators\n",
    "print(\"tuple1 == tuple2:\", tuple1 == tuple2)  # Equality check\n",
    "print(\"tuple1 != tuple2:\", tuple1 != tuple2)  # Inequality check\n",
    "print(\"tuple1 < tuple2:\", tuple1 < tuple2)    # Less than check\n",
    "print(\"tuple1 <= tuple2:\", tuple1 <= tuple2)  # Less than or equal to check\n",
    "print(\"tuple1 > tuple2:\", tuple1 > tuple2)    # Greater than check\n",
    "print(\"tuple1 >= tuple2:\", tuple1 >= tuple2)  # Greater than or equal to check"
   ]
  },
  {
   "cell_type": "markdown",
   "metadata": {
    "id": "K_EcFktx-sfi"
   },
   "source": [
    "We create two tuples named tuple1 and tuple2.\n",
    "We use various comparison operators to compare the elements of the two tuples:\n",
    "- tuple1 == tuple2 checks if the tuples are equal element-wise.\n",
    "- tuple1 != tuple2 checks if the tuples are not equal element-wise.\n",
    "- tuple1 < tuple2 checks if tuple1 is lexicographically less than tuple2.\n",
    "- tuple1 <= tuple2 checks if tuple1 is lexicographically less than or equal to tuple2.\n",
    "- tuple1 > tuple2 checks if tuple1 is lexicographically greater than tuple2.\n",
    "- tuple1 >= tuple2 checks if tuple1 is lexicographically greater than or equal to tuple2."
   ]
  },
  {
   "cell_type": "markdown",
   "metadata": {
    "id": "VAK8OadC-sbx"
   },
   "source": [
    "### 19. Delete a tuple."
   ]
  },
  {
   "cell_type": "code",
   "execution_count": 124,
   "metadata": {
    "colab": {
     "base_uri": "https://localhost:8080/",
     "height": 210
    },
    "id": "kVeoDL9EX2QH",
    "outputId": "ff6994bc-f948-48b6-9ebd-4cedd2cbf243"
   },
   "outputs": [
    {
     "ename": "NameError",
     "evalue": "name 'my_tuple' is not defined",
     "output_type": "error",
     "traceback": [
      "\u001b[0;31m---------------------------------------------------------------------------\u001b[0m",
      "\u001b[0;31mNameError\u001b[0m                                 Traceback (most recent call last)",
      "Cell \u001b[0;32mIn[124], line 8\u001b[0m\n\u001b[1;32m      5\u001b[0m \u001b[38;5;28;01mdel\u001b[39;00m my_tuple\n\u001b[1;32m      7\u001b[0m \u001b[38;5;66;03m# Step 3: Try to access the tuple (will raise a NameError)\u001b[39;00m\n\u001b[0;32m----> 8\u001b[0m \u001b[38;5;28mprint\u001b[39m(\u001b[43mmy_tuple\u001b[49m)\n",
      "\u001b[0;31mNameError\u001b[0m: name 'my_tuple' is not defined"
     ]
    }
   ],
   "source": [
    "# Step 1: Create a tuple\n",
    "my_tuple = (1, 2, 3, 4, 5)\n",
    "\n",
    "# Step 2: Delete the tuple using the 'del' statement\n",
    "del my_tuple\n",
    "\n",
    "# Step 3: Try to access the tuple (will raise a NameError)\n",
    "print(my_tuple)"
   ]
  },
  {
   "cell_type": "markdown",
   "metadata": {
    "id": "b2UpOmx9-sX-"
   },
   "source": [
    "- We start by creating a tuple named my_tuple with some elements.\n",
    "- We use the del statement to delete the entire tuple.\n",
    "- When you try to access the tuple after deleting it, you will get a NameError because the tuple no longer exists."
   ]
  },
  {
   "cell_type": "markdown",
   "metadata": {
    "id": "WOzsGykG-sT5"
   },
   "source": [
    "### 20. Slice a tuple."
   ]
  },
  {
   "cell_type": "code",
   "execution_count": null,
   "metadata": {
    "colab": {
     "base_uri": "https://localhost:8080/"
    },
    "id": "gW2uEvWcYVF7",
    "outputId": "e156beb0-d92f-4ddf-ead1-4e6350e22eb9"
   },
   "outputs": [],
   "source": [
    "# Step 1: Create a tuple\n",
    "my_tuple = (1, 2, 3, 4, 5, 6, 7, 8, 9, 10)\n",
    "\n",
    "# Step 2: Slice the tuple to get a portion of it\n",
    "sliced_tuple = my_tuple[2:6]  # Elements from index 2 to 5 (end index is exclusive)\n",
    "\n",
    "# Step 3: Print the sliced tuple\n",
    "print(\"Sliced tuple:\", sliced_tuple)"
   ]
  },
  {
   "cell_type": "markdown",
   "metadata": {
    "id": "qmNZwSRd-sP8"
   },
   "source": [
    "- We start by creating a tuple named my_tuple with some elements.\n",
    "- We use slicing [start:end] to extract a portion of the tuple. In this example, my_tuple[2:6] gives us elements from index 2 to 5 (end index is exclusive).\n",
    "- We print the sliced tuple to see its contents."
   ]
  },
  {
   "cell_type": "markdown",
   "metadata": {
    "id": "MUbNy86b-sMC"
   },
   "source": [
    "### 21. Find the maximum value in a tuple."
   ]
  },
  {
   "cell_type": "code",
   "execution_count": 125,
   "metadata": {
    "colab": {
     "base_uri": "https://localhost:8080/"
    },
    "id": "5Yp7wrafYvQv",
    "outputId": "6421579f-edbf-4502-eb32-d0d15faa1892"
   },
   "outputs": [
    {
     "name": "stdout",
     "output_type": "stream",
     "text": [
      "Maximum value: 45\n"
     ]
    }
   ],
   "source": [
    "# Step 1: Create a tuple\n",
    "my_tuple = (10, 20, 5, 45, 30)\n",
    "\n",
    "# Step 2: Find the maximum value in the tuple using the 'max()' function\n",
    "max_value = max(my_tuple)\n",
    "\n",
    "# Step 3: Print the maximum value\n",
    "print(\"Maximum value:\", max_value)"
   ]
  },
  {
   "cell_type": "markdown",
   "metadata": {
    "id": "ck18LX2--sGt"
   },
   "source": [
    "- We start by creating a tuple named my_tuple with some numeric elements.\n",
    "- We use the max() function and pass the my_tuple as an argument. This function returns the maximum value from the tuple.\n",
    "- We print the maximum value."
   ]
  },
  {
   "cell_type": "markdown",
   "metadata": {
    "id": "06nHlxC7-sBn"
   },
   "source": [
    "### 22. Find the minimum value in a tuple."
   ]
  },
  {
   "cell_type": "code",
   "execution_count": 126,
   "metadata": {
    "colab": {
     "base_uri": "https://localhost:8080/"
    },
    "id": "uQuC7RZ2ZIXt",
    "outputId": "d409044f-7a5a-4854-a618-c0461e8b1660"
   },
   "outputs": [
    {
     "name": "stdout",
     "output_type": "stream",
     "text": [
      "Minimum value: 5\n"
     ]
    }
   ],
   "source": [
    "# Step 1: Create a tuple\n",
    "my_tuple = (10, 20, 5, 45, 30)\n",
    "\n",
    "# Step 2: Find the minimum value in the tuple using the 'min()' function\n",
    "min_value = min(my_tuple)\n",
    "\n",
    "# Step 3: Print the minimum value\n",
    "print(\"Minimum value:\", min_value)"
   ]
  },
  {
   "cell_type": "markdown",
   "metadata": {
    "id": "n7jR0eGu-r94"
   },
   "source": [
    "- We start by creating a tuple named my_tuple with some numeric elements.\n",
    "- We use the min() function and pass the my_tuple as an argument. This function returns the minimum value from the tuple.\n",
    "- We print the minimum value."
   ]
  },
  {
   "cell_type": "markdown",
   "metadata": {
    "id": "OPUZZUtw-r6K"
   },
   "source": [
    "### 23. Convert a string to a tuple of characters."
   ]
  },
  {
   "cell_type": "code",
   "execution_count": 127,
   "metadata": {
    "colab": {
     "base_uri": "https://localhost:8080/"
    },
    "id": "ZkpGrHyEZW4c",
    "outputId": "77b50dd9-4ad0-4e24-cec0-f75da5625959"
   },
   "outputs": [
    {
     "name": "stdout",
     "output_type": "stream",
     "text": [
      "Tuple of characters: ('H', 'e', 'l', 'l', 'o', ',', ' ', 'W', 'o', 'r', 'l', 'd', '!')\n"
     ]
    }
   ],
   "source": [
    "# Step 1: Create a string\n",
    "my_string = \"Hello, World!\"\n",
    "\n",
    "# Step 2: Convert the string to a tuple of characters\n",
    "tuple_of_characters = tuple(my_string)\n",
    "\n",
    "# Step 3: Print the tuple of characters\n",
    "print(\"Tuple of characters:\", tuple_of_characters)"
   ]
  },
  {
   "cell_type": "markdown",
   "metadata": {
    "id": "2V89mYwY-r2Z"
   },
   "source": [
    "- We start by creating a string named my_string.\n",
    "- We use the tuple() constructor and pass the string my_string as an argument. This constructor converts the string into a tuple of individual characters.\n",
    "- We print the resulting tuple of characters."
   ]
  },
  {
   "cell_type": "markdown",
   "metadata": {
    "id": "BSCnejYO-ryq"
   },
   "source": [
    "### 24. Convert a tuple of characters to a string."
   ]
  },
  {
   "cell_type": "code",
   "execution_count": 128,
   "metadata": {
    "colab": {
     "base_uri": "https://localhost:8080/"
    },
    "id": "_Dv_YWbBZkFi",
    "outputId": "2728628a-9ef3-4471-eb25-b90f5f164c2e"
   },
   "outputs": [
    {
     "name": "stdout",
     "output_type": "stream",
     "text": [
      "String from tuple: Hello World!\n"
     ]
    }
   ],
   "source": [
    "# Step 1: Create a tuple of characters\n",
    "tuple_of_characters = ('H', 'e', 'l', 'l', 'o', ' ', 'W', 'o', 'r', 'l', 'd', '!')\n",
    "\n",
    "# Step 2: Convert the tuple of characters to a string using the 'join()' method\n",
    "string_from_tuple = ''.join(tuple_of_characters)\n",
    "\n",
    "# Step 3: Print the resulting string\n",
    "print(\"String from tuple:\", string_from_tuple)"
   ]
  },
  {
   "cell_type": "markdown",
   "metadata": {
    "id": "W10t0At_-ru9"
   },
   "source": [
    "- We start by creating a tuple named tuple_of_characters containing individual characters.\n",
    "- We use the join() method, which is called on an empty string (''), to join the characters from the tuple and create a single string.\n",
    "- We print the resulting string."
   ]
  },
  {
   "cell_type": "markdown",
   "metadata": {
    "id": "14Pxy7uuc3xm"
   },
   "source": [
    "### 25. Create a tuple from multiple data types."
   ]
  },
  {
   "cell_type": "code",
   "execution_count": 129,
   "metadata": {
    "id": "Yx9Re3mMc3xm",
    "outputId": "7806468d-884e-44f3-c95b-8e7f674a9922"
   },
   "outputs": [
    {
     "name": "stdout",
     "output_type": "stream",
     "text": [
      "(1, 'hello', 3.14, True)\n"
     ]
    }
   ],
   "source": [
    "# Creating a tuple with elements of different data types\n",
    "mixed_tuple = (1, \"hello\", 3.14, True)\n",
    "\n",
    "# Printing the tuple\n",
    "print(mixed_tuple)"
   ]
  },
  {
   "cell_type": "markdown",
   "metadata": {
    "id": "iOBk2AIPc3xm"
   },
   "source": [
    "- The mixed_tuple contains four elements of different data types: an integer, a string, a float, and a boolean. You can combine various data types in a tuple in the same way."
   ]
  },
  {
   "cell_type": "markdown",
   "metadata": {
    "id": "zSsocS7E-rrN"
   },
   "source": [
    "### 26. Check if two tuples are identical."
   ]
  },
  {
   "cell_type": "code",
   "execution_count": 130,
   "metadata": {
    "colab": {
     "base_uri": "https://localhost:8080/"
    },
    "id": "8okUaLN8Z8BV",
    "outputId": "dbbaaf8e-98f5-4aa1-9d00-3af2b45ef042"
   },
   "outputs": [
    {
     "name": "stdout",
     "output_type": "stream",
     "text": [
      "tuple1 and tuple2 are identical: True\n",
      "tuple1 and tuple3 are identical: False\n"
     ]
    }
   ],
   "source": [
    "# Step 1: Create two tuples\n",
    "tuple1 = (1, 2, 3)\n",
    "tuple2 = (1, 2, 3)\n",
    "tuple3 = (4, 5, 6)\n",
    "\n",
    "# Step 2: Compare the tuples for identity using the equality operator\n",
    "are_identical1 = tuple1 == tuple2\n",
    "are_identical2 = tuple1 == tuple3\n",
    "\n",
    "# Step 3: Print the results\n",
    "print(\"tuple1 and tuple2 are identical:\", are_identical1)\n",
    "print(\"tuple1 and tuple3 are identical:\", are_identical2)"
   ]
  },
  {
   "cell_type": "markdown",
   "metadata": {
    "id": "H9A5T-5--rne"
   },
   "source": [
    "- We create three tuples named tuple1, tuple2, and tuple3 with different elements.\n",
    "- We use the equality operator == to compare the tuples for identity. If all corresponding elements are the same, the tuples are considered identical.\n",
    "- We print the results of the comparisons."
   ]
  },
  {
   "cell_type": "markdown",
   "metadata": {
    "id": "EC3qeP6H-rjw"
   },
   "source": [
    "### 27. Sort the elements of a tuple."
   ]
  },
  {
   "cell_type": "code",
   "execution_count": 131,
   "metadata": {
    "colab": {
     "base_uri": "https://localhost:8080/"
    },
    "id": "hejbfdoQaGn3",
    "outputId": "9c86326e-c8a2-4ac3-cb5e-426f7c25ce49"
   },
   "outputs": [
    {
     "name": "stdout",
     "output_type": "stream",
     "text": [
      "Sorted tuple: (1, 2, 3, 5, 8)\n"
     ]
    }
   ],
   "source": [
    "# Step 1: Create a tuple\n",
    "my_tuple = (5, 2, 8, 1, 3)\n",
    "\n",
    "# Step 2: Convert the tuple to a list, sort the list, and convert it back to a tuple\n",
    "sorted_tuple = tuple(sorted(my_tuple))\n",
    "\n",
    "# Step 3: Print the sorted tuple\n",
    "print(\"Sorted tuple:\", sorted_tuple)\n"
   ]
  },
  {
   "cell_type": "markdown",
   "metadata": {
    "id": "nyo2aOnv-rgD"
   },
   "source": [
    "- We start by creating a tuple named my_tuple with some numeric elements.\n",
    "- We use the sorted() function to sort the elements of the tuple. The sorted() function returns a sorted list.\n",
    "- We use the tuple() constructor to convert the sorted list back into a tuple.\n",
    "- We print the sorted tuple."
   ]
  },
  {
   "cell_type": "markdown",
   "metadata": {
    "id": "16vOltmj-rcY"
   },
   "source": [
    "### 28. Convert a tuple of integers to a tuple of strings."
   ]
  },
  {
   "cell_type": "code",
   "execution_count": 132,
   "metadata": {
    "colab": {
     "base_uri": "https://localhost:8080/"
    },
    "id": "Tx1XuiBLaSmu",
    "outputId": "4342d125-d3d2-4ffa-cb38-e5c2e2dce5a5"
   },
   "outputs": [
    {
     "name": "stdout",
     "output_type": "stream",
     "text": [
      "Tuple of strings: ('1', '2', '3', '4', '5')\n"
     ]
    }
   ],
   "source": [
    "# Step 1: Create a tuple of integers\n",
    "tuple_of_integers = (1, 2, 3, 4, 5)\n",
    "\n",
    "# Step 2: Convert the tuple of integers to a tuple of strings using a list comprehension\n",
    "tuple_of_strings = tuple(str(item) for item in tuple_of_integers)\n",
    "\n",
    "# Step 3: Print the tuple of strings\n",
    "print(\"Tuple of strings:\", tuple_of_strings)"
   ]
  },
  {
   "cell_type": "markdown",
   "metadata": {
    "id": "uJSZnSpr-rYu"
   },
   "source": [
    "- We start by creating a tuple named tuple_of_integers containing integer elements.\n",
    "- We use a list comprehension to iterate through each integer in the tuple and convert it to a string using the str() function. The list comprehension generates a list of strings.\n",
    "- We convert the list of strings to a tuple using the tuple() constructor.\n",
    "- We print the resulting tuple of strings."
   ]
  },
  {
   "cell_type": "markdown",
   "metadata": {
    "id": "y-5yD1wp-rVB"
   },
   "source": [
    "### 29. Convert a tuple of strings to a tuple of integers."
   ]
  },
  {
   "cell_type": "code",
   "execution_count": 133,
   "metadata": {
    "colab": {
     "base_uri": "https://localhost:8080/"
    },
    "id": "ndOFBsVNanUC",
    "outputId": "7d5cd8e9-d946-45d7-fa7a-61eee12511c2"
   },
   "outputs": [
    {
     "name": "stdout",
     "output_type": "stream",
     "text": [
      "Tuple of integers: (10, 20, 30, 40, 50)\n"
     ]
    }
   ],
   "source": [
    "# Step 1: Create a tuple of strings\n",
    "tuple_of_strings = ('10', '20', '30', '40', '50')\n",
    "\n",
    "# Step 2: Convert the tuple of strings to a tuple of integers using a list comprehension\n",
    "tuple_of_integers = tuple(int(item) for item in tuple_of_strings)\n",
    "\n",
    "# Step 3: Print the tuple of integers\n",
    "print(\"Tuple of integers:\", tuple_of_integers)"
   ]
  },
  {
   "cell_type": "markdown",
   "metadata": {
    "id": "-Bl37_7o-rRY"
   },
   "source": [
    "- We start by creating a tuple named tuple_of_strings containing string elements.\n",
    "- We use a list comprehension to iterate through each string in the tuple and convert it to an integer using the int() function. The list comprehension generates a list of integers.\n",
    "- We convert the list of integers to a tuple using the tuple() constructor.\n",
    "- We print the resulting tuple of integers."
   ]
  },
  {
   "cell_type": "markdown",
   "metadata": {
    "id": "NJ72UfL1-rMB"
   },
   "source": [
    "### 30. Merge two tuples."
   ]
  },
  {
   "cell_type": "code",
   "execution_count": 134,
   "metadata": {
    "colab": {
     "base_uri": "https://localhost:8080/"
    },
    "id": "z9b1IcEGaywZ",
    "outputId": "7c6e25c9-a22d-4a1a-944b-16710da54c9d"
   },
   "outputs": [
    {
     "name": "stdout",
     "output_type": "stream",
     "text": [
      "Merged tuple: (1, 2, 3, 4, 5, 6)\n"
     ]
    }
   ],
   "source": [
    "# Step 1: Create two tuples\n",
    "tuple1 = (1, 2, 3)\n",
    "tuple2 = (4, 5, 6)\n",
    "\n",
    "# Step 2: Merge the two tuples using the '+' operator\n",
    "merged_tuple = tuple1 + tuple2\n",
    "\n",
    "# Step 3: Print the merged tuple\n",
    "print(\"Merged tuple:\", merged_tuple)"
   ]
  },
  {
   "cell_type": "markdown",
   "metadata": {
    "id": "Jxp1ev5w-rIX"
   },
   "source": [
    "- We start by creating two tuples named tuple1 and tuple2.\n",
    "- We use the + operator to merge the two tuples, resulting in a new tuple named merged_tuple.\n",
    "- We print the merged tuple."
   ]
  },
  {
   "cell_type": "markdown",
   "metadata": {
    "id": "YYBTQtOX-rEk"
   },
   "source": [
    "### 31. Flatten a nested tuple."
   ]
  },
  {
   "cell_type": "code",
   "execution_count": 135,
   "metadata": {
    "colab": {
     "base_uri": "https://localhost:8080/"
    },
    "id": "QLFlrwN7bDev",
    "outputId": "14a8999f-a8eb-41b5-91da-c97a0b9ef271"
   },
   "outputs": [
    {
     "name": "stdout",
     "output_type": "stream",
     "text": [
      "Flattened tuple: (1, 2, 3, 4, 5, 6, 7, 8)\n"
     ]
    }
   ],
   "source": [
    "# Recursive function to flatten a nested tuple\n",
    "def flatten_tuple(nested_tuple):\n",
    "    flattened = []\n",
    "    for item in nested_tuple:\n",
    "        if isinstance(item, tuple):\n",
    "            flattened.extend(flatten_tuple(item))\n",
    "        else:\n",
    "            flattened.append(item)\n",
    "    return flattened\n",
    "\n",
    "# Step 1: Create a nested tuple\n",
    "nested_tuple = ((1, 2), (3, 4, 5), (6, (7, 8)))\n",
    "\n",
    "# Step 2: Flatten the nested tuple\n",
    "flattened_tuple = tuple(flatten_tuple(nested_tuple))\n",
    "\n",
    "# Step 3: Print the flattened tuple\n",
    "print(\"Flattened tuple:\", flattened_tuple)"
   ]
  },
  {
   "cell_type": "markdown",
   "metadata": {
    "id": "9GUcbxRs-rBB"
   },
   "source": [
    "- We define a recursive function named flatten_tuple that takes a nested tuple as input and returns a list of its flattened elements.\n",
    "- Inside the function, we iterate through each element in the nested tuple. If an element is itself a tuple, we recursively call the flatten_tuple function on that element and extend the flattened list with its flattened elements. If the element is not a tuple, we append it to the flattened list.\n",
    "- We create a nested tuple named nested_tuple with varying levels of nesting.\n",
    "- We use the flatten_tuple function to convert the nested tuple into a flattened list and then convert the list back to a tuple using the tuple() constructor.\n",
    "- We print the resulting flattened tuple."
   ]
  },
  {
   "cell_type": "markdown",
   "metadata": {
    "id": "kC7aI_t9-q9c"
   },
   "source": [
    "### 32. Create a tuple of the first 5 prime numbers."
   ]
  },
  {
   "cell_type": "code",
   "execution_count": 136,
   "metadata": {
    "colab": {
     "base_uri": "https://localhost:8080/"
    },
    "id": "VRDkDQA2bSii",
    "outputId": "e270b6cf-e7cd-469e-97ac-3b5f0570bc2a"
   },
   "outputs": [
    {
     "name": "stdout",
     "output_type": "stream",
     "text": [
      "Tuple of the first 5 prime numbers: (2, 3, 5, 7, 11)\n"
     ]
    }
   ],
   "source": [
    "# Function to check if a number is prime\n",
    "def is_prime(num):\n",
    "    if num <= 1:\n",
    "        return False\n",
    "    for i in range(2, int(num ** 0.5) + 1):\n",
    "        if num % i == 0:\n",
    "            return False\n",
    "    return True\n",
    "\n",
    "# Generate the first 5 prime numbers\n",
    "prime_numbers_list = [num for num in range(2, 100) if is_prime(num)][:5]\n",
    "\n",
    "# Convert the list to a tuple\n",
    "prime_numbers_tuple = tuple(prime_numbers_list)\n",
    "\n",
    "# Print the tuple of prime numbers\n",
    "print(\"Tuple of the first 5 prime numbers:\", prime_numbers_tuple)"
   ]
  },
  {
   "cell_type": "markdown",
   "metadata": {
    "id": "DypW4QZ_-q54"
   },
   "source": [
    "- We define a function is_prime(num) that checks whether a given number is prime. It returns True if the number is prime and False otherwise.\n",
    "- We use a list comprehension to generate a list of prime numbers. The list comprehension iterates through numbers from 2 to 99 and selects the first 5 prime numbers using the is_prime() function.\n",
    "- We convert the list of prime numbers to a tuple using the tuple() constructor.\n",
    "- We print the resulting tuple of the first 5 prime numbers."
   ]
  },
  {
   "cell_type": "markdown",
   "metadata": {
    "id": "IHNRNTMa-q2R"
   },
   "source": [
    "### 3. Check if a tuple is a palindrome."
   ]
  },
  {
   "cell_type": "code",
   "execution_count": 137,
   "metadata": {
    "colab": {
     "base_uri": "https://localhost:8080/"
    },
    "id": "zCH8mgZLbjah",
    "outputId": "1a31baf5-d37a-443d-c152-2f2c9b315deb"
   },
   "outputs": [
    {
     "name": "stdout",
     "output_type": "stream",
     "text": [
      "palindrome_tuple is a palindrome: True\n",
      "non_palindrome_tuple is a palindrome: False\n"
     ]
    }
   ],
   "source": [
    "# Function to check if a tuple is a palindrome\n",
    "def is_palindrome(tup):\n",
    "    return tup == tup[::-1]\n",
    "\n",
    "# Create tuples for testing\n",
    "palindrome_tuple = (1, 2, 3, 2, 1)\n",
    "non_palindrome_tuple = (1, 2, 3, 4, 5)\n",
    "\n",
    "# Check if the tuples are palindromes\n",
    "is_palindrome1 = is_palindrome(palindrome_tuple)\n",
    "is_palindrome2 = is_palindrome(non_palindrome_tuple)\n",
    "\n",
    "# Print the results\n",
    "print(\"palindrome_tuple is a palindrome:\", is_palindrome1)\n",
    "print(\"non_palindrome_tuple is a palindrome:\", is_palindrome2)"
   ]
  },
  {
   "cell_type": "markdown",
   "metadata": {
    "id": "3SzRNl8R-qyr"
   },
   "source": [
    "- We define a function is_palindrome(tup) that takes a tuple as input and returns True if the tuple is a palindrome (reads the same forwards and backwards), and False otherwise.\n",
    "- Inside the function, we compare the input tuple tup with its reversed version using the slicing notation tup[::-1].\n",
    "- We create two tuples, palindrome_tuple and non_palindrome_tuple, for testing.\n",
    "- We call the is_palindrome() function on each tuple to check if they are palindromes.\n",
    "- We print the results of the palindrome checks."
   ]
  },
  {
   "cell_type": "markdown",
   "metadata": {
    "id": "KSVhR4hY-qvE"
   },
   "source": [
    "### 34. Create a tuple of squares of numbers from 1 to 5."
   ]
  },
  {
   "cell_type": "code",
   "execution_count": 138,
   "metadata": {
    "colab": {
     "base_uri": "https://localhost:8080/"
    },
    "id": "eJ3WKRFmbz-H",
    "outputId": "01324f9f-594d-4948-e5a8-6d466b0ca58f"
   },
   "outputs": [
    {
     "name": "stdout",
     "output_type": "stream",
     "text": [
      "Tuple of squares: (1, 4, 9, 16, 25)\n"
     ]
    }
   ],
   "source": [
    "# Create a tuple of squares using a list comprehension\n",
    "squares_tuple = tuple(x ** 2 for x in range(1, 6))\n",
    "\n",
    "# Print the tuple of squares\n",
    "print(\"Tuple of squares:\", squares_tuple)"
   ]
  },
  {
   "cell_type": "markdown",
   "metadata": {
    "id": "if8yGLEz-qri"
   },
   "source": [
    "- We use a list comprehension to calculate the squares of numbers from 1 to 5. - The expression x ** 2 calculates the square of each number x.\n",
    "- We convert the list of squares to a tuple using the tuple() constructor.\n",
    "- We print the resulting tuple of squares."
   ]
  },
  {
   "cell_type": "markdown",
   "metadata": {
    "id": "fw9phPf9-qn3"
   },
   "source": [
    "### 35. Filter out all even numbers from a tuple."
   ]
  },
  {
   "cell_type": "code",
   "execution_count": 139,
   "metadata": {
    "colab": {
     "base_uri": "https://localhost:8080/"
    },
    "id": "YhQtBJV8b9kD",
    "outputId": "ddf7a9b3-a0b5-485e-9673-c9a510376b35"
   },
   "outputs": [
    {
     "name": "stdout",
     "output_type": "stream",
     "text": [
      "Filtered tuple: (1, 3, 5, 7, 9)\n"
     ]
    }
   ],
   "source": [
    "# Create a tuple\n",
    "original_tuple = (1, 2, 3, 4, 5, 6, 7, 8, 9, 10)\n",
    "\n",
    "# Filter out even numbers using a list comprehension\n",
    "filtered_tuple = tuple(num for num in original_tuple if num % 2 != 0)\n",
    "\n",
    "# Print the filtered tuple\n",
    "print(\"Filtered tuple:\", filtered_tuple)"
   ]
  },
  {
   "cell_type": "markdown",
   "metadata": {
    "id": "SsbbEHi_-qkY"
   },
   "source": [
    "- We start by creating a tuple named original_tuple with some numeric elements.\n",
    "- We use a list comprehension to iterate through each number in the original_tuple. The conditional statement num % 2 != 0 checks if the number is not even (i.e., it's odd).\n",
    "- Only odd numbers are included in the list comprehension, and we convert the resulting list to a tuple using the tuple() constructor.\n",
    "- We print the resulting filtered tuple."
   ]
  },
  {
   "cell_type": "markdown",
   "metadata": {
    "id": "2sUz0cMY-qg1"
   },
   "source": [
    "### 36. Multiply all elements in a tuple by 2."
   ]
  },
  {
   "cell_type": "code",
   "execution_count": 140,
   "metadata": {
    "colab": {
     "base_uri": "https://localhost:8080/"
    },
    "id": "VLCmBgLDcRuJ",
    "outputId": "9330bd2d-788e-467c-bd6f-bddac9005804"
   },
   "outputs": [
    {
     "name": "stdout",
     "output_type": "stream",
     "text": [
      "Doubled tuple: (2, 4, 6, 8, 10)\n"
     ]
    }
   ],
   "source": [
    "# Create a tuple\n",
    "original_tuple = (1, 2, 3, 4, 5)\n",
    "\n",
    "# Multiply all elements by 2 using a list comprehension and convert to a tuple\n",
    "doubled_tuple = tuple(num * 2 for num in original_tuple)\n",
    "\n",
    "# Print the doubled tuple\n",
    "print(\"Doubled tuple:\", doubled_tuple)"
   ]
  },
  {
   "cell_type": "markdown",
   "metadata": {
    "id": "qtivPCDI-qdX"
   },
   "source": [
    "- We start by creating a tuple named original_tuple with some numeric elements.\n",
    "- We use a list comprehension to iterate through each number in the original_tuple and multiply it by 2.\n",
    "- The num * 2 expression calculates the doubled value for each element.\n",
    "- We convert the resulting list of doubled values to a tuple using the tuple() constructor.\n",
    "- We print the resulting doubled tuple."
   ]
  },
  {
   "cell_type": "markdown",
   "metadata": {
    "id": "qvmR9C4J-qZx"
   },
   "source": [
    "### 37. Create a tuple of random numbers."
   ]
  },
  {
   "cell_type": "code",
   "execution_count": 141,
   "metadata": {
    "colab": {
     "base_uri": "https://localhost:8080/"
    },
    "id": "ZM_h9niFchcx",
    "outputId": "82634012-e2b5-4955-eb0f-69881f564054"
   },
   "outputs": [
    {
     "name": "stdout",
     "output_type": "stream",
     "text": [
      "Random tuple: (27, 17, 35, 98, 40, 13, 85, 47, 52, 94)\n"
     ]
    }
   ],
   "source": [
    "import random\n",
    "\n",
    "# Create a tuple of random numbers using a list comprehension\n",
    "random_tuple = tuple(random.randint(1, 100) for _ in range(10))  # Generating 10 random numbers between 1 and 100\n",
    "\n",
    "# Print the tuple of random numbers\n",
    "print(\"Random tuple:\", random_tuple)"
   ]
  },
  {
   "cell_type": "markdown",
   "metadata": {
    "id": "B9zhLUR4-qWR"
   },
   "source": [
    "- We use a list comprehension to generate 10 random numbers between 1 and 100 using the random.randint() function.\n",
    "- The _ variable is used as a placeholder because we're not using the loop variable in the list comprehension.\n",
    "- We convert the resulting list of random numbers to a tuple using the tuple() constructor.\n",
    "- We print the resulting random tuple."
   ]
  },
  {
   "cell_type": "markdown",
   "metadata": {
    "id": "Q-r1EP2f-qSs"
   },
   "source": [
    "### 38. Check if a tuple is sorted."
   ]
  },
  {
   "cell_type": "code",
   "execution_count": 142,
   "metadata": {
    "colab": {
     "base_uri": "https://localhost:8080/"
    },
    "id": "U1qeXetYcuXI",
    "outputId": "0dfe992e-abf8-4c36-ebe1-859e324674c3"
   },
   "outputs": [
    {
     "name": "stdout",
     "output_type": "stream",
     "text": [
      "sorted_tuple is sorted: True\n",
      "unsorted_tuple is sorted: False\n"
     ]
    }
   ],
   "source": [
    "# Function to check if a tuple is sorted\n",
    "def is_sorted(tup):\n",
    "    for i in range(len(tup) - 1):\n",
    "        if tup[i] > tup[i + 1]:\n",
    "            return False\n",
    "    return True\n",
    "\n",
    "# Create tuples for testing\n",
    "sorted_tuple = (1, 2, 3, 4, 5)\n",
    "unsorted_tuple = (5, 3, 1, 4, 2)\n",
    "\n",
    "# Check if the tuples are sorted\n",
    "is_sorted1 = is_sorted(sorted_tuple)\n",
    "is_sorted2 = is_sorted(unsorted_tuple)\n",
    "\n",
    "# Print the results\n",
    "print(\"sorted_tuple is sorted:\", is_sorted1)\n",
    "print(\"unsorted_tuple is sorted:\", is_sorted2)"
   ]
  },
  {
   "cell_type": "markdown",
   "metadata": {
    "id": "EbIdJNc4-qPO"
   },
   "source": [
    "- We define a function is_sorted(tup) that takes a tuple as input and returns True if the tuple is sorted in non-decreasing order, and False otherwise.\n",
    "- Inside the function, we iterate through the tuple's elements using a loop. We compare each element with the next one. If we find an element that is greater than the next one, the tuple is not sorted.\n",
    "- We create two tuples, sorted_tuple and unsorted_tuple, for testing.\n",
    "- We call the is_sorted() function on each tuple to check if they are sorted.\n",
    "- We print the results of the sorted checks."
   ]
  },
  {
   "cell_type": "markdown",
   "metadata": {
    "id": "Gh8Hd_Fx-qKr"
   },
   "source": [
    "### 39. Rotate a tuple to the left by `n` positions."
   ]
  },
  {
   "cell_type": "code",
   "execution_count": 143,
   "metadata": {
    "colab": {
     "base_uri": "https://localhost:8080/"
    },
    "id": "uejMlLpj7ShG",
    "outputId": "ce1b272c-b7bf-4116-c75d-6c5a7e8ed080"
   },
   "outputs": [
    {
     "name": "stdout",
     "output_type": "stream",
     "text": [
      "(3, 4, 5, 1, 2)\n"
     ]
    }
   ],
   "source": [
    "def rotate_tuple_left(tup, n):\n",
    "    n = n % len(tup)  # Ensure n is within the range of tuple length\n",
    "    rotated_tuple = tup[n:] + tup[:n]  # Rotate the tuple\n",
    "    return rotated_tuple\n",
    "\n",
    "# Example tuple\n",
    "my_tuple = (1, 2, 3, 4, 5)\n",
    "n_positions = 2\n",
    "result = rotate_tuple_left(my_tuple, n_positions)\n",
    "print(result)"
   ]
  },
  {
   "cell_type": "markdown",
   "metadata": {
    "id": "0kk1yHk_7Wd6"
   },
   "source": [
    "- Define a function named rotate_tuple_left that takes two parameters: tup (the tuple to rotate) and n (the number of positions to rotate by).\n",
    "- Inside the function, calculate n modulo len(tup) to ensure that n is within the range of the tuple length. This step is necessary to handle cases where n is greater than the tuple length.\n",
    "- Use slicing to create a new tuple named rotated_tuple by concatenating two parts:\n",
    "  - tup[n:] extracts the elements from index n to the end of the tuple.\n",
    "  - tup[:n] extracts the elements from the start of the tuple up to index n-1.\n",
    "- The concatenated parts create the rotated tuple.\n",
    "- Return the rotated_tuple from the function.\n",
    "- Define an example my_tuple containing elements (1, 2, 3, 4, 5) and n_positions as 2 for rotation.\n",
    "- Call the rotate_tuple_left function with the my_tuple and n_positions, and store the result in the result variable.\n",
    "- Print the result to see the tuple after left rotation by n_positions."
   ]
  },
  {
   "cell_type": "markdown",
   "metadata": {
    "id": "r-LUhANc-qHO"
   },
   "source": [
    "### 40. Rotate a tuple to the right by `n` positions."
   ]
  },
  {
   "cell_type": "code",
   "execution_count": 144,
   "metadata": {
    "colab": {
     "base_uri": "https://localhost:8080/"
    },
    "id": "xJ3dNZMw7iVo",
    "outputId": "5d24c9fd-134d-4537-f48c-e65c0f6ee0ac"
   },
   "outputs": [
    {
     "name": "stdout",
     "output_type": "stream",
     "text": [
      "(4, 5, 1, 2, 3)\n"
     ]
    }
   ],
   "source": [
    "def rotate_tuple_right(tup, n):\n",
    "    n = n % len(tup)  # Ensure n is within the range of tuple length\n",
    "    rotated_tuple = tup[-n:] + tup[:-n]  # Rotate the tuple\n",
    "    return rotated_tuple\n",
    "\n",
    "# Example tuple\n",
    "my_tuple = (1, 2, 3, 4, 5)\n",
    "n_positions = 2\n",
    "result = rotate_tuple_right(my_tuple, n_positions)\n",
    "print(result)"
   ]
  },
  {
   "cell_type": "markdown",
   "metadata": {
    "id": "sQYF-Znk7iCs"
   },
   "source": [
    "- Define a function named rotate_tuple_right that takes two parameters: tup (the tuple to rotate) and n (the number of positions to rotate by).\n",
    "- Inside the function, calculate n modulo len(tup) to ensure that n is within the range of the tuple length.\n",
    "- Use slicing to create a new tuple named rotated_tuple by concatenating two parts:\n",
    "  - tup[-n:] extracts the last n elements of the tuple.\n",
    "  - tup[:-n] extracts the elements from the start of the tuple up to index -(n+1).\n",
    "- The concatenated parts create the rotated tuple.\n",
    "- Return the rotated_tuple from the function.\n",
    "- Define an example my_tuple containing elements (1, 2, 3, 4, 5) and n_positions as 2 for rotation.\n",
    "- Call the rotate_tuple_right function with the my_tuple and n_positions, and store the result in the result variable.\n",
    "- Print the result to see the tuple after right rotation by n_positions."
   ]
  },
  {
   "cell_type": "markdown",
   "metadata": {
    "id": "v1QLjAfU-qD0"
   },
   "source": [
    "### 41. Create a tuple of the first 5 Fibonacci numbers."
   ]
  },
  {
   "cell_type": "code",
   "execution_count": 145,
   "metadata": {
    "colab": {
     "base_uri": "https://localhost:8080/"
    },
    "id": "X7dXQVvC8QTC",
    "outputId": "f07f5665-bbbc-481f-e2c4-b79fe78e2066"
   },
   "outputs": [
    {
     "name": "stdout",
     "output_type": "stream",
     "text": [
      "(0, 1, 1, 2, 3)\n"
     ]
    }
   ],
   "source": [
    "# Define a function to generate the first n Fibonacci numbers\n",
    "def generate_fibonacci(n):\n",
    "    fibonacci = [0, 1]  # Initialize the list with the first two Fibonacci numbers\n",
    "    while len(fibonacci) < n:  # Continue generating Fibonacci numbers until the list has n elements\n",
    "        next_number = fibonacci[-1] + fibonacci[-2]  # Calculate the next Fibonacci number\n",
    "        fibonacci.append(next_number)  # Add the next Fibonacci number to the list\n",
    "    return tuple(fibonacci)  # Convert the list to a tuple and return it\n",
    "\n",
    "# Call the generate_fibonacci function to create a tuple of the first 5 Fibonacci numbers\n",
    "fibonacci_tuple = generate_fibonacci(5)\n",
    "\n",
    "# Print the resulting tuple\n",
    "print(fibonacci_tuple)"
   ]
  },
  {
   "cell_type": "markdown",
   "metadata": {
    "id": "9suAGLGo8QBp"
   },
   "source": [
    "- Create a function named generate_fibonacci that takes a parameter n, which represents the number of Fibonacci numbers to generate.\n",
    "- Create a list called fibonacci and initialize it with the first two Fibonacci numbers [0, 1].\n",
    "- Use a while loop to continue generating Fibonacci numbers until the length of the fibonacci list is less than n.\n",
    "- Calculate the next Fibonacci number: Calculate the next Fibonacci number by adding the last two numbers in the fibonacci list. We use negative indexing to access the last and second-to-last elements.\n",
    "- Add the next Fibonacci number to the list: Append the next_number to the end of the fibonacci list.\n",
    "- Convert the list to a tuple and return it: Call the generate_fibonacci function with an argument of 5 to generate the first 5 Fibonacci numbers and store the resulting tuple in the variable fibonacci_tuple.\n",
    "- Print the fibonacci_tuple, which contains the first 5 Fibonacci numbers."
   ]
  },
  {
   "cell_type": "markdown",
   "metadata": {
    "id": "8zPtSB8B-qAY"
   },
   "source": [
    "### 42. Create a tuple from user input."
   ]
  },
  {
   "cell_type": "code",
   "execution_count": 147,
   "metadata": {
    "colab": {
     "base_uri": "https://localhost:8080/"
    },
    "id": "-mF1Epj684Av",
    "outputId": "bb988aa9-5bfe-4551-92ad-e71050dea291"
   },
   "outputs": [
    {
     "name": "stdin",
     "output_type": "stream",
     "text": [
      "Enter elements separated by commas:  Car,Bus\n"
     ]
    },
    {
     "name": "stdout",
     "output_type": "stream",
     "text": [
      "User input tuple: ('Car', 'Bus')\n"
     ]
    }
   ],
   "source": [
    "# Taking user input for creating a tuple\n",
    "input_str = input(\"Enter elements separated by commas: \")\n",
    "\n",
    "# Splitting the input string into a list of strings\n",
    "input_list = input_str.split(',')\n",
    "\n",
    "# Converting the list of strings to a tuple\n",
    "user_tuple = tuple(input_list)\n",
    "\n",
    "# Printing the created tuple\n",
    "print(\"User input tuple:\", user_tuple)"
   ]
  },
  {
   "cell_type": "markdown",
   "metadata": {
    "id": "i8hDe_OM83yg"
   },
   "source": [
    "In this code, the user is prompted to enter elements separated by commas. The input is split into a list of strings using the split() method, and then converted into a tuple using the tuple() constructor. Finally, the created tuple is printed to the console."
   ]
  },
  {
   "cell_type": "markdown",
   "metadata": {
    "id": "8efVnYAd-p89"
   },
   "source": [
    "### 43. Swap two elements in a tuple."
   ]
  },
  {
   "cell_type": "code",
   "execution_count": 148,
   "metadata": {
    "colab": {
     "base_uri": "https://localhost:8080/"
    },
    "id": "mjbBK80Q88Ea",
    "outputId": "c7c6d4e4-55ef-4264-b6a8-5dc8789ed9b5"
   },
   "outputs": [
    {
     "name": "stdout",
     "output_type": "stream",
     "text": [
      "Swapped tuple: (1, 4, 3, 2, 5)\n"
     ]
    }
   ],
   "source": [
    "# Create a tuple\n",
    "my_tuple = (1, 2, 3, 4, 5)\n",
    "\n",
    "# Swap elements at indices 1 and 3\n",
    "index1 = 1\n",
    "index2 = 3\n",
    "swapped_tuple = tuple(\n",
    "    my_tuple[i] if i not in (index1, index2) else\n",
    "    my_tuple[index2] if i == index1 else\n",
    "    my_tuple[index1]\n",
    "    for i in range(len(my_tuple))\n",
    ")\n",
    "\n",
    "# Print the swapped tuple\n",
    "print(\"Swapped tuple:\", swapped_tuple)"
   ]
  },
  {
   "cell_type": "markdown",
   "metadata": {
    "id": "wMkR60hr87pb"
   },
   "source": [
    "- We start by creating a tuple named my_tuple with some elements.\n",
    "- We specify the indices (index1 and index2) of the elements we want to swap.\n",
    "- We use a list comprehension to create a new tuple. For each index i in the range of the tuple's length, we decide which value to include in the new tuple:\n",
    "  - If i is not index1 or index2, we include the original value from my_tuple.\n",
    "  - If i is index1, we include the value at index2 from my_tuple.\n",
    "  - If i is index2, we include the value at index1 from my_tuple.\n",
    "- We convert the list comprehension to a tuple using the tuple() constructor.\n",
    "- We print the resulting swapped tuple."
   ]
  },
  {
   "cell_type": "markdown",
   "metadata": {
    "id": "rihKk1jR-p5e"
   },
   "source": [
    "### 44. Reverse the elements of a tuple."
   ]
  },
  {
   "cell_type": "code",
   "execution_count": 149,
   "metadata": {
    "colab": {
     "base_uri": "https://localhost:8080/"
    },
    "id": "GLjlZw0T9tnx",
    "outputId": "00266414-0565-459d-8021-df3b7da2ad80"
   },
   "outputs": [
    {
     "name": "stdout",
     "output_type": "stream",
     "text": [
      "Reversed tuple: (5, 4, 3, 2, 1)\n"
     ]
    }
   ],
   "source": [
    "# Create a tuple\n",
    "my_tuple = (1, 2, 3, 4, 5)\n",
    "\n",
    "# Reverse the elements using slicing\n",
    "reversed_tuple = my_tuple[::-1]\n",
    "\n",
    "# Print the reversed tuple\n",
    "print(\"Reversed tuple:\", reversed_tuple)"
   ]
  },
  {
   "cell_type": "markdown",
   "metadata": {
    "id": "j52HDoT19tV0"
   },
   "source": [
    "- We start by creating a tuple named my_tuple with some elements.\n",
    "- We use slicing with the notation my_tuple[::-1] to create a new tuple with the elements in reverse order.\n",
    "- The -1 step in the slice indicates that we're stepping backwards through the tuple.\n",
    "- We print the resulting reversed tuple."
   ]
  },
  {
   "cell_type": "markdown",
   "metadata": {
    "id": "5CS0c5DB-p2E"
   },
   "source": [
    "### 45. Create a tuple of the first `n` powers of 2."
   ]
  },
  {
   "cell_type": "code",
   "execution_count": 150,
   "metadata": {
    "colab": {
     "base_uri": "https://localhost:8080/"
    },
    "id": "VF-6y5Es-BWy",
    "outputId": "470bfaa8-c313-4491-9e5d-e1293ce9348d"
   },
   "outputs": [
    {
     "name": "stdout",
     "output_type": "stream",
     "text": [
      "Tuple of the first 5 powers of 2: (1, 2, 4, 8, 16)\n"
     ]
    }
   ],
   "source": [
    "# Define the value of n\n",
    "n = 5\n",
    "\n",
    "# Create a tuple of the first n powers of 2 using a list comprehension\n",
    "powers_of_2_tuple = tuple(2 ** i for i in range(n))\n",
    "\n",
    "# Print the tuple of powers of 2\n",
    "print(\"Tuple of the first\", n, \"powers of 2:\", powers_of_2_tuple)"
   ]
  },
  {
   "cell_type": "markdown",
   "metadata": {
    "id": "Qo2sbaP6-A7w"
   },
   "source": [
    "- We define the value of n to determine how many powers of 2 you want to generate.\n",
    "- We use a list comprehension to calculate the powers of 2 using the expression 2 ** i where i varies from 0 to n-1.\n",
    "- We convert the resulting list of powers of 2 to a tuple using the tuple() constructor.\n",
    "- We print the resulting tuple of powers of 2."
   ]
  },
  {
   "cell_type": "markdown",
   "metadata": {
    "id": "z5AJecfk-pyj"
   },
   "source": [
    "### 46. Find the longest string in a tuple of strings."
   ]
  },
  {
   "cell_type": "code",
   "execution_count": 151,
   "metadata": {
    "colab": {
     "base_uri": "https://localhost:8080/"
    },
    "id": "KJhQzMDG-Y0O",
    "outputId": "84217ebe-8e3d-42d2-f1de-7f0448bcd18c"
   },
   "outputs": [
    {
     "name": "stdout",
     "output_type": "stream",
     "text": [
      "Longest string: watermelon\n"
     ]
    }
   ],
   "source": [
    "# Create a tuple of strings\n",
    "string_tuple = (\"apple\", \"banana\", \"grape\", \"kiwi\", \"watermelon\")\n",
    "\n",
    "# Find the longest string in the tuple\n",
    "longest_string = max(string_tuple, key=len)\n",
    "\n",
    "# Print the longest string\n",
    "print(\"Longest string:\", longest_string)"
   ]
  },
  {
   "cell_type": "markdown",
   "metadata": {
    "id": "tHT55lwp-aS9"
   },
   "source": [
    "- We start by creating a tuple named string_tuple containing some string elements.\n",
    "- We use the max() function with the key parameter set to len to find the longest string in the tuple based on the length of each string.\n",
    "- The key=len argument tells max() to compare the strings based on their lengths.\n",
    "- We print the resulting longest string"
   ]
  },
  {
   "cell_type": "markdown",
   "metadata": {
    "id": "VNRfd3cO-pu_"
   },
   "source": [
    "### 47. Find the shortest string in a tuple of strings."
   ]
  },
  {
   "cell_type": "code",
   "execution_count": 152,
   "metadata": {
    "colab": {
     "base_uri": "https://localhost:8080/"
    },
    "id": "LN5WYQML-zCd",
    "outputId": "66a4302a-2842-4722-af44-8158ced93020"
   },
   "outputs": [
    {
     "name": "stdout",
     "output_type": "stream",
     "text": [
      "Shortest string: kiwi\n"
     ]
    }
   ],
   "source": [
    "# Create a tuple of strings\n",
    "string_tuple = (\"apple\", \"banana\", \"grape\", \"kiwi\", \"watermelon\")\n",
    "\n",
    "# Find the shortest string in the tuple\n",
    "shortest_string = min(string_tuple, key=len)\n",
    "\n",
    "# Print the shortest string\n",
    "print(\"Shortest string:\", shortest_string)"
   ]
  },
  {
   "cell_type": "markdown",
   "metadata": {
    "id": "yFeM5jLv-zhW"
   },
   "source": [
    "- We start by creating a tuple named string_tuple containing some string elements.\n",
    "- We use the min() function with the key parameter set to len to find the shortest string in the tuple based on the length of each string.\n",
    "- The key=len argument tells min() to compare the strings based on their lengths.\n",
    "- We print the resulting shortest string."
   ]
  },
  {
   "cell_type": "markdown",
   "metadata": {
    "id": "Xj9iIlkK-prR"
   },
   "source": [
    "### 48. Create a tuple of the first `n` triangular numbers."
   ]
  },
  {
   "cell_type": "code",
   "execution_count": 153,
   "metadata": {
    "colab": {
     "base_uri": "https://localhost:8080/"
    },
    "id": "Fjs9tenZ_mY3",
    "outputId": "e4c1aed2-07d5-4f28-9b93-2d9bf4e7acec"
   },
   "outputs": [
    {
     "name": "stdout",
     "output_type": "stream",
     "text": [
      "Tuple of the first 5 triangular numbers: (1, 3, 6, 10, 15)\n"
     ]
    }
   ],
   "source": [
    "# Define the value of n\n",
    "n = 5\n",
    "\n",
    "# Create a tuple of the first n triangular numbers using a list comprehension\n",
    "triangular_numbers_tuple = tuple((i * (i + 1)) // 2 for i in range(1, n + 1))\n",
    "\n",
    "# Print the tuple of triangular numbers\n",
    "print(\"Tuple of the first\", n, \"triangular numbers:\", triangular_numbers_tuple)"
   ]
  },
  {
   "cell_type": "markdown",
   "metadata": {
    "id": "MSkYeaMO_mDl"
   },
   "source": [
    "- We define the value of n to determine how many triangular numbers you want to generate.\n",
    "- We use a list comprehension to calculate the triangular numbers using the expression (i * (i + 1)) // 2 where i varies from 1 to n.\n",
    "- We convert the resulting list of triangular numbers to a tuple using the tuple() constructor.\n",
    "- We print the resulting tuple of triangular numbers."
   ]
  },
  {
   "cell_type": "markdown",
   "metadata": {
    "id": "-hT62MMO-pko"
   },
   "source": [
    "### 49. Check if a tuple contains another tuple as a subsequence."
   ]
  },
  {
   "cell_type": "code",
   "execution_count": 154,
   "metadata": {
    "colab": {
     "base_uri": "https://localhost:8080/"
    },
    "id": "Q0sFzkTW_tgc",
    "outputId": "7b2f9971-db85-40db-c4d2-262f946d4135"
   },
   "outputs": [
    {
     "name": "stdout",
     "output_type": "stream",
     "text": [
      "Main tuple contains subsequence tuple: True\n"
     ]
    }
   ],
   "source": [
    "# Function to check if a tuple contains another tuple as a subsequence\n",
    "def contains_subsequence(main_tuple, sub_tuple):\n",
    "    sub_length = len(sub_tuple)\n",
    "    for i in range(len(main_tuple) - sub_length + 1):\n",
    "        if main_tuple[i:i+sub_length] == sub_tuple:\n",
    "            return True\n",
    "    return False\n",
    "\n",
    "# Main tuple\n",
    "main_tuple = (1, 2, 3, 4, 5, 6, 7, 8, 9)\n",
    "\n",
    "# Subsequence tuple\n",
    "sub_tuple = (3, 4, 5)\n",
    "\n",
    "# Check if the main tuple contains the subsequence tuple\n",
    "contains_subseq = contains_subsequence(main_tuple, sub_tuple)\n",
    "\n",
    "# Print the result\n",
    "print(\"Main tuple contains subsequence tuple:\", contains_subseq)"
   ]
  },
  {
   "cell_type": "markdown",
   "metadata": {
    "id": "psUykL_V_tP5"
   },
   "source": [
    "- We define a function contains_subsequence(main_tuple, sub_tuple) that takes two tuples as input and returns True if the main_tuple contains the sub_tuple as a subsequence, and False otherwise.\n",
    "- Inside the function, we calculate the length of the sub_tuple.\n",
    "- We iterate through the main_tuple using a loop that runs until the end of the main tuple minus the length of the subtuple. This is because there's no need to compare subsequences if there isn't enough space left in the main tuple.\n",
    "- Within the loop, we check if the slice of the main_tuple from index i to i + sub_length is equal to the sub_tuple. If it is, then the main_tuple contains the sub_tuple as a subsequence.\n",
    "- We return True if the subsequence is found, and if the loop completes without finding the subsequence, we return False.\n",
    "- We create the main tuple and subsequence tuple for testing.\n",
    "- We call the contains_subsequence() function and store the result in the contains_subseq variable.\n",
    "- We print the result."
   ]
  },
  {
   "cell_type": "markdown",
   "metadata": {
    "id": "FRkzPck9-phJ"
   },
   "source": [
    "### 50. Create a tuple of alternating 1s and 0s of length `n`."
   ]
  },
  {
   "cell_type": "code",
   "execution_count": 155,
   "metadata": {
    "colab": {
     "base_uri": "https://localhost:8080/"
    },
    "id": "N3PQL1u4_-Oq",
    "outputId": "84c475a5-43ce-4e32-a642-3701e8b3a705"
   },
   "outputs": [
    {
     "name": "stdout",
     "output_type": "stream",
     "text": [
      "Tuple of alternating 1s and 0s: (0, 1, 0, 1, 0, 1, 0, 1, 0, 1)\n"
     ]
    }
   ],
   "source": [
    "# Define the value of n\n",
    "n = 10\n",
    "\n",
    "# Create a tuple of alternating 1s and 0s using a list comprehension\n",
    "alternating_tuple = tuple(i % 2 for i in range(n))\n",
    "\n",
    "# Print the tuple of alternating 1s and 0s\n",
    "print(\"Tuple of alternating 1s and 0s:\", alternating_tuple)"
   ]
  },
  {
   "cell_type": "markdown",
   "metadata": {
    "id": "U6CNiGbV-pdm"
   },
   "source": [
    "- We define the value of n to determine the length of the tuple you want to generate.\n",
    "- We use a list comprehension to generate the alternating 1s and 0s pattern using the expression i % 2, which produces 0 for even i values and 1 for odd i values.\n",
    "- We convert the resulting list of alternating 1s and 0s to a tuple using the tuple() constructor.\n",
    "- We print the resulting tuple of alternating 1s and 0s."
   ]
  },
  {
   "cell_type": "markdown",
   "metadata": {
    "id": "6gw6w0TOYqQq"
   },
   "source": [
    "## **Set based problems:**\n",
    "\n",
    "---\n"
   ]
  },
  {
   "cell_type": "markdown",
   "metadata": {
    "id": "vsxhD59xYqF8"
   },
   "source": [
    "### 1. Create a set with integers from 1 to 5"
   ]
  },
  {
   "cell_type": "code",
   "execution_count": 156,
   "metadata": {
    "colab": {
     "base_uri": "https://localhost:8080/"
    },
    "id": "A3mCGLnbYjNU",
    "outputId": "653f88c3-e85a-4436-b3ce-086924c99b2e"
   },
   "outputs": [
    {
     "name": "stdout",
     "output_type": "stream",
     "text": [
      "{1, 2, 3, 4, 5}\n"
     ]
    }
   ],
   "source": [
    "# Step 1: Create an empty set\n",
    "my_set = set()\n",
    "\n",
    "# Step 2: Add integers from 1 to 5 to the set\n",
    "my_set.add(1)\n",
    "my_set.add(2)\n",
    "my_set.add(3)\n",
    "my_set.add(4)\n",
    "my_set.add(5)\n",
    "\n",
    "# Step 3: Print the final set\n",
    "print(my_set)## Set based problems:"
   ]
  },
  {
   "cell_type": "markdown",
   "metadata": {
    "id": "gSEFLIM_Yvm1"
   },
   "source": [
    "- my_set = set(): In this step, an empty set is created using the set() constructor. This sets up the initial container for our set of integers.\n",
    "\n",
    "- my_set.add(1), my_set.add(2), ...: Here, each add() method is used to add individual integers from 1 to 5 to the set. Since sets automatically handle uniqueness, duplicates are automatically avoided.\n",
    "\n",
    "- print(my_set): Finally, the contents of the set are printed. The output will be the set of integers from 1 to 5 in an arbitrary order, due to sets being unordered collections."
   ]
  },
  {
   "cell_type": "markdown",
   "metadata": {
    "id": "6CH5EoysY3YU"
   },
   "source": [
    "### 2. Add an element to a set"
   ]
  },
  {
   "cell_type": "code",
   "execution_count": 157,
   "metadata": {
    "colab": {
     "base_uri": "https://localhost:8080/"
    },
    "id": "wjEVlGIHYjJ5",
    "outputId": "1a989c97-a66b-42f3-de66-4a3d9dee2167"
   },
   "outputs": [
    {
     "name": "stdout",
     "output_type": "stream",
     "text": [
      "Original set: {1, 2, 3, 4, 5}\n",
      "Set after adding element: {1, 2, 3, 4, 5, 6}\n"
     ]
    }
   ],
   "source": [
    "# Step 1: Create a set\n",
    "my_set = {1, 2, 3, 4, 5}\n",
    "\n",
    "# Step 2: Display the original set\n",
    "print(\"Original set:\", my_set)\n",
    "\n",
    "# Step 3: Add an element to the set\n",
    "element_to_add = 6\n",
    "my_set.add(element_to_add)\n",
    "\n",
    "# Step 4: Display the modified set\n",
    "print(\"Set after adding element:\", my_set)"
   ]
  },
  {
   "cell_type": "markdown",
   "metadata": {
    "id": "p0aJVCXoY5fu"
   },
   "source": [
    "- Create a set: We start by creating a set called my_set containing integers from 1 to 5 using curly braces {}.\n",
    "\n",
    "- Display the original set: We print the original set using the print() function. This step is just to show the initial contents of the set.\n",
    "\n",
    "- Add an element to the set: We define a variable element_to_add and set its value to the integer 6. Then, we use the add() method of the set (my_set) to add the element_to_add to the set.\n",
    "\n",
    "- Display the modified set: After adding the element, we print the modified set using the print() function to show that the new element (6) has been added."
   ]
  },
  {
   "cell_type": "markdown",
   "metadata": {
    "id": "v1zErTc3Y4Zd"
   },
   "source": [
    "### 3. Remove an element from a set.\n"
   ]
  },
  {
   "cell_type": "code",
   "execution_count": 158,
   "metadata": {
    "colab": {
     "base_uri": "https://localhost:8080/"
    },
    "id": "C59TRXqkYxDS",
    "outputId": "421c688f-46d2-4128-ee63-53029bbc1faf"
   },
   "outputs": [
    {
     "name": "stdout",
     "output_type": "stream",
     "text": [
      "Original Set: {1, 2, 3, 4, 5}\n",
      "Set after removing 3 : {1, 2, 4, 5}\n"
     ]
    }
   ],
   "source": [
    "# Step 1: Create a set with some elements\n",
    "my_set = {1, 2, 3, 4, 5}\n",
    "\n",
    "# Step 2: Print the original set\n",
    "print(\"Original Set:\", my_set)\n",
    "\n",
    "# Step 3: Choose an element to remove\n",
    "element_to_remove = 3\n",
    "\n",
    "# Step 4: Use the remove() method to remove the chosen element\n",
    "# Note: If the element is not present in the set, remove() raises a KeyError.\n",
    "my_set.remove(element_to_remove)\n",
    "\n",
    "# Step 5: Print the modified set after removal\n",
    "print(\"Set after removing\", element_to_remove, \":\", my_set)"
   ]
  },
  {
   "cell_type": "markdown",
   "metadata": {
    "id": "cIPRpDznY7SZ"
   },
   "source": [
    "- We start by creating a set my_set with elements 1, 2, 3, 4, and 5.\n",
    "- We print the original set using print(\"Original Set:\", my_set).\n",
    "- We choose an element to remove. In this example, we're removing the element 3.\n",
    "- We use the remove() method on the set to remove the chosen element. In this case, my_set.remove(3) will remove the element 3 from the set.\n",
    "- If the element is not present in the set, this line of code would raise a KeyError. This is something to keep in mind when using the remove() method.\n",
    "- Finally, we print the modified set after the removal using print(\"Set after removing\", element_to_remove, \":\", my_set)."
   ]
  },
  {
   "cell_type": "markdown",
   "metadata": {
    "id": "EjGpcHWxY6pm"
   },
   "source": [
    "### 4. Check if an element exists in a set.\n"
   ]
  },
  {
   "cell_type": "code",
   "execution_count": 159,
   "metadata": {
    "colab": {
     "base_uri": "https://localhost:8080/"
    },
    "id": "CADHZWXTYjHB",
    "outputId": "0d229900-2e80-439f-abe6-c1977806eb93"
   },
   "outputs": [
    {
     "name": "stdin",
     "output_type": "stream",
     "text": [
      "Enter the element to check:  5\n"
     ]
    },
    {
     "name": "stdout",
     "output_type": "stream",
     "text": [
      "5 exists in the set.\n"
     ]
    }
   ],
   "source": [
    "# Step 1: Create a set with some elements\n",
    "my_set = {1, 3, 5, 7, 9}\n",
    "\n",
    "# Step 2: Ask the user for the element they want to check\n",
    "element_to_check = int(input(\"Enter the element to check: \"))\n",
    "\n",
    "# Step 3: Use the \"in\" keyword to check if the element exists in the set\n",
    "if element_to_check in my_set:\n",
    "    # Step 4: If the element exists in the set, print a message\n",
    "    print(f\"{element_to_check} exists in the set.\")\n",
    "else:\n",
    "    # Step 5: If the element does not exist in the set, print a message\n",
    "    print(f\"{element_to_check} does not exist in the set.\")"
   ]
  },
  {
   "cell_type": "markdown",
   "metadata": {
    "id": "DMMQN78UY9VI"
   },
   "source": [
    "- We start by creating a set called my_set with some sample elements (in this case, {1, 3, 5, 7, 9}).\n",
    "\n",
    "- We ask the user to input the element they want to check by using the input() function. The input is read as a string, so we convert it to an integer using int().\n",
    "\n",
    "- We use the in keyword to check if the entered element_to_check exists in the my_set.\n",
    "\n",
    "- If the element exists in the set, the code inside the if block is executed. We use string formatting (f\"...\") to print a message indicating that the element exists in the set.\n",
    "\n",
    "- If the element does not exist in the set, the code inside the else block is executed. We again use string formatting to print a message indicating that the element does not exist in the set."
   ]
  },
  {
   "cell_type": "markdown",
   "metadata": {
    "id": "ACEGPlB6Y824"
   },
   "source": [
    "### 5. Find the length of a set without using the `len()` function"
   ]
  },
  {
   "cell_type": "code",
   "execution_count": 168,
   "metadata": {
    "colab": {
     "base_uri": "https://localhost:8080/"
    },
    "id": "-5EkSWVyYjEN",
    "outputId": "521afba7-5a93-4c8c-f737-9024a808279b"
   },
   "outputs": [
    {
     "name": "stdout",
     "output_type": "stream",
     "text": [
      "Length of the set: 5\n"
     ]
    }
   ],
   "source": [
    "# Create a set with some elements\n",
    "my_set = {1, 2, 3, 4, 5}\n",
    "\n",
    "# Initialize a variable to count the elements in the set\n",
    "count = 0\n",
    "\n",
    "# Iterate through each element in the set\n",
    "for _ in my_set:\n",
    "    # Increase the count by 1 for each element\n",
    "    count += 1\n",
    "\n",
    "# Print the count, which is the length of the set\n",
    "print(\"Length of the set:\", count)"
   ]
  },
  {
   "cell_type": "markdown",
   "metadata": {
    "id": "zdJnaMoTY_M0"
   },
   "source": [
    "- We start by creating a set called my_set containing some elements.\n",
    "- Next, we initialize a variable count to keep track of the number of elements in the set. This variable will act as our manual counter for the length.\n",
    "- We use a for loop to iterate through each element in the my_set. The underscore _ is a common convention to represent a variable whose value isn't going to be used within the loop. Since we're interested in the count, we don't need the individual elements themselves.\n",
    "- Inside the loop, for each iteration, we increase the count variable by 1. This simulates counting the elements as we iterate through them.\n",
    "- Once the loop finishes iterating through all the elements, we have the total count stored in the count variable.\n",
    "- Finally, we print the value of count, which represents the length of the set."
   ]
  },
  {
   "cell_type": "markdown",
   "metadata": {
    "id": "fCqHa_p4Y-pW"
   },
   "source": [
    "### 6. Clear all elements from a set."
   ]
  },
  {
   "cell_type": "code",
   "execution_count": 169,
   "metadata": {
    "colab": {
     "base_uri": "https://localhost:8080/"
    },
    "id": "yNDEcdrjYyEe",
    "outputId": "3085dca4-dd07-49c9-e678-64ba8c884e06"
   },
   "outputs": [
    {
     "name": "stdout",
     "output_type": "stream",
     "text": [
      "Original set: {1, 2, 3, 4, 5}\n",
      "Set after clearing: set()\n"
     ]
    }
   ],
   "source": [
    "# Step 1: Create a set with some elements\n",
    "my_set = {1, 2, 3, 4, 5}\n",
    "\n",
    "# Step 2: Display the original set\n",
    "print(\"Original set:\", my_set)\n",
    "\n",
    "# Step 3: Clear all elements from the set using the clear() method\n",
    "my_set.clear()\n",
    "\n",
    "# Step 4: Display the set after clearing\n",
    "print(\"Set after clearing:\", my_set)\n"
   ]
  },
  {
   "cell_type": "markdown",
   "metadata": {
    "id": "rWjQRhvrZBlJ"
   },
   "source": [
    "- We create a set named my_set containing the integers from 1 to 5 using the curly braces {}.\n",
    "- We use the print() function to display the contents of the original set my_set.\n",
    "- We call the clear() method on the my_set set. This method removes all elements from the set, effectively emptying it.\n",
    "- We again use the print() function to display the contents of the set after it has been cleared. Since all elements have been removed, the set will be empty, and this will be reflected in the output."
   ]
  },
  {
   "cell_type": "markdown",
   "metadata": {
    "id": "dWsAh2vHZArU"
   },
   "source": [
    "### 7. Create a set of even numbers from 1 to 10"
   ]
  },
  {
   "cell_type": "code",
   "execution_count": 170,
   "metadata": {
    "colab": {
     "base_uri": "https://localhost:8080/"
    },
    "id": "e0QIGW4vYjBL",
    "outputId": "e92c6d61-9716-497f-cdb0-b3ab1eb81c87"
   },
   "outputs": [
    {
     "name": "stdout",
     "output_type": "stream",
     "text": [
      "{2, 4, 6, 8, 10}\n"
     ]
    }
   ],
   "source": [
    "# Step 1: Initialize an empty set\n",
    "even_numbers_set = set()\n",
    "\n",
    "# Step 2: Iterate through numbers from 1 to 10\n",
    "for num in range(1, 11):\n",
    "    # Step 3: Check if the number is even\n",
    "    if num % 2 == 0:\n",
    "        # Step 4: Add the even number to the set\n",
    "        even_numbers_set.add(num)\n",
    "\n",
    "# Step 5: Print the set of even numbers\n",
    "print(even_numbers_set)"
   ]
  },
  {
   "cell_type": "markdown",
   "metadata": {
    "id": "CrTFLVwFZDaM"
   },
   "source": [
    "- We start by initializing an empty set called even_numbers_set to store the even numbers.\n",
    "- We use a for loop to iterate through numbers from 1 to 10 (inclusive).\n",
    "- Inside the loop, we use the modulo operator % to check if the current number num is even. If the remainder of num divided by 2 is 0, then it's even.\n",
    "- If the number is even, we add it to the even_numbers_set using the add() method.\n",
    "- Finally, we print the set of even numbers."
   ]
  },
  {
   "cell_type": "markdown",
   "metadata": {
    "id": "JhHxULmlZC-D"
   },
   "source": [
    "### 8. Create a set of odd numbers from 1 to 10"
   ]
  },
  {
   "cell_type": "code",
   "execution_count": 171,
   "metadata": {
    "colab": {
     "base_uri": "https://localhost:8080/"
    },
    "id": "JlNsb7eDYy6I",
    "outputId": "506d26b6-0e67-4acb-d123-c9c2d7973241"
   },
   "outputs": [
    {
     "name": "stdout",
     "output_type": "stream",
     "text": [
      "{1, 3, 5, 7, 9}\n"
     ]
    }
   ],
   "source": [
    "# Step 1: Initialize an empty set to store odd numbers.\n",
    "odd_numbers_set = set()\n",
    "\n",
    "# Step 2: Iterate through numbers from 1 to 10.\n",
    "for num in range(1, 11):\n",
    "    # Step 3: Check if the current number is odd.\n",
    "    if num % 2 != 0:\n",
    "        # Step 4: If the number is odd, add it to the set.\n",
    "        odd_numbers_set.add(num)\n",
    "\n",
    "# Step 5: Print the final set of odd numbers.\n",
    "print(odd_numbers_set)"
   ]
  },
  {
   "cell_type": "markdown",
   "metadata": {
    "id": "GpwJAWacZFfu"
   },
   "source": [
    "- We start by initializing an empty set called odd_numbers_set using the set() constructor.\n",
    "- We use a for loop to iterate through numbers from 1 to 10 using the range() function. The loop variable num takes values from 1 to 10.\n",
    "- Within the loop, we use the modulo operator % to check if the current number (num) is odd. If the remainder of dividing num by 2 is not equal to 0, then the number is odd.\n",
    "- If the current number is odd (as determined in the previous step), we use the add() method to add that number to the odd_numbers_set.\n",
    "- Finally, after the loop completes, we print the odd_numbers_set, which contains the odd numbers from 1 to 10."
   ]
  },
  {
   "cell_type": "markdown",
   "metadata": {
    "id": "bm27U_-oZFBw"
   },
   "source": [
    "### 9. Find the union of two sets"
   ]
  },
  {
   "cell_type": "code",
   "execution_count": 172,
   "metadata": {
    "colab": {
     "base_uri": "https://localhost:8080/"
    },
    "id": "jQMHjyfuYi-T",
    "outputId": "072fd106-1ab5-499b-ae20-0240ca3bfd11"
   },
   "outputs": [
    {
     "name": "stdout",
     "output_type": "stream",
     "text": [
      "Set 1: {1, 2, 3, 4, 5}\n",
      "Set 2: {4, 5, 6, 7, 8}\n",
      "Union of Set 1 and Set 2: {1, 2, 3, 4, 5, 6, 7, 8}\n"
     ]
    }
   ],
   "source": [
    "# Define two sets\n",
    "set1 = {1, 2, 3, 4, 5}\n",
    "set2 = {4, 5, 6, 7, 8}\n",
    "\n",
    "# Find the union of the two sets using the `union()` method\n",
    "union_result = set1.union(set2)\n",
    "\n",
    "# Print the original sets and their union\n",
    "print(\"Set 1:\", set1)\n",
    "print(\"Set 2:\", set2)\n",
    "print(\"Union of Set 1 and Set 2:\", union_result)"
   ]
  },
  {
   "cell_type": "markdown",
   "metadata": {
    "id": "vWJBu0oqZHSh"
   },
   "source": [
    "- We start by defining two sets, set1 and set2, each containing distinct elements.\n",
    "- We use the .union() method to find the union of the two sets. This method returns a new set containing all the unique elements present in either of the sets.\n",
    "- The result of the union operation is stored in the union_result variable.\n",
    "- We print out the original sets using print() statements.\n",
    "- We also print out the result of the union using the union_result variable."
   ]
  },
  {
   "cell_type": "markdown",
   "metadata": {
    "id": "zdXrlrkMZG3Q"
   },
   "source": [
    "### 10. Find the intersection of two sets"
   ]
  },
  {
   "cell_type": "code",
   "execution_count": 173,
   "metadata": {
    "colab": {
     "base_uri": "https://localhost:8080/"
    },
    "id": "2O1bwW6_Yi7h",
    "outputId": "bad8a1c6-999e-41a9-ae96-dcbf9ca084fe"
   },
   "outputs": [
    {
     "name": "stdout",
     "output_type": "stream",
     "text": [
      "Set 1: {1, 2, 3, 4, 5}\n",
      "Set 2: {3, 4, 5, 6, 7}\n",
      "Intersection: {3, 4, 5}\n"
     ]
    }
   ],
   "source": [
    "# Create two sets\n",
    "set1 = {1, 2, 3, 4, 5}\n",
    "set2 = {3, 4, 5, 6, 7}\n",
    "\n",
    "# Find the intersection using the intersection() method\n",
    "intersection_result = set1.intersection(set2)\n",
    "\n",
    "# Print the original sets and the intersection\n",
    "print(\"Set 1:\", set1)\n",
    "print(\"Set 2:\", set2)\n",
    "print(\"Intersection:\", intersection_result)"
   ]
  },
  {
   "cell_type": "markdown",
   "metadata": {
    "id": "C8fqg_2UZI0r"
   },
   "source": [
    "- We start by creating two sets set1 and set2. These sets contain distinct elements.\n",
    "\n",
    "- We use the intersection() method on the set1 set and provide set2 as an argument. This method returns a new set containing the common elements between the two sets.\n",
    "\n",
    "- We store the result of the intersection operation in the intersection_result variable.\n",
    "\n",
    "- Finally, we use the print() function to display the original sets (set1 and set2) along with the computed intersection (intersection_result)."
   ]
  },
  {
   "cell_type": "markdown",
   "metadata": {
    "id": "TRcsWObIZIbw"
   },
   "source": [
    "### 11. Find the difference between two sets."
   ]
  },
  {
   "cell_type": "code",
   "execution_count": 174,
   "metadata": {
    "colab": {
     "base_uri": "https://localhost:8080/"
    },
    "id": "rkYzuHn3Yi4h",
    "outputId": "a3a32d2a-6e00-48a5-9a76-9abacd6695b2"
   },
   "outputs": [
    {
     "name": "stdout",
     "output_type": "stream",
     "text": [
      "Set 1: {1, 2, 3, 4, 5}\n",
      "Set 2: {3, 4, 5, 6, 7}\n",
      "Difference: {1, 2}\n"
     ]
    }
   ],
   "source": [
    "# Create two sets\n",
    "set1 = {1, 2, 3, 4, 5}\n",
    "set2 = {3, 4, 5, 6, 7}\n",
    "\n",
    "# Find the difference between the sets using the difference() method\n",
    "difference_set = set1.difference(set2)\n",
    "\n",
    "# Print the original sets and the difference set\n",
    "print(\"Set 1:\", set1)\n",
    "print(\"Set 2:\", set2)\n",
    "print(\"Difference:\", difference_set)"
   ]
  },
  {
   "cell_type": "markdown",
   "metadata": {
    "id": "b0YHAPEoZ7X9"
   },
   "source": [
    "- We start by creating two sets: set1 and set2. These sets contain some integers.\n",
    "- We use the .difference() method to find the difference between set1 and set2. - The difference between two sets contains all the elements that are present in the first set but not in the second set.\n",
    "- We assign the result of the difference operation to the variable difference_set.\n",
    "- We use the print() function to display the original sets (set1 and set2) and the calculated difference set (difference_set)."
   ]
  },
  {
   "cell_type": "markdown",
   "metadata": {
    "id": "xhO7bVQvZ7KL"
   },
   "source": [
    "### 12. Check if a set is a subset of another set."
   ]
  },
  {
   "cell_type": "code",
   "execution_count": 175,
   "metadata": {
    "colab": {
     "base_uri": "https://localhost:8080/"
    },
    "id": "u79tpzFTYi1j",
    "outputId": "fa10f4f8-f30c-4eba-c2f7-55fd3e1e9c26"
   },
   "outputs": [
    {
     "name": "stdout",
     "output_type": "stream",
     "text": [
      "Is set1 a subset of set2: True\n"
     ]
    }
   ],
   "source": [
    "# Define the two sets\n",
    "set1 = {1, 2, 3}\n",
    "set2 = {1, 2, 3, 4, 5}\n",
    "\n",
    "# Use the \"issubset()\" method to check if set1 is a subset of set2\n",
    "is_subset = set1.issubset(set2)\n",
    "\n",
    "# Print the result\n",
    "print(\"Is set1 a subset of set2:\", is_subset)"
   ]
  },
  {
   "cell_type": "markdown",
   "metadata": {
    "id": "lqMIxMR4Z-Ly"
   },
   "source": [
    "- We start by defining two sets, set1 and set2, using the curly braces {} notation.\n",
    "- The issubset() method is used to check if set1 is a subset of set2. This method returns True if all the elements of set1 are present in set2, otherwise, it returns False.\n",
    "- We store the result of the subset check in the variable is_subset.\n",
    "- Finally, we use the print() function to display whether set1 is a subset of set2. The value of is_subset will be either True or False."
   ]
  },
  {
   "cell_type": "markdown",
   "metadata": {
    "id": "BuMGQuBXZ95S"
   },
   "source": [
    "### 13. Check if a set is a superset of another set."
   ]
  },
  {
   "cell_type": "code",
   "execution_count": 176,
   "metadata": {
    "colab": {
     "base_uri": "https://localhost:8080/"
    },
    "id": "9pMjOPQnYiyi",
    "outputId": "52cca78b-2715-4ffe-8fa8-2c179b46b20a"
   },
   "outputs": [
    {
     "name": "stdout",
     "output_type": "stream",
     "text": [
      "set1 is a superset of set2\n"
     ]
    }
   ],
   "source": [
    "# Create two sets\n",
    "set1 = {1, 2, 3, 4, 5, 6}\n",
    "set2 = {3, 4}\n",
    "\n",
    "# Check if set1 is a superset of set2\n",
    "is_superset = set1.issuperset(set2)\n",
    "\n",
    "# Print the result\n",
    "if is_superset:\n",
    "    print(\"set1 is a superset of set2\")\n",
    "else:\n",
    "    print(\"set1 is not a superset of set2\")"
   ]
  },
  {
   "cell_type": "markdown",
   "metadata": {
    "id": "RciQ9vdRZ_ZB"
   },
   "source": [
    "- We start by creating two sets:\n",
    "  - set1 contains the elements {1, 2, 3, 4, 5, 6}.\n",
    "  - set2 contains the elements {3, 4}.\n",
    "- The issuperset() method is used to check if set1 is a superset of set2. This method returns True if every element in set2 is also present in set1, and False otherwise.\n",
    "- We store the result of the issuperset() method in the variable is_superset.\n",
    "- Next, we use an if statement to check the value of is_superset. If it's True, we print that \"set1 is a superset of set2\". If it's False, we print that \"set1 is not a superset of set2\"."
   ]
  },
  {
   "cell_type": "markdown",
   "metadata": {
    "id": "sfSbUGqyZ_OI"
   },
   "source": [
    "### 14. Create a set from a list"
   ]
  },
  {
   "cell_type": "code",
   "execution_count": 177,
   "metadata": {
    "colab": {
     "base_uri": "https://localhost:8080/"
    },
    "id": "onE1v56iYivZ",
    "outputId": "bfab6ab5-d400-4e97-dd57-7be2d07e16d2"
   },
   "outputs": [
    {
     "name": "stdout",
     "output_type": "stream",
     "text": [
      "Original List: [2, 4, 1, 4, 3, 2, 5]\n",
      "Set from List: {1, 2, 3, 4, 5}\n"
     ]
    }
   ],
   "source": [
    "# Step 1: Create a list of elements\n",
    "my_list = [2, 4, 1, 4, 3, 2, 5]\n",
    "\n",
    "# Step 2: Use the set() constructor to convert the list into a set\n",
    "# This automatically removes duplicates and creates a set with unique elements\n",
    "my_set = set(my_list)\n",
    "\n",
    "# Step 3: Print the original list and the resulting set\n",
    "print(\"Original List:\", my_list)\n",
    "print(\"Set from List:\", my_set)"
   ]
  },
  {
   "cell_type": "markdown",
   "metadata": {
    "id": "A5e6cLIqaAfG"
   },
   "source": [
    "- We start by creating a list called my_list containing some elements, including duplicates.\n",
    "- The set() constructor is used to convert the my_list into a set. This automatically removes duplicate elements, creating a set with only unique elements. The resulting set is stored in the variable my_set.\n",
    "- Finally, we print both the original list and the set obtained from the list using print() statements."
   ]
  },
  {
   "cell_type": "markdown",
   "metadata": {
    "id": "AmIA-39UaARj"
   },
   "source": [
    "### 15. Convert a set to a list."
   ]
  },
  {
   "cell_type": "code",
   "execution_count": 178,
   "metadata": {
    "colab": {
     "base_uri": "https://localhost:8080/"
    },
    "id": "BHrxOb9yYisV",
    "outputId": "97198eb8-4653-4464-9b03-6d5875acfe79"
   },
   "outputs": [
    {
     "name": "stdout",
     "output_type": "stream",
     "text": [
      "Original Set: {1, 2, 3, 4, 5, 6, 9}\n",
      "Converted List: [1, 2, 3, 4, 5, 6, 9]\n"
     ]
    }
   ],
   "source": [
    "# Step 1: Create a set with some elements\n",
    "my_set = {3, 1, 4, 1, 5, 9, 2, 6, 5}\n",
    "\n",
    "# Step 2: Convert the set to a list using the list() function\n",
    "my_list = list(my_set)\n",
    "\n",
    "# Now, my_list contains the elements from my_set in list format\n",
    "\n",
    "# Step 3: Print the original set and the converted list\n",
    "print(\"Original Set:\", my_set)\n",
    "print(\"Converted List:\", my_list)"
   ]
  },
  {
   "cell_type": "markdown",
   "metadata": {
    "id": "97OhgiMGaBhR"
   },
   "source": [
    "- We start by creating a set called my_set containing several elements, including duplicates. Sets automatically remove duplicates, so even though we have duplicates in the set definition, the resulting set will only contain unique elements.\n",
    "- To convert the set to a list, we use the list() function. This function takes an iterable (like a set) as its argument and returns a new list containing the same elements in the same order.\n",
    "- Finally, we print both the original set and the converted list using the print() function. You'll notice that the elements in the list are in the same order as they were in the set, but without duplicates."
   ]
  },
  {
   "cell_type": "markdown",
   "metadata": {
    "id": "V-7QfOZ_aBap"
   },
   "source": [
    "### 16. Remove a random element from a set."
   ]
  },
  {
   "cell_type": "code",
   "execution_count": 179,
   "metadata": {
    "colab": {
     "base_uri": "https://localhost:8080/"
    },
    "id": "8H_b7KCIYipP",
    "outputId": "ac8048fd-0102-47c4-f8df-1cb009ba2582"
   },
   "outputs": [
    {
     "name": "stdout",
     "output_type": "stream",
     "text": [
      "Original set: {1, 2, 3, 4, 5}\n",
      "Updated set after removing 2 : {1, 3, 4, 5}\n"
     ]
    }
   ],
   "source": [
    "import random  # Import the random module\n",
    "\n",
    "# Create a set with some elements\n",
    "my_set = {1, 2, 3, 4, 5}\n",
    "\n",
    "# Display the original set\n",
    "print(\"Original set:\", my_set)\n",
    "\n",
    "# Choose a random element from the set using the random.choice() function\n",
    "random_element = random.choice(list(my_set))\n",
    "\n",
    "# Remove the chosen random element from the set using the remove() method\n",
    "my_set.remove(random_element)\n",
    "\n",
    "# Display the updated set after removing the random element\n",
    "print(\"Updated set after removing\", random_element, \":\", my_set)"
   ]
  },
  {
   "cell_type": "markdown",
   "metadata": {
    "id": "hSH1lvm5aCe6"
   },
   "source": [
    "- `import random`: This line imports the built-in random module, which provides various functions for generating random numbers and performing random selections.\n",
    "- `my_set = {1, 2, 3, 4, 5}`: Here, we create a set named my_set containing the integers from 1 to 5.\n",
    "- `print(\"Original set:\", my_set)`: This line prints the original set to the console.\n",
    "- `random_element = random.choice(list(my_set))`: We convert the set into a list using list(my_set) and then use random.choice() to select a random element from the list. This random element is stored in the variable random_element.\n",
    "- `my_set.remove(random_element)`: We use the remove() method to remove the randomly chosen element from the set.\n",
    "- `print(\"Updated set after removing\", random_element, \":\", my_set)`: Finally, we print the updated set after removing the random element to the console."
   ]
  },
  {
   "cell_type": "markdown",
   "metadata": {
    "id": "-al0yFuuaCXW"
   },
   "source": [
    "### 17. Pop an element from a set."
   ]
  },
  {
   "cell_type": "code",
   "execution_count": 180,
   "metadata": {
    "colab": {
     "base_uri": "https://localhost:8080/"
    },
    "id": "3sUmPdaPYimU",
    "outputId": "680d830f-f712-4169-838d-ca292a2e082f"
   },
   "outputs": [
    {
     "name": "stdout",
     "output_type": "stream",
     "text": [
      "Original set: {1, 2, 3, 4, 5}\n",
      "Popped element: 1\n",
      "Set after popping: {2, 3, 4, 5}\n"
     ]
    }
   ],
   "source": [
    "# Create a set with some elements\n",
    "my_set = {1, 2, 3, 4, 5}\n",
    "\n",
    "# Print the original set\n",
    "print(\"Original set:\", my_set)\n",
    "\n",
    "# Pop an element from the set using the pop() method\n",
    "popped_element = my_set.pop()\n",
    "\n",
    "# Print the element that was popped\n",
    "print(\"Popped element:\", popped_element)\n",
    "\n",
    "# Print the set after popping an element\n",
    "print(\"Set after popping:\", my_set)"
   ]
  },
  {
   "cell_type": "markdown",
   "metadata": {
    "id": "VUCcQ1qbaDYt"
   },
   "source": [
    "- `my_set = {1, 2, 3, 4, 5}`: We create a set named my_set containing integers from 1 to 5.\n",
    "- `print(\"Original set:\", my_set)`: We print the original set to show its contents before popping an element.\n",
    "- `popped_element = my_set.pop()`: The pop() method is used to remove and return an arbitrary element from the set. The popped element is stored in the variable popped_element.\n",
    "- `print(\"Popped element:\", popped_element)`: We print the element that was popped from the set.\n",
    "- `print(\"Set after popping:\", my_set)`: We print the set after popping an element. Since sets are unordered collections, the specific element popped cannot be predicted. The set will no longer contain the popped element."
   ]
  },
  {
   "cell_type": "markdown",
   "metadata": {
    "id": "hocrZvXAaEC6"
   },
   "source": [
    "### 18. Check if two sets have no elements in common."
   ]
  },
  {
   "cell_type": "code",
   "execution_count": 181,
   "metadata": {
    "colab": {
     "base_uri": "https://localhost:8080/"
    },
    "id": "00tOpMkoYijY",
    "outputId": "b6325b03-efb0-419f-83ad-7ba82d1ed317"
   },
   "outputs": [
    {
     "name": "stdout",
     "output_type": "stream",
     "text": [
      "The two sets have no elements in common.\n"
     ]
    }
   ],
   "source": [
    "# Step 1: Define two sets\n",
    "set1 = {1, 2, 3, 4}\n",
    "set2 = {5, 6, 7, 8}\n",
    "\n",
    "# Step 2: Check if the intersection of the two sets is empty\n",
    "# The intersection is the set of elements that are common to both sets\n",
    "common_elements = set1.intersection(set2)\n",
    "\n",
    "# Step 3: Check if the common_elements set is empty\n",
    "if not common_elements:\n",
    "    print(\"The two sets have no elements in common.\")\n",
    "else:\n",
    "    print(\"The two sets have common elements:\", common_elements)"
   ]
  },
  {
   "cell_type": "markdown",
   "metadata": {
    "id": "0z1WJM-1aF6w"
   },
   "source": [
    "- We start by defining two sets set1 and set2 with some elements in each set.\n",
    "- We use the .intersection() method to find the intersection of set1 and set2. - The result is a set containing elements that are common to both sets.\n",
    "- We use an if statement to check if the common_elements set is empty. If it's empty, it means the sets have no elements in common, so we print a message indicating that. If the common_elements set is not empty, we print the common elements themselves."
   ]
  },
  {
   "cell_type": "markdown",
   "metadata": {
    "id": "oH3lFxQEaFtx"
   },
   "source": [
    "### 19. Find the symmetric difference between two sets."
   ]
  },
  {
   "cell_type": "code",
   "execution_count": 182,
   "metadata": {
    "colab": {
     "base_uri": "https://localhost:8080/"
    },
    "id": "YgS1DLb2YigQ",
    "outputId": "5e0120ec-b621-4398-bae6-6a93fd12a892"
   },
   "outputs": [
    {
     "name": "stdout",
     "output_type": "stream",
     "text": [
      "Symmetric Difference: {1, 2, 3, 6, 7, 8}\n"
     ]
    }
   ],
   "source": [
    "# Define two sets\n",
    "set1 = {1, 2, 3, 4, 5}\n",
    "set2 = {4, 5, 6, 7, 8}\n",
    "\n",
    "# Calculate the symmetric difference using the ^ operator\n",
    "symmetric_difference = set1 ^ set2\n",
    "\n",
    "# Print the symmetric difference\n",
    "print(\"Symmetric Difference:\", symmetric_difference)"
   ]
  },
  {
   "cell_type": "markdown",
   "metadata": {
    "id": "mP17mdAPaG1V"
   },
   "source": [
    "- `set1 = {1, 2, 3, 4, 5}`: Here, we define the first set containing integers from 1 to 5.\n",
    "- `set2 = {4, 5, 6, 7, 8}`: We define the second set containing integers that partially overlap with the first set.\n",
    "- `symmetric_difference = set1 ^ set2`: The ^ operator is used to calculate the symmetric difference between two sets. It returns a new set containing elements that are in either of the sets, but not in their intersection.\n",
    "- `print(\"Symmetric Difference:\", symmetric_difference)`: Finally, we print out the symmetric difference set."
   ]
  },
  {
   "cell_type": "markdown",
   "metadata": {
    "id": "yEfCPJ2jaGuo"
   },
   "source": [
    "### 20. Update a set with elements from another set."
   ]
  },
  {
   "cell_type": "code",
   "execution_count": 183,
   "metadata": {
    "colab": {
     "base_uri": "https://localhost:8080/"
    },
    "id": "az_qRREeYidY",
    "outputId": "8810db3c-22fc-4a24-d08b-67957002650d"
   },
   "outputs": [
    {
     "name": "stdout",
     "output_type": "stream",
     "text": [
      "Set 1: {1, 2, 3}\n",
      "Set 2: {3, 4, 5}\n",
      "Updated Set 1: {1, 2, 3, 4, 5}\n"
     ]
    }
   ],
   "source": [
    "# Create the first set\n",
    "set1 = {1, 2, 3}\n",
    "print(\"Set 1:\", set1)\n",
    "\n",
    "# Create the second set\n",
    "set2 = {3, 4, 5}\n",
    "print(\"Set 2:\", set2)\n",
    "\n",
    "# Update set1 with elements from set2\n",
    "set1.update(set2)\n",
    "print(\"Updated Set 1:\", set1)"
   ]
  },
  {
   "cell_type": "markdown",
   "metadata": {
    "id": "6s7kGGUqaIWy"
   },
   "source": [
    "- `set1 = {1, 2, 3}`: We create the first set named set1 with elements 1, 2, and 3.\n",
    "- `print(\"Set 1:\", set1)`: This line prints the contents of set1 which is {1, 2, 3}.\n",
    "- `set2 = {3, 4, 5}`: We create the second set named set2 with elements 3, 4, and 5.\n",
    "- `print(\"Set 2:\", set2)`: This line prints the contents of set2 which is {3, 4, 5}.\n",
    "- `set1.update(set2)`: The update() method is used to update set1 with the elements from set2. After this line, set1 will contain all unique elements from both set1 and set2.\n",
    "- `print(\"Updated Set 1:\", set1)`: This line prints the updated contents of set1, which will now be {1, 2, 3, 4, 5}."
   ]
  },
  {
   "cell_type": "markdown",
   "metadata": {
    "id": "ZKJyjvYgaILF"
   },
   "source": [
    "### 21. Create a set of the first 5 prime numbers."
   ]
  },
  {
   "cell_type": "code",
   "execution_count": 184,
   "metadata": {
    "colab": {
     "base_uri": "https://localhost:8080/"
    },
    "id": "iD2gtfocYiaa",
    "outputId": "1798b52b-73ed-417b-8b33-b8eabde6bfda"
   },
   "outputs": [
    {
     "name": "stdout",
     "output_type": "stream",
     "text": [
      "Set of the first 5 prime numbers: {2, 3, 5, 7, 11}\n"
     ]
    }
   ],
   "source": [
    "# Function to check if a number is prime\n",
    "def is_prime(num):\n",
    "    if num <= 1:\n",
    "        return False\n",
    "    for i in range(2, int(num ** 0.5) + 1):\n",
    "        if num % i == 0:\n",
    "            return False\n",
    "    return True\n",
    "\n",
    "# Create an empty set to store the prime numbers\n",
    "prime_set = set()\n",
    "\n",
    "# Initialize the number to start checking for primes\n",
    "num = 2\n",
    "\n",
    "# Loop until we have found the first 5 prime numbers\n",
    "while len(prime_set) < 5:\n",
    "    # Check if the current number is prime using the is_prime function\n",
    "    if is_prime(num):\n",
    "        # If the number is prime, add it to the prime_set\n",
    "        prime_set.add(num)\n",
    "\n",
    "    # Move on to the next number for the next iteration\n",
    "    num += 1\n",
    "\n",
    "# Print the set of prime numbers\n",
    "print(\"Set of the first 5 prime numbers:\", prime_set)"
   ]
  },
  {
   "cell_type": "markdown",
   "metadata": {
    "id": "QRAhXABgaKNs"
   },
   "source": [
    "- We start by defining a function is_prime that checks if a given number is prime. It returns True if the number is prime and False otherwise.\n",
    "- We create an empty set prime_set to store the first 5 prime numbers.\n",
    "- We initialize the variable num to start checking for prime numbers, beginning with 2.\n",
    "- We use a while loop to continue searching for prime numbers until we have found 5 of them.\n",
    "- Inside the loop, we check if the current value of num is prime by calling the is_prime function. If it's prime, we add it to the prime_set.\n",
    "- Regardless of whether the current num is prime or not, we increment num by 1 to move to the next number for the next iteration of the loop.\n",
    "- Once we have found 5 prime numbers and the loop terminates, we print the set of prime numbers."
   ]
  },
  {
   "cell_type": "markdown",
   "metadata": {
    "id": "JGwWg_o4aJnT"
   },
   "source": [
    "### 22. Check if two sets are identical."
   ]
  },
  {
   "cell_type": "code",
   "execution_count": 185,
   "metadata": {
    "colab": {
     "base_uri": "https://localhost:8080/"
    },
    "id": "0tPpuNyFYiXt",
    "outputId": "a49903d4-683b-43c8-f54c-2b9a918c6678"
   },
   "outputs": [
    {
     "name": "stdout",
     "output_type": "stream",
     "text": [
      "The sets are identical.\n"
     ]
    }
   ],
   "source": [
    "# Step 1: Define two sets\n",
    "set1 = {1, 2, 3, 4, 5}\n",
    "set2 = {3, 1, 5, 2, 4}  # The order of elements doesn't matter in sets\n",
    "\n",
    "# Step 2: Check if the sets are identical using the `==` operator\n",
    "# Sets are unordered collections, so the order of elements doesn't matter.\n",
    "# The `==` operator compares the content of the sets.\n",
    "if set1 == set2:\n",
    "    print(\"The sets are identical.\")\n",
    "else:\n",
    "    print(\"The sets are not identical.\")"
   ]
  },
  {
   "cell_type": "markdown",
   "metadata": {
    "id": "tmaVdMLUaMij"
   },
   "source": [
    "- We define two sets, set1 and set2, containing the same integers but in different orders. Remember that sets are unordered, so the order of elements doesn't matter.\n",
    "- We use the == operator to check if the content of set1 is the same as the content of set2. Since sets are unordered collections, the comparison considers the elements themselves, not their order. If the sets have the same elements, they are considered identical.\n",
    "- If the sets are identical (meaning they have the same elements, regardless of order), the code inside the if block will execute, and the message \"The sets are identical.\" will be printed. Otherwise, if the sets are not identical, the code inside the else block will execute, and the message \"The sets are not identical.\" will be printed."
   ]
  },
  {
   "cell_type": "markdown",
   "metadata": {
    "id": "T7pNYDF6aMBs"
   },
   "source": [
    "### 23. Create a frozen set"
   ]
  },
  {
   "cell_type": "code",
   "execution_count": 186,
   "metadata": {
    "colab": {
     "base_uri": "https://localhost:8080/"
    },
    "id": "NyhGtlcuYiUy",
    "outputId": "be610cbd-aa9b-46be-bb1a-30146b67c7ef"
   },
   "outputs": [
    {
     "name": "stdout",
     "output_type": "stream",
     "text": [
      "Frozen Set: frozenset({1, 2, 3, 4, 5})\n"
     ]
    }
   ],
   "source": [
    "# Step 2: Define a list of elements that you want to include in the frozen set\n",
    "elements = [1, 2, 3, 4, 5]\n",
    "\n",
    "# Step 3: Create a frozen set using the 'frozenset' constructor and passing the list of elements\n",
    "my_frozen_set = frozenset(elements)\n",
    "\n",
    "# Step 4: Print the frozen set\n",
    "print(\"Frozen Set:\", my_frozen_set)"
   ]
  },
  {
   "cell_type": "markdown",
   "metadata": {
    "id": "MpiJds0saNtc"
   },
   "source": [
    "- We start by importing the frozenset class from the collections module. The frozenset is an immutable version of a set, meaning its elements cannot be modified after creation.\n",
    "- We define a list called elements that contains the integers from 1 to 5 that we want to include in the frozen set.\n",
    "- Using the frozenset constructor, we create a frozen set named my_frozen_set by passing the elements list as an argument. This freezes the set, making it unchangeable.\n",
    "- Finally, we print the frozen set using the print statement."
   ]
  },
  {
   "cell_type": "markdown",
   "metadata": {
    "id": "8t1QHhTGaNkx"
   },
   "source": [
    "### 24. Check if a set is disjoint with another set."
   ]
  },
  {
   "cell_type": "code",
   "execution_count": 187,
   "metadata": {
    "colab": {
     "base_uri": "https://localhost:8080/"
    },
    "id": "azmLRLlFYiR8",
    "outputId": "2c2a778b-7e63-420a-98a7-349ba1e4fec0"
   },
   "outputs": [
    {
     "name": "stdout",
     "output_type": "stream",
     "text": [
      "Are the sets disjoint? True\n"
     ]
    }
   ],
   "source": [
    "# Step 1: Define the two sets you want to check for disjointness\n",
    "set1 = {1, 2, 3, 4}\n",
    "set2 = {5, 6, 7, 8}\n",
    "\n",
    "# Step 2: Use the `isdisjoint()` method to check if the sets are disjoint\n",
    "# The `isdisjoint()` method returns True if the sets have no common elements,\n",
    "# and False if they have at least one common element.\n",
    "disjoint_status = set1.isdisjoint(set2)\n",
    "\n",
    "# Step 3: Print the result\n",
    "print(\"Are the sets disjoint?\", disjoint_status)"
   ]
  },
  {
   "cell_type": "markdown",
   "metadata": {
    "id": "XAccLEu1aOwN"
   },
   "source": [
    "- We start by defining two sets, set1 and set2, which contain different elements. You can modify these sets with the elements you want to use for the check.\n",
    "- The isdisjoint() method is called on set1 and is passed set2 as an argument. This method checks whether the sets have any elements in common.\n",
    "- The result of the disjointness check is stored in the disjoint_status variable. If the sets are disjoint, disjoint_status will be True, and if they are not disjoint, it will be False.\n",
    "- Finally, we use the print() function to display the result. It will print a message indicating whether the sets are disjoint or not based on the value of the disjoint_status variable."
   ]
  },
  {
   "cell_type": "markdown",
   "metadata": {
    "id": "78aHwDdSaOqN"
   },
   "source": [
    "### 25. Create a set of squares of numbers from 1 to 5."
   ]
  },
  {
   "cell_type": "code",
   "execution_count": 188,
   "metadata": {
    "colab": {
     "base_uri": "https://localhost:8080/"
    },
    "id": "1OXTOon5YiO7",
    "outputId": "6157f10f-1730-438e-af4f-5170cb7eba2c"
   },
   "outputs": [
    {
     "name": "stdout",
     "output_type": "stream",
     "text": [
      "{1, 4, 9, 16, 25}\n"
     ]
    }
   ],
   "source": [
    "# Step 1: Create an empty set to store the squares of numbers\n",
    "squares_set = set()\n",
    "\n",
    "# Step 2: Use a loop to iterate through numbers from 1 to 5\n",
    "for num in range(1, 6):\n",
    "    # Step 3: Calculate the square of the current number\n",
    "    square = num ** 2\n",
    "\n",
    "    # Step 4: Add the square to the set\n",
    "    squares_set.add(square)\n",
    "\n",
    "# Step 5: Print the set of squares\n",
    "print(squares_set)"
   ]
  },
  {
   "cell_type": "markdown",
   "metadata": {
    "id": "I6JoiXV7aP59"
   },
   "source": [
    "- We start by creating an empty set named squares_set using the set() constructor. This set will store the squares of numbers.\n",
    "- We use a for loop to iterate through the numbers from 1 to 5 using the range(1, 6) function. The loop variable num will take values 1, 2, 3, 4, and 5 in each iteration.\n",
    "- Inside the loop, we calculate the square of the current number using the exponentiation operator **. For example, if num is 2, then square will be calculated as 2 squared, which is 4.\n",
    "- We add the calculated square to the squares_set using the .add() method of sets.\n",
    "- After the loop completes, we print the squares_set, which will contain the squares of the numbers from 1 to 5."
   ]
  },
  {
   "cell_type": "markdown",
   "metadata": {
    "id": "yg6BV3LFaPyS"
   },
   "source": [
    "### 26. Filter out all even numbers from a set."
   ]
  },
  {
   "cell_type": "code",
   "execution_count": 189,
   "metadata": {
    "colab": {
     "base_uri": "https://localhost:8080/"
    },
    "id": "FW6izDjfYiL7",
    "outputId": "8d85d855-4313-40b3-85fd-85d875aa89dd"
   },
   "outputs": [
    {
     "name": "stdout",
     "output_type": "stream",
     "text": [
      "Original Set: {1, 2, 3, 4, 5}\n",
      "Even Numbers Set: {2, 4}\n"
     ]
    }
   ],
   "source": [
    "# Step 1: Create a set with integers from 1 to 5\n",
    "original_set = {1, 2, 3, 4, 5}\n",
    "\n",
    "# Step 2: Initialize an empty set to store the filtered even numbers\n",
    "even_numbers_set = set()\n",
    "\n",
    "# Step 3: Iterate through each element in the original set\n",
    "for num in original_set:\n",
    "    # Step 4: Check if the current number is even (divisible by 2)\n",
    "    if num % 2 == 0:\n",
    "        # Step 5: If even, add it to the even_numbers_set\n",
    "        even_numbers_set.add(num)\n",
    "\n",
    "# Step 6: Print the original set and the set containing even numbers\n",
    "print(\"Original Set:\", original_set)\n",
    "print(\"Even Numbers Set:\", even_numbers_set)"
   ]
  },
  {
   "cell_type": "markdown",
   "metadata": {
    "id": "_fdFWTv5aQ3D"
   },
   "source": [
    "- We start by creating an original set containing integers from 1 to 5.\n",
    "- We create an empty set called even_numbers_set to store the even numbers.\n",
    "- We use a for loop to iterate through each element in the original_set.\n",
    "- Inside the loop, we use the modulo operator % to check if the current number is even (divisible by 2).\n",
    "- If the current number is even, we add it to the even_numbers_set using the add() method.\n",
    "- Finally, we print both the original set and the set containing even numbers to see the results."
   ]
  },
  {
   "cell_type": "markdown",
   "metadata": {
    "id": "4i9GSoL1aQvs"
   },
   "source": [
    "### 27. Multiply all elements in a set by 2."
   ]
  },
  {
   "cell_type": "code",
   "execution_count": 190,
   "metadata": {
    "colab": {
     "base_uri": "https://localhost:8080/"
    },
    "id": "Czs215VlYiJA",
    "outputId": "653080aa-b98b-450a-da59-97d5ac5863e9"
   },
   "outputs": [
    {
     "name": "stdout",
     "output_type": "stream",
     "text": [
      "Original Set: {1, 2, 3, 4, 5}\n",
      "Multiplied Set: {2, 4, 6, 8, 10}\n"
     ]
    }
   ],
   "source": [
    "# Create a set with integers from 1 to 5\n",
    "original_set = {1, 2, 3, 4, 5}\n",
    "\n",
    "# Initialize an empty set to store the multiplied elements\n",
    "multiplied_set = set()\n",
    "\n",
    "# Loop through each element in the original set\n",
    "for num in original_set:\n",
    "    # Multiply the current element by 2\n",
    "    multiplied_num = num * 2\n",
    "\n",
    "    # Add the multiplied element to the multiplied_set\n",
    "    multiplied_set.add(multiplied_num)\n",
    "\n",
    "# The original_set remains unchanged\n",
    "print(\"Original Set:\", original_set)\n",
    "\n",
    "# Display the set with elements multiplied by 2\n",
    "print(\"Multiplied Set:\", multiplied_set)"
   ]
  },
  {
   "cell_type": "markdown",
   "metadata": {
    "id": "boiTbR9Ra3Q0"
   },
   "source": [
    "- We start by creating the original set containing integers from 1 to 5.\n",
    "- We initialize an empty set called multiplied_set where we'll store the elements after they've been multiplied by 2.\n",
    "- We then loop through each element in the original_set using a for loop.\n",
    "- Inside the loop, we calculate the result of multiplying the current element num by 2, and store it in the variable multiplied_num.\n",
    "- We add the multiplied_num to the multiplied_set using the .add() method.\n",
    "- After the loop completes, the multiplied_set contains all the elements from the original set, each multiplied by 2.\n",
    "- We print out the original_set to show that it remains unchanged.\n",
    "- We print out the multiplied_set to display the set with elements multiplied by 2."
   ]
  },
  {
   "cell_type": "markdown",
   "metadata": {
    "id": "5w2Pjxd0a3KZ"
   },
   "source": [
    "### 28. Create a set of random numbers."
   ]
  },
  {
   "cell_type": "code",
   "execution_count": 191,
   "metadata": {
    "colab": {
     "base_uri": "https://localhost:8080/"
    },
    "id": "y0GmtDPVYiGA",
    "outputId": "d97bd173-e1ba-441c-db46-995c85a49102"
   },
   "outputs": [
    {
     "name": "stdout",
     "output_type": "stream",
     "text": [
      "Generated set of random numbers: {2, 37, 74, 43, 54}\n"
     ]
    }
   ],
   "source": [
    "# Step 1: Import the `random` module to generate random numbers\n",
    "import random\n",
    "\n",
    "# Step 2: Define the number of random numbers you want in the set\n",
    "num_random_numbers = 5\n",
    "\n",
    "# Step 3: Initialize an empty set to store the random numbers\n",
    "random_number_set = set()\n",
    "\n",
    "# Step 4: Use a loop to generate random numbers and add them to the set\n",
    "for _ in range(num_random_numbers):\n",
    "    # Generate a random integer using the `randint` function from the `random` module\n",
    "    random_num = random.randint(1, 100)  # Generate a random number between 1 and 100\n",
    "    # Add the random number to the set\n",
    "    random_number_set.add(random_num)\n",
    "\n",
    "# Step 5: Print the generated set of random numbers\n",
    "print(\"Generated set of random numbers:\", random_number_set)"
   ]
  },
  {
   "cell_type": "markdown",
   "metadata": {
    "id": "DwGcda_Ja4kG"
   },
   "source": [
    "- We begin by importing the random module, which provides functions for generating random numbers and performing other random-related operations.\n",
    "- We define the variable num_random_numbers to specify how many random numbers we want in our set. You can change this value to generate a different number of random numbers.\n",
    "- We initialize an empty set named random_number_set that will store our generated random numbers.\n",
    "- We use a loop to generate random numbers and add them to the set. In each iteration of the loop, we generate a random integer using the random.randint(a, b) function, which generates a random integer between a and b (inclusive). We generate numbers between 1 and 100 in this example.\n",
    "- Finally, we print the generated set of random numbers using the print function. The output will show the unique random numbers present in the set.\n"
   ]
  },
  {
   "cell_type": "markdown",
   "metadata": {
    "id": "zQP17Otra4eF"
   },
   "source": [
    "### 29. Check if a set is empty."
   ]
  },
  {
   "cell_type": "code",
   "execution_count": 192,
   "metadata": {
    "colab": {
     "base_uri": "https://localhost:8080/"
    },
    "id": "q5q3NMeEYiC4",
    "outputId": "d44e8d7f-5403-416c-ca89-c4b6d6554cbc"
   },
   "outputs": [
    {
     "name": "stdout",
     "output_type": "stream",
     "text": [
      "The set is empty.\n"
     ]
    }
   ],
   "source": [
    "# Step 1: Create a set (you can replace this with your own set)\n",
    "my_set = set()\n",
    "\n",
    "# Step 2: Check if the set is empty using the 'if' statement\n",
    "if not my_set:\n",
    "    print(\"The set is empty.\")\n",
    "else:\n",
    "    print(\"The set is not empty.\")"
   ]
  },
  {
   "cell_type": "markdown",
   "metadata": {
    "id": "_c1QQ6gaa5cq"
   },
   "source": [
    "- We start by creating an empty set using the set() constructor. You can replace my_set with your own set if you want to check a different set.\n",
    "- We use the if statement to check if the set is empty. The condition not my_set is True if the set is empty, and False if it contains any elements.\n",
    "- If the condition is True, the program prints \"The set is empty.\" If the condition is False, it prints \"The set is not empty.\""
   ]
  },
  {
   "cell_type": "markdown",
   "metadata": {
    "id": "fw6RQI75a5WA"
   },
   "source": [
    "### 30. Create a nested set (hint: use frozenset)."
   ]
  },
  {
   "cell_type": "code",
   "execution_count": 193,
   "metadata": {
    "colab": {
     "base_uri": "https://localhost:8080/"
    },
    "id": "p2-n7xMPa7xJ",
    "outputId": "5e51b9c8-2259-475d-d408-bfc0b3076d3e"
   },
   "outputs": [
    {
     "name": "stdout",
     "output_type": "stream",
     "text": [
      "Nested Set: {frozenset({1, 2, 3, 4, 5}), frozenset({6, 7, 8, 9, 10})}\n"
     ]
    }
   ],
   "source": [
    "# Step 1: Create the inner sets\n",
    "set1 = {1, 2, 3, 4, 5}\n",
    "set2 = {6, 7, 8, 9, 10}\n",
    "\n",
    "# Step 2: Create frozensets from the inner sets\n",
    "frozen_set1 = frozenset(set1)\n",
    "frozen_set2 = frozenset(set2)\n",
    "\n",
    "# Step 3: Create the nested set using the frozensets\n",
    "nested_set = {frozen_set1, frozen_set2}\n",
    "\n",
    "# Print the nested set\n",
    "print(\"Nested Set:\", nested_set)"
   ]
  },
  {
   "cell_type": "markdown",
   "metadata": {
    "id": "lEUXbGVya5Si"
   },
   "source": [
    "- We import two sets, set1 and set2, containing integers from 1 to 5 and from 6 to 10, respectively.\n",
    "- We then create two frozenset objects, frozen_set1 and frozen_set2, from set1 and set2. The use of frozenset ensures that the inner sets are immutable and can be used as elements of another set.\n",
    "- Finally, we create the nested_set by adding the two frozenset objects into it. This creates a set containing two nested sets.\n",
    "- We print the nested_set to see the result."
   ]
  },
  {
   "cell_type": "markdown",
   "metadata": {
    "id": "QqAW6WFfa6lk"
   },
   "source": [
    "### 31.  Remove an element from a set using the discard method."
   ]
  },
  {
   "cell_type": "code",
   "execution_count": 194,
   "metadata": {
    "colab": {
     "base_uri": "https://localhost:8080/"
    },
    "id": "QIlx-_BlYiAE",
    "outputId": "73ccb953-e7aa-4cf3-afdd-a9967eb3d49d"
   },
   "outputs": [
    {
     "name": "stdout",
     "output_type": "stream",
     "text": [
      "Initial set: {1, 2, 3, 4, 5}\n",
      "Set after removing 3 : {1, 2, 4, 5}\n"
     ]
    }
   ],
   "source": [
    "# Create a set with some elements\n",
    "my_set = {1, 2, 3, 4, 5}\n",
    "\n",
    "# Display the initial set\n",
    "print(\"Initial set:\", my_set)\n",
    "\n",
    "# Define the element to be removed\n",
    "element_to_remove = 3\n",
    "\n",
    "# Use the discard() method to remove the element from the set\n",
    "# If the element is not present in the set, discard() won't raise an error\n",
    "my_set.discard(element_to_remove)\n",
    "\n",
    "# Display the set after removing the element\n",
    "print(\"Set after removing\", element_to_remove, \":\", my_set)"
   ]
  },
  {
   "cell_type": "markdown",
   "metadata": {
    "id": "I6w_E5kra9rI"
   },
   "source": [
    "- We start by creating a set named my_set with some elements {1, 2, 3, 4, 5}.\n",
    "- We print the initial set using the print() function.\n",
    "- We define the element we want to remove, in this case, element_to_remove is set to 3.\n",
    "- We use the discard() method on the my_set set to remove the specified element (3). The discard() method removes the element if it's present in the set; otherwise, it does nothing without raising an error.\n",
    "- We print the modified set after removing the element using the print() function."
   ]
  },
  {
   "cell_type": "markdown",
   "metadata": {
    "id": "VzoZXEwJa9g7"
   },
   "source": [
    "### 32. Compare two sets."
   ]
  },
  {
   "cell_type": "code",
   "execution_count": 195,
   "metadata": {
    "colab": {
     "base_uri": "https://localhost:8080/"
    },
    "id": "sf6wUCdIYh9A",
    "outputId": "7e5c925d-b0ae-4283-cc6b-9e23f0f06a76"
   },
   "outputs": [
    {
     "name": "stdout",
     "output_type": "stream",
     "text": [
      "Set 1: {1, 2, 3, 4, 5}\n",
      "Set 2: {4, 5, 6, 7, 8}\n",
      "Is set1 a subset of set2? False\n",
      "Is set2 a subset of set1? False\n",
      "Intersection: {4, 5}\n",
      "Union: {1, 2, 3, 4, 5, 6, 7, 8}\n",
      "Elements in set1 but not in set2: {1, 2, 3}\n",
      "Elements in set2 but not in set1: {8, 6, 7}\n"
     ]
    }
   ],
   "source": [
    "# Step 1: Define two sets\n",
    "set1 = {1, 2, 3, 4, 5}\n",
    "set2 = {4, 5, 6, 7, 8}\n",
    "\n",
    "# Step 2: Use set operations to compare the sets\n",
    "# Check if set1 is a subset of set2\n",
    "is_subset = set1.issubset(set2)\n",
    "\n",
    "# Check if set2 is a subset of set1\n",
    "is_superset = set1.issuperset(set2)\n",
    "\n",
    "# Find the intersection of the sets\n",
    "intersection = set1.intersection(set2)\n",
    "\n",
    "# Find the union of the sets\n",
    "union = set1.union(set2)\n",
    "\n",
    "# Find the elements that are in set1 but not in set2\n",
    "difference1 = set1.difference(set2)\n",
    "\n",
    "# Find the elements that are in set2 but not in set1\n",
    "difference2 = set2.difference(set1)\n",
    "\n",
    "# Step 3: Print the results\n",
    "print(\"Set 1:\", set1)\n",
    "print(\"Set 2:\", set2)\n",
    "print(\"Is set1 a subset of set2?\", is_subset)\n",
    "print(\"Is set2 a subset of set1?\", is_superset)\n",
    "print(\"Intersection:\", intersection)\n",
    "print(\"Union:\", union)\n",
    "print(\"Elements in set1 but not in set2:\", difference1)\n",
    "print(\"Elements in set2 but not in set1:\", difference2)"
   ]
  },
  {
   "cell_type": "markdown",
   "metadata": {
    "id": "rN4hU6AZa_xy"
   },
   "source": [
    "- We define two sets set1 and set2 containing some elements.\n",
    "- We use various set operations to compare the two sets:\n",
    "  - issubset() checks if set1 is a subset of set2.\n",
    "  - issuperset() checks if set1 is a superset of set2.\n",
    "  - intersection() finds the common elements between the sets.\n",
    "  - union() finds the combined set of unique elements from both sets.\n",
    "  - difference() finds the elements that are in the first set but not in the second set, and vice versa.\n",
    "- We print out the original sets, the comparison results, the intersection, the union, and the differences."
   ]
  },
  {
   "cell_type": "markdown",
   "metadata": {
    "id": "DkKCPmvga_ij"
   },
   "source": [
    "### 33. Create a set from a string."
   ]
  },
  {
   "cell_type": "code",
   "execution_count": 196,
   "metadata": {
    "colab": {
     "base_uri": "https://localhost:8080/"
    },
    "id": "s-r8P2O-Yh6B",
    "outputId": "be0708b4-bd08-43bc-e843-62aa83b300cc"
   },
   "outputs": [
    {
     "name": "stdout",
     "output_type": "stream",
     "text": [
      "{'h', 'e', 'l', 'o'}\n"
     ]
    }
   ],
   "source": [
    "# Step 1: Define the input string\n",
    "input_string = \"hello\"\n",
    "\n",
    "# Step 2: Use the set() constructor to create a set from the characters in the string\n",
    "char_set = set(input_string)\n",
    "\n",
    "# Step 3: Print the resulting set\n",
    "print(char_set)"
   ]
  },
  {
   "cell_type": "markdown",
   "metadata": {
    "id": "ysESMNwvbA0t"
   },
   "source": [
    "- We start by defining an input string \"hello\".\n",
    "- We use the set() constructor to create a set named char_set from the characters present in the input string. The set() constructor automatically eliminates duplicate characters since sets don't allow duplicates.\n",
    "- Finally, we print the resulting set using the print() function. This will output a set containing the unique characters from the input string."
   ]
  },
  {
   "cell_type": "markdown",
   "metadata": {
    "id": "0TohqFCbbBy6"
   },
   "source": [
    "### 34. Convert a set of strings to a set of integers."
   ]
  },
  {
   "cell_type": "code",
   "execution_count": 197,
   "metadata": {
    "colab": {
     "base_uri": "https://localhost:8080/"
    },
    "id": "GLhLM2FnYh3D",
    "outputId": "34bb33da-899c-4b20-a1e1-b40853f00ffd"
   },
   "outputs": [
    {
     "name": "stdout",
     "output_type": "stream",
     "text": [
      "Original String Set: {'123', '789', '456'}\n",
      "Converted Integer Set: {456, 123, 789}\n"
     ]
    }
   ],
   "source": [
    "# Step 1: Create a set of strings\n",
    "string_set = {\"123\", \"456\", \"789\"}\n",
    "\n",
    "# Step 2: Initialize an empty set to store integers\n",
    "integer_set = set()\n",
    "\n",
    "# Step 3: Iterate through each string in the string set\n",
    "for string in string_set:\n",
    "    # Step 4: Convert the string to an integer using the int() function\n",
    "    integer_value = int(string)\n",
    "\n",
    "    # Step 5: Add the integer to the integer set\n",
    "    integer_set.add(integer_value)\n",
    "\n",
    "# Step 6: Print the original string set and the converted integer set\n",
    "print(\"Original String Set:\", string_set)\n",
    "print(\"Converted Integer Set:\", integer_set)"
   ]
  },
  {
   "cell_type": "markdown",
   "metadata": {
    "id": "j6q5g1IVbD_N"
   },
   "source": [
    "- We start by creating a set of strings called string_set containing the strings \"123\", \"456\", and \"789\".\n",
    "- We create an empty set called integer_set to store the converted integer values.\n",
    "- We use a for loop to iterate through each string in the string_set.\n",
    "- Inside the loop, we convert each string to an integer using the int() function and store it in the variable integer_value.\n",
    "- We add the converted integer value to the integer_set using the add() method.\n",
    "- After iterating through all the strings, we print both the original string_set and the converted integer_set."
   ]
  },
  {
   "cell_type": "markdown",
   "metadata": {
    "id": "Y5AedNKnbD1P"
   },
   "source": [
    "### 35. Convert a set of integers to a set of strings."
   ]
  },
  {
   "cell_type": "code",
   "execution_count": 198,
   "metadata": {
    "colab": {
     "base_uri": "https://localhost:8080/"
    },
    "id": "ggKvDrWdYh0W",
    "outputId": "764d3b6a-9012-4302-fabe-9ad237c6b95c"
   },
   "outputs": [
    {
     "name": "stdout",
     "output_type": "stream",
     "text": [
      "Original integers_set: {1, 2, 3, 4, 5}\n",
      "Converted strings_set: {'2', '4', '1', '5', '3'}\n"
     ]
    }
   ],
   "source": [
    "# Step 1: Create a set of integers\n",
    "integers_set = {1, 2, 3, 4, 5}\n",
    "\n",
    "# Step 2: Initialize an empty set to store the strings\n",
    "strings_set = set()\n",
    "\n",
    "# Step 3: Iterate through each integer in the integers_set\n",
    "for num in integers_set:\n",
    "    # Step 4: Convert the integer to a string using the str() function\n",
    "    num_str = str(num)\n",
    "\n",
    "    # Step 5: Add the string representation to the strings_set\n",
    "    strings_set.add(num_str)\n",
    "\n",
    "# Step 6: Print the original integers_set and the converted strings_set\n",
    "print(\"Original integers_set:\", integers_set)\n",
    "print(\"Converted strings_set:\", strings_set)"
   ]
  },
  {
   "cell_type": "markdown",
   "metadata": {
    "id": "Qi4-w-Q3bE8n"
   },
   "source": [
    "- We start by creating a set of integers called integers_set with a few example integers.\n",
    "- We initialize an empty set called strings_set that we will use to store the string representations of the integers.\n",
    "- We then iterate through each integer in the integers_set using a for loop.\n",
    "- Inside the loop, we convert each integer to its string representation using the str() function. This is done in the num_str = str(num) line.\n",
    "- We add the converted string num_str to the strings_set using the add() method.\n",
    "- Finally, we print both the original integers_set and the converted strings_set to see the results."
   ]
  },
  {
   "cell_type": "markdown",
   "metadata": {
    "id": "4fRnpU9FbEzL"
   },
   "source": [
    "### 36. Create a set from a tuple."
   ]
  },
  {
   "cell_type": "code",
   "execution_count": 199,
   "metadata": {
    "colab": {
     "base_uri": "https://localhost:8080/"
    },
    "id": "vho6MqUKYhxT",
    "outputId": "16ef40ef-0018-4292-d98d-dd99968fd0fe"
   },
   "outputs": [
    {
     "name": "stdout",
     "output_type": "stream",
     "text": [
      "{1, 2, 3, 4, 5}\n"
     ]
    }
   ],
   "source": [
    "# Given tuple\n",
    "input_tuple = (1, 2, 3, 2, 4, 5, 1)\n",
    "\n",
    "# Step 1: Convert the tuple to a set\n",
    "output_set = set(input_tuple)\n",
    "# At this point, the set() function is used to convert the elements of the tuple into a set.\n",
    "# Since sets only contain unique elements, duplicate values are automatically removed.\n",
    "\n",
    "# Step 2: Print the resulting set\n",
    "print(output_set)\n",
    "# The set is now printed, and it will only contain the unique elements from the original tuple."
   ]
  },
  {
   "cell_type": "markdown",
   "metadata": {
    "id": "8s-gpUt5bHoF"
   },
   "source": [
    "- We start by defining the input tuple called input_tuple containing some integer values.\n",
    "- We use the set() function to convert the input_tuple into a set. This automatically removes duplicate values, so the resulting set will only contain unique elements.\n",
    "- Finally, we print the output_set, which now holds the unique elements from the original tuple."
   ]
  },
  {
   "cell_type": "markdown",
   "metadata": {
    "id": "z5fifMMqbHfY"
   },
   "source": [
    "### 37. Convert a set to a tuple."
   ]
  },
  {
   "cell_type": "code",
   "execution_count": 200,
   "metadata": {
    "colab": {
     "base_uri": "https://localhost:8080/"
    },
    "id": "zNDIEmJ2YhuX",
    "outputId": "51d79690-ebe1-4b4b-9e3d-b5b712ea2294"
   },
   "outputs": [
    {
     "name": "stdout",
     "output_type": "stream",
     "text": [
      "Original set: {1, 2, 3, 4, 5}\n",
      "Converted tuple: (1, 2, 3, 4, 5)\n"
     ]
    }
   ],
   "source": [
    "# Step 1: Create a set\n",
    "input_set = {1, 2, 3, 4, 5}\n",
    "\n",
    "# Step 2: Convert the set to a tuple\n",
    "output_tuple = tuple(input_set)\n",
    "\n",
    "# Step 3: Print the original set and the converted tuple\n",
    "print(\"Original set:\", input_set)\n",
    "print(\"Converted tuple:\", output_tuple)"
   ]
  },
  {
   "cell_type": "markdown",
   "metadata": {
    "id": "qV0PkzgrbIbo"
   },
   "source": [
    "- We start by creating a set named input_set containing some example elements: 1, 2, 3, 4, and 5.\n",
    "- We use the tuple() constructor to convert the input_set into a tuple. The tuple() constructor takes an iterable (like a set) as an argument and returns a tuple containing the elements of the iterable.\n",
    "- We print out the original set and the converted tuple using the print() function. This helps us verify that the conversion was successful."
   ]
  },
  {
   "cell_type": "markdown",
   "metadata": {
    "id": "y9Fz6mMpbIVx"
   },
   "source": [
    "### 38. Find the maximum value in a set."
   ]
  },
  {
   "cell_type": "code",
   "execution_count": 201,
   "metadata": {
    "colab": {
     "base_uri": "https://localhost:8080/"
    },
    "id": "enBVzB8jYhrU",
    "outputId": "cfc96c60-2bd9-4efd-849d-d7b681376841"
   },
   "outputs": [
    {
     "name": "stdout",
     "output_type": "stream",
     "text": [
      "Maximum value: 22\n"
     ]
    }
   ],
   "source": [
    "# Define a set with some values\n",
    "my_set = {15, 7, 22, 13, 8}\n",
    "\n",
    "# Initialize a variable to store the maximum value\n",
    "max_value = None\n",
    "\n",
    "# Iterate through each element in the set\n",
    "for num in my_set:\n",
    "    # Check if max_value is None (first iteration) or if the current number is greater than max_value\n",
    "    if max_value is None or num > max_value:\n",
    "        max_value = num  # Update max_value with the current number if it's greater\n",
    "\n",
    "# Print the maximum value\n",
    "print(\"Maximum value:\", max_value)"
   ]
  },
  {
   "cell_type": "markdown",
   "metadata": {
    "id": "OkJVWCb-bJeH"
   },
   "source": [
    "- We start by defining a set my_set containing some numeric values.\n",
    "- We initialize a variable max_value to None. This variable will be used to keep track of the maximum value found so far.\n",
    "- We use a for loop to iterate through each element (num) in the set my_set.\n",
    "- Inside the loop, we have a conditional statement that checks two conditions:\n",
    "- If max_value is None, it means we are in the first iteration, so we update max_value with the current number (num).\n",
    "- If the current number (num) is greater than the current max_value, we update max_value with the current number (num).\n",
    "- After the loop completes, we print the maximum value that was found."
   ]
  },
  {
   "cell_type": "markdown",
   "metadata": {
    "id": "cRHVKkUQbJXZ"
   },
   "source": [
    "### 39. Find the minimum value in a set."
   ]
  },
  {
   "cell_type": "code",
   "execution_count": 202,
   "metadata": {
    "colab": {
     "base_uri": "https://localhost:8080/"
    },
    "id": "Fr4_cZb9YhoZ",
    "outputId": "97e15a42-b6dc-48e0-9582-abae81c3ea3f"
   },
   "outputs": [
    {
     "name": "stdout",
     "output_type": "stream",
     "text": [
      "The minimum value in the set is: 4\n"
     ]
    }
   ],
   "source": [
    "# Create a sample set of numbers\n",
    "number_set = {15, 8, 23, 4, 42, 11}\n",
    "\n",
    "# Initialize a variable to store the minimum value\n",
    "min_value = None\n",
    "\n",
    "# Iterate through each element in the set\n",
    "for num in number_set:\n",
    "    # Check if min_value is None (first iteration) or if num is smaller than the current min_value\n",
    "    if min_value is None or num < min_value:\n",
    "        # Update min_value to the current num since it's smaller\n",
    "        min_value = num\n",
    "\n",
    "# Print the minimum value found in the set\n",
    "print(\"The minimum value in the set is:\", min_value)"
   ]
  },
  {
   "cell_type": "markdown",
   "metadata": {
    "id": "Ou5cvkW8bKYC"
   },
   "source": [
    "- We start by creating a sample set of numbers called number_set containing some integers.\n",
    "- We initialize a variable min_value with the value None. This variable will store the minimum value found in the set.\n",
    "- We use a for loop to iterate through each element in the number_set.\n",
    "- Inside the loop, we check whether min_value is None (indicating the first iteration) or if the current num is smaller than the current min_value.\n",
    "- If either condition is met, we update the value of min_value to the current num, since it's the smallest value found so far.\n",
    "- Once the loop finishes, we print out the minimum value found in the set using the print statement."
   ]
  },
  {
   "cell_type": "markdown",
   "metadata": {
    "id": "nAxJHSNMbKSj"
   },
   "source": [
    "### 40. Create a set from user input."
   ]
  },
  {
   "cell_type": "code",
   "execution_count": 203,
   "metadata": {
    "colab": {
     "base_uri": "https://localhost:8080/"
    },
    "id": "KY1zAijAYhlX",
    "outputId": "8ee4f354-3391-4ebe-eb8d-f5020a857abb"
   },
   "outputs": [
    {
     "name": "stdout",
     "output_type": "stream",
     "text": [
      "Enter elements for the set (type 'done' to finish):\n"
     ]
    },
    {
     "name": "stdin",
     "output_type": "stream",
     "text": [
      ">  done\n"
     ]
    },
    {
     "name": "stdout",
     "output_type": "stream",
     "text": [
      "Final set: set()\n"
     ]
    }
   ],
   "source": [
    "# Step 1: Initialize an empty set\n",
    "user_set = set()\n",
    "\n",
    "# Step 2: Get input from the user\n",
    "print(\"Enter elements for the set (type 'done' to finish):\")\n",
    "while True:\n",
    "    user_input = input(\"> \")  # Get input from the user\n",
    "\n",
    "    if user_input.lower() == 'done':\n",
    "        break  # Exit the loop if the user enters 'done'\n",
    "\n",
    "    # Step 3: Add the user input to the set\n",
    "    user_set.add(user_input)\n",
    "\n",
    "# Step 4: Display the final set created from user input\n",
    "print(\"Final set:\", user_set)"
   ]
  },
  {
   "cell_type": "markdown",
   "metadata": {
    "id": "yFlD8UjubLvd"
   },
   "source": [
    "- We start by initializing an empty set called user_set.\n",
    "- We use a while loop to repeatedly get input from the user. The loop will continue until the user enters 'done'.\n",
    "- Inside the loop, we use the add method to add each user input to the user_set. The .lower() method is used to convert the input to lowercase so that the comparison is case-insensitive.\n",
    "- Once the user enters 'done', the loop is exited, and the code displays the final set that was created using the user inputs."
   ]
  },
  {
   "cell_type": "markdown",
   "metadata": {
    "id": "344K9QsbbNPM"
   },
   "source": [
    "### 41. Check if the intersection of two sets is empty."
   ]
  },
  {
   "cell_type": "code",
   "execution_count": 204,
   "metadata": {
    "colab": {
     "base_uri": "https://localhost:8080/"
    },
    "id": "G0V2dXFzbNpd",
    "outputId": "07404266-ae61-4024-c0a4-0137487e52e1"
   },
   "outputs": [
    {
     "name": "stdout",
     "output_type": "stream",
     "text": [
      "The intersection of the two sets is not empty.\n"
     ]
    }
   ],
   "source": [
    "# Step 1: Define two sets\n",
    "set1 = {1, 2, 3, 4, 5}\n",
    "set2 = {4, 5, 6, 7, 8}\n",
    "\n",
    "# Step 2: Find the intersection of the two sets using the `intersection()` method\n",
    "intersection_result = set1.intersection(set2)\n",
    "\n",
    "# Step 3: Check if the intersection result is empty\n",
    "if not intersection_result:\n",
    "    print(\"The intersection of the two sets is empty.\")\n",
    "else:\n",
    "    print(\"The intersection of the two sets is not empty.\")"
   ]
  },
  {
   "cell_type": "markdown",
   "metadata": {
    "id": "lEkJKH8PbLKB"
   },
   "source": [
    "- We start by defining two sets, set1 and set2, with some example elements. You can replace these sets with your own sets if needed.\n",
    "- The intersection_result is obtained by using the intersection() method of the first set (set1). This method returns a new set containing elements that are present in both set1 and set2.\n",
    "- We then use an if statement to check if the intersection_result is empty. The condition if not intersection_result: checks if the set is empty. If the condition is true, it means the intersection is empty, and we print the corresponding message. If the condition is false, it means the intersection is not empty, and we print the corresponding message."
   ]
  },
  {
   "cell_type": "markdown",
   "metadata": {
    "id": "lMDakLyibLGW"
   },
   "source": [
    "### 42. Create a set of the first 5 Fibonacci numbers."
   ]
  },
  {
   "cell_type": "code",
   "execution_count": 205,
   "metadata": {
    "colab": {
     "base_uri": "https://localhost:8080/"
    },
    "id": "XkPDWFhrYhiZ",
    "outputId": "c685f1bf-dcad-49b5-bb49-cf946ecd2ee3"
   },
   "outputs": [
    {
     "name": "stdout",
     "output_type": "stream",
     "text": [
      "Set of the first 5 Fibonacci numbers: {0, 1, 2, 3, 5}\n"
     ]
    }
   ],
   "source": [
    "# Create a set to store the first 5 Fibonacci numbers\n",
    "fibonacci_set = set()\n",
    "\n",
    "# Initialize the first two Fibonacci numbers\n",
    "a, b = 0, 1\n",
    "\n",
    "# Loop to generate the first 5 Fibonacci numbers\n",
    "for _ in range(6):\n",
    "    # Add the current Fibonacci number to the set\n",
    "    fibonacci_set.add(a)\n",
    "\n",
    "    # Calculate the next Fibonacci number\n",
    "    a, b = b, a + b\n",
    "\n",
    "# Print the set of Fibonacci numbers\n",
    "print(\"Set of the first 5 Fibonacci numbers:\", fibonacci_set)"
   ]
  },
  {
   "cell_type": "markdown",
   "metadata": {
    "id": "CkAVnf5geCBu"
   },
   "source": [
    "- We create an empty set fibonacci_set to store the first 5 Fibonacci numbers.\n",
    "- We initialize two variables a and b to 0 and 1 respectively, as the first two Fibonacci numbers.\n",
    "- We use a for loop to generate the first 5 Fibonacci numbers. The loop iterates 5 times.\n",
    "- Inside the loop, we add the current value of a (which is a Fibonacci number) to the fibonacci_set.\n",
    "- We update the values of a and b to calculate the next Fibonacci number. This is done by swapping the values: a becomes b and b becomes the sum of the previous a and b.\n",
    "- Once the loop finishes, we print the set of the first 5 Fibonacci numbers."
   ]
  },
  {
   "cell_type": "markdown",
   "metadata": {
    "id": "e79eA43neBxj"
   },
   "source": [
    "### 43. Remove duplicates from a list using sets."
   ]
  },
  {
   "cell_type": "code",
   "execution_count": 206,
   "metadata": {
    "colab": {
     "base_uri": "https://localhost:8080/"
    },
    "id": "a2LuC0UlYhfa",
    "outputId": "71051986-ed93-4568-8753-57a789dcfcb0"
   },
   "outputs": [
    {
     "name": "stdout",
     "output_type": "stream",
     "text": [
      "Original List: [2, 4, 6, 8, 4, 10, 6, 12, 14, 8]\n",
      "List with Duplicates Removed: [2, 4, 6, 8, 10, 12, 14]\n"
     ]
    }
   ],
   "source": [
    "# Step 1: Define a list with duplicates\n",
    "original_list = [2, 4, 6, 8, 4, 10, 6, 12, 14, 8]\n",
    "\n",
    "# Step 2: Convert the list to a set\n",
    "unique_set = set(original_list)\n",
    "# Now, 'unique_set' contains only unique elements from 'original_list'\n",
    "\n",
    "# Step 3: Convert the set back to a list\n",
    "unique_list = list(unique_set)\n",
    "# Now, 'unique_list' is a list containing only unique elements\n",
    "\n",
    "# Step 4: Print the original list and the list with duplicates removed\n",
    "print(\"Original List:\", original_list)\n",
    "print(\"List with Duplicates Removed:\", unique_list)"
   ]
  },
  {
   "cell_type": "markdown",
   "metadata": {
    "id": "r-R71qO9eHd_"
   },
   "source": [
    "- We start by defining an original_list that contains duplicate elements.\n",
    "- We use the set() function to convert the original_list into a set. Sets are collections that automatically remove duplicate elements, so this step effectively removes duplicates from the list. The variable unique_set now contains only the unique elements from the original list.\n",
    "- We convert the unique_set back into a list using the list() function. This step is necessary if you need the final result as a list.\n",
    "- Finally, we print both the original list and the list with duplicates removed to see the difference."
   ]
  },
  {
   "cell_type": "markdown",
   "metadata": {
    "id": "FuiGcx2DeHTY"
   },
   "source": [
    "### 44. Check if two sets have the same elements, regardless of their count."
   ]
  },
  {
   "cell_type": "code",
   "execution_count": 207,
   "metadata": {
    "colab": {
     "base_uri": "https://localhost:8080/"
    },
    "id": "m4u4QzYEYhca",
    "outputId": "e2405910-5637-4ece-e4e5-35d41619d6c0"
   },
   "outputs": [
    {
     "name": "stdout",
     "output_type": "stream",
     "text": [
      "The sets have the same elements.\n"
     ]
    }
   ],
   "source": [
    "def have_same_elements(set1, set2):\n",
    "    # Convert the sets to lists and sort them\n",
    "    sorted_list1 = sorted(list(set1))\n",
    "    sorted_list2 = sorted(list(set2))\n",
    "\n",
    "    # Compare the sorted lists to check if they are equal\n",
    "    return sorted_list1 == sorted_list2\n",
    "\n",
    "# Example sets\n",
    "set1 = {1, 2, 3, 2, 1}\n",
    "set2 = {3, 1, 2}\n",
    "\n",
    "# Check if the sets have the same elements\n",
    "result = have_same_elements(set1, set2)\n",
    "\n",
    "# Print the result\n",
    "if result:\n",
    "    print(\"The sets have the same elements.\")\n",
    "else:\n",
    "    print(\"The sets do not have the same elements.\")"
   ]
  },
  {
   "cell_type": "markdown",
   "metadata": {
    "id": "TKf3Tj9jeJFh"
   },
   "source": [
    "- We define a function have_same_elements that takes two sets (set1 and set2) as its arguments.\n",
    "- Inside the function:\n",
    "- We convert the sets to lists using list(set1) and list(set2) to make them sortable.\n",
    "- We then sort both lists using the sorted function to ensure that the order of elements doesn't matter.\n",
    "- We use the equality operator == to compare the sorted lists sorted_list1 and sorted_list2.\n",
    "- The function returns True if the sorted lists are equal, indicating that the sets have the same elements (regardless of their count), and False otherwise.\n",
    "- We define example sets set1 and set2 with elements that are the same but might be in different orders or have different counts.\n",
    "- We call the have_same_elements function with set1 and set2 as arguments and store the result in the result variable.\n",
    "- Finally, we print a message based on the value of result, indicating whether the sets have the same elements or not."
   ]
  },
  {
   "cell_type": "markdown",
   "metadata": {
    "id": "93G2hKdmeI-Y"
   },
   "source": [
    "### 45. Create a set of the first `n` powers of 2"
   ]
  },
  {
   "cell_type": "code",
   "execution_count": 208,
   "metadata": {
    "colab": {
     "base_uri": "https://localhost:8080/"
    },
    "id": "oPHxj85mYhZQ",
    "outputId": "fd46c818-47ad-4602-a9c5-eff5db2ec8cd"
   },
   "outputs": [
    {
     "name": "stdout",
     "output_type": "stream",
     "text": [
      "{1, 2, 4, 8, 16}\n"
     ]
    }
   ],
   "source": [
    "def generate_powers_of_2(n):\n",
    "    # Initialize an empty set to store the powers of 2\n",
    "    powers_of_2 = set()\n",
    "\n",
    "    # Loop from 0 to n-1\n",
    "    for i in range(n):\n",
    "        # Calculate the current power of 2 using the exponentiation operator **\n",
    "        power = 2 ** i\n",
    "\n",
    "        # Add the current power of 2 to the set\n",
    "        powers_of_2.add(power)\n",
    "\n",
    "    # Return the set of powers of 2\n",
    "    return powers_of_2\n",
    "\n",
    "# Define the value of n\n",
    "n = 5\n",
    "\n",
    "# Call the function to generate the set of powers of 2\n",
    "powers_set = generate_powers_of_2(n)\n",
    "\n",
    "# Print the resulting set\n",
    "print(powers_set)"
   ]
  },
  {
   "cell_type": "markdown",
   "metadata": {
    "id": "vCG7ulCzeJ_5"
   },
   "source": [
    "- We define a function generate_powers_of_2 that takes an argument n, which represents the number of powers of 2 to generate.\n",
    "- Inside the function, we initialize an empty set powers_of_2 to store the powers of 2.\n",
    "- We use a for loop to iterate from 0 to n-1. In each iteration, we calculate the current power of 2 using the exponentiation operator **, where the exponent is i.\n",
    "- The calculated power of 2 is added to the powers_of_2 set using the add() method.\n",
    "- Once the loop is finished, the function returns the set powers_of_2 containing the generated powers of 2.\n",
    "- Outside the function, we define the value of n as 5 (you can change this value to generate a different number of powers).\n",
    "- We call the generate_powers_of_2 function with the value of n and store the resulting set in the powers_set variable.\n",
    "- Finally, we print the powers_set to see the set of the first n powers of 2."
   ]
  },
  {
   "cell_type": "markdown",
   "metadata": {
    "id": "qvtYZho-eJ3k"
   },
   "source": [
    "### 46. Find the common elements between a set and a list."
   ]
  },
  {
   "cell_type": "code",
   "execution_count": 209,
   "metadata": {
    "colab": {
     "base_uri": "https://localhost:8080/"
    },
    "id": "-nuX0tVHYhWq",
    "outputId": "094cfb35-4caa-4aa6-9bfc-a27cc68f3341"
   },
   "outputs": [
    {
     "name": "stdout",
     "output_type": "stream",
     "text": [
      "Common elements: [7, 9, 12]\n"
     ]
    }
   ],
   "source": [
    "# Step 1: Define a set and a list\n",
    "my_set = {3, 7, 9, 12, 15}\n",
    "my_list = [7, 12, 5, 9]\n",
    "\n",
    "# Step 2: Convert the list to a set for efficient comparison\n",
    "list_to_set = set(my_list)\n",
    "\n",
    "# Step 3: Initialize an empty list to store common elements\n",
    "common_elements = []\n",
    "\n",
    "# Step 4: Iterate through the elements in the set\n",
    "for element in my_set:\n",
    "    # Step 5: Check if the element is present in the converted set (list_to_set)\n",
    "    if element in list_to_set:\n",
    "        # Step 6: If the element is present in both the set and the list, add it to the common_elements list\n",
    "        common_elements.append(element)\n",
    "\n",
    "# Step 7: Print the common elements\n",
    "print(\"Common elements:\", common_elements)"
   ]
  },
  {
   "cell_type": "markdown",
   "metadata": {
    "id": "YAW_rPDleLQF"
   },
   "source": [
    "- We start by defining a set named my_set and a list named my_list that contain some elements.\n",
    "- To efficiently compare the elements, we convert the list to a set using the set() constructor. This step helps in faster membership testing.\n",
    "- We create an empty list called common_elements where we will store the elements that are common between the set and the list.\n",
    "- We start iterating through the elements in the set using a for loop.\n",
    "- Inside the loop, we check if the current element is present in the converted set (list_to_set) using the element in list_to_set syntax.\n",
    "- If the element is found in both the set and the list, we append it to the common_elements list.\n",
    "- After the loop is complete, we print the common_elements list which contains the common elements between the set and the list."
   ]
  },
  {
   "cell_type": "markdown",
   "metadata": {
    "id": "R0nrflvQeLId"
   },
   "source": [
    "### 47. Create a set of the first `n` triangular numbers.:\n",
    "\n",
    "Triangular numbers are a sequence of numbers that represent the number of dots in a triangular arrangement. The sequence starts with 1 and then each subsequent number is obtained by adding the next natural number.\n",
    "\n",
    "Mathematically, the $n^{th}$ triangular number, denoted as $T_n$, is given by the formula:\n",
    "\n",
    "$T_n$ $=$ $1+2+3+...+n=\\frac {n*(n + 1)}{2}$\n",
    "\n",
    "Visually, you can imagine triangular numbers by arranging dots in the shape of equilateral triangles:\n",
    "\n",
    "```\n",
    "   1       1 dot\n",
    "   1 1      3 dots\n",
    "   1 2 1     6 dots\n",
    "   1 2 3 1   10 dots\n",
    "```"
   ]
  },
  {
   "cell_type": "code",
   "execution_count": 210,
   "metadata": {
    "colab": {
     "base_uri": "https://localhost:8080/"
    },
    "id": "9a8YlPfNYhUF",
    "outputId": "5ece1900-e427-469d-9a94-b5042af973b6"
   },
   "outputs": [
    {
     "name": "stdin",
     "output_type": "stream",
     "text": [
      "Enter the value of n:  10\n"
     ]
    },
    {
     "name": "stdout",
     "output_type": "stream",
     "text": [
      "The set of the first 10 triangular numbers is: {1, 3, 36, 6, 10, 45, 15, 21, 55, 28}\n"
     ]
    }
   ],
   "source": [
    "def generate_triangular_numbers(n):\n",
    "    triangular_numbers = set()  # Create an empty set to store the triangular numbers\n",
    "    for i in range(1, n + 1):\n",
    "        triangular_number = i * (i + 1) // 2  # Calculate the ith triangular number using the formula\n",
    "        triangular_numbers.add(triangular_number)  # Add the calculated triangular number to the set\n",
    "    return triangular_numbers\n",
    "\n",
    "# Input the value of 'n'\n",
    "n = int(input(\"Enter the value of n: \"))\n",
    "\n",
    "# Call the function to generate the set of first 'n' triangular numbers\n",
    "triangular_set = generate_triangular_numbers(n)\n",
    "\n",
    "# Display the set of triangular numbers\n",
    "print(f\"The set of the first {n} triangular numbers is:\", triangular_set)"
   ]
  },
  {
   "cell_type": "markdown",
   "metadata": {
    "id": "B9d7MmcpeNCV"
   },
   "source": [
    "### 48. Check if a set contains another set as a subset."
   ]
  },
  {
   "cell_type": "code",
   "execution_count": 211,
   "metadata": {
    "colab": {
     "base_uri": "https://localhost:8080/"
    },
    "id": "DsTN_9R7YhQf",
    "outputId": "95e3a520-2b11-47bc-a5a2-1624c2bebc8b"
   },
   "outputs": [
    {
     "name": "stdout",
     "output_type": "stream",
     "text": [
      "set2 is a subset of set1\n"
     ]
    }
   ],
   "source": [
    "# Define two sets\n",
    "set1 = {1, 2, 3, 4, 5}\n",
    "set2 = {3, 4}\n",
    "\n",
    "# Check if set2 is a subset of set1\n",
    "is_subset = set2.issubset(set1)\n",
    "\n",
    "# Print the result\n",
    "if is_subset:\n",
    "    print(\"set2 is a subset of set1\")\n",
    "else:\n",
    "    print(\"set2 is not a subset of set1\")"
   ]
  },
  {
   "cell_type": "markdown",
   "metadata": {
    "id": "khuO_2p2eNuk"
   },
   "source": [
    "### 49. Create a set of alternating 1s and 0s of length `n`."
   ]
  },
  {
   "cell_type": "code",
   "execution_count": 212,
   "metadata": {
    "colab": {
     "base_uri": "https://localhost:8080/"
    },
    "id": "-wkNOB1YYhNc",
    "outputId": "58d6acb8-43aa-4dc4-a978-ad84721174d9"
   },
   "outputs": [
    {
     "name": "stdout",
     "output_type": "stream",
     "text": [
      "{0, 1}\n"
     ]
    }
   ],
   "source": [
    "def create_alternating_set(n):\n",
    "    # Initialize an empty set to store the alternating sequence.\n",
    "    alternating_set = set()\n",
    "\n",
    "    # Loop to generate alternating 1s and 0s.\n",
    "    for i in range(n):\n",
    "        # Alternate between adding 1 and 0 to the set based on whether i is even or odd.\n",
    "        if i % 2 == 0:\n",
    "            alternating_set.add(1)  # Add 1 if i is even.\n",
    "        else:\n",
    "            alternating_set.add(0)  # Add 0 if i is odd.\n",
    "\n",
    "    return alternating_set\n",
    "\n",
    "# Define the desired length of the alternating set.\n",
    "length_n = 10\n",
    "\n",
    "# Call the function to create the alternating set of length 'length_n'.\n",
    "result = create_alternating_set(length_n)\n",
    "\n",
    "# Print the resulting set.\n",
    "print(result)"
   ]
  },
  {
   "cell_type": "markdown",
   "metadata": {
    "id": "VpNAnj1OeO1x"
   },
   "source": [
    "### 50. Merge multiple sets into one."
   ]
  },
  {
   "cell_type": "code",
   "execution_count": 213,
   "metadata": {
    "colab": {
     "base_uri": "https://localhost:8080/"
    },
    "id": "xomwOAwIYhKu",
    "outputId": "d712318c-ccbf-4362-a504-42066b89eb2b"
   },
   "outputs": [
    {
     "name": "stdout",
     "output_type": "stream",
     "text": [
      "Merged Set: {1, 2, 3, 4, 5, 6, 7}\n"
     ]
    }
   ],
   "source": [
    "# Step 1: Create multiple sets\n",
    "set1 = {1, 2, 3}\n",
    "set2 = {3, 4, 5}\n",
    "set3 = {5, 6, 7}\n",
    "\n",
    "# Step 2: Use the union() method to merge sets\n",
    "merged_set = set1.union(set2, set3)\n",
    "\n",
    "# Alternatively, you can use the | operator\n",
    "# merged_set = set1 | set2 | set3\n",
    "\n",
    "# Step 3: Print the merged set\n",
    "print(\"Merged Set:\", merged_set)"
   ]
  },
  {
   "cell_type": "code",
   "execution_count": null,
   "metadata": {},
   "outputs": [],
   "source": []
  },
  {
   "cell_type": "code",
   "execution_count": null,
   "metadata": {},
   "outputs": [],
   "source": []
  },
  {
   "cell_type": "code",
   "execution_count": null,
   "metadata": {},
   "outputs": [],
   "source": []
  }
 ],
 "metadata": {
  "colab": {
   "provenance": []
  },
  "kernelspec": {
   "display_name": "Python 3 (ipykernel)",
   "language": "python",
   "name": "python3"
  },
  "language_info": {
   "codemirror_mode": {
    "name": "ipython",
    "version": 3
   },
   "file_extension": ".py",
   "mimetype": "text/x-python",
   "name": "python",
   "nbconvert_exporter": "python",
   "pygments_lexer": "ipython3",
   "version": "3.10.8"
  },
  "vscode": {
   "interpreter": {
    "hash": "ff4b1fca65a764b45acb559e482afe389d289dd599b9f8c5fd12ff5c2ea46a65"
   }
  }
 },
 "nbformat": 4,
 "nbformat_minor": 4
}
